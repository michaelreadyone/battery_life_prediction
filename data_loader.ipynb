{
 "cells": [
  {
   "cell_type": "code",
   "execution_count": 19,
   "id": "3c9d0654",
   "metadata": {},
   "outputs": [],
   "source": [
    "import numpy as np\n",
    "import pandas as pd\n",
    "import math\n",
    "import torch\n",
    "import torch.nn as nn\n",
    "from utils import get_train_test, setup_seed\n"
   ]
  },
  {
   "cell_type": "code",
   "execution_count": 35,
   "id": "a845cdb4",
   "metadata": {},
   "outputs": [],
   "source": [
    "def get_cell_df(data_type):\n",
    "    input_data_dict = {\n",
    "        \"CALCE\": \"./datasets/CALCE/CALCE.csv\",\n",
    "        \"matr\": \"./datasets/matr/matr.csv\"\n",
    "    }\n",
    "    wanted_columns = ['cycle', 'capacity', 'cell_name']\n",
    "    \n",
    "    if data_type == \"CALCE\":\n",
    "        df = pd.read_csv(input_data_dict[data_type])\n",
    "        return df[wanted_columns]\n",
    "    if data_type == \"matr\":\n",
    "        df = pd.read_csv(input_data_dict[data_type])\n",
    "        df[\"cycle\"] = df[\"cycle_index\"]\n",
    "        df[\"capacity\"] = df[\"discharge_capacity\"]\n",
    "        df[\"cell_name\"] = df[\"file_name\"]\n",
    "        return df[wanted_columns]\n",
    "        "
   ]
  },
  {
   "cell_type": "code",
   "execution_count": null,
   "id": "92c744f5",
   "metadata": {},
   "outputs": [],
   "source": [
    "def prepare_train_data():\n",
    "    pass"
   ]
  },
  {
   "cell_type": "markdown",
   "id": "e4676776",
   "metadata": {},
   "source": [
    "# Call model"
   ]
  },
  {
   "cell_type": "markdown",
   "id": "d1a4e9c6",
   "metadata": {},
   "source": [
    "# Train"
   ]
  },
  {
   "cell_type": "markdown",
   "id": "eb9a6cec",
   "metadata": {},
   "source": [
    "r"
   ]
  }
 ],
 "metadata": {
  "kernelspec": {
   "display_name": "py310",
   "language": "python",
   "name": "python3"
  },
  "language_info": {
   "codemirror_mode": {
    "name": "ipython",
    "version": 3
   },
   "file_extension": ".py",
   "mimetype": "text/x-python",
   "name": "python",
   "nbconvert_exporter": "python",
   "pygments_lexer": "ipython3",
   "version": "3.10.12"
  }
 },
 "nbformat": 4,
 "nbformat_minor": 5
}
