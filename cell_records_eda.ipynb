{
 "cells": [
  {
   "cell_type": "code",
   "execution_count": 2,
   "id": "cfe76ea3",
   "metadata": {},
   "outputs": [],
   "source": [
    "import pandas as pd\n",
    "import plotly.express as px\n"
   ]
  },
  {
   "cell_type": "code",
   "execution_count": 3,
   "id": "71eb8c4a",
   "metadata": {},
   "outputs": [
    {
     "data": {
      "application/vnd.microsoft.datawrangler.viewer.v0+json": {
       "columns": [
        {
         "name": "index",
         "rawType": "int64",
         "type": "integer"
        },
        {
         "name": "voltage",
         "rawType": "float64",
         "type": "float"
        },
        {
         "name": "current",
         "rawType": "float64",
         "type": "float"
        },
        {
         "name": "internal_resistance",
         "rawType": "float64",
         "type": "float"
        },
        {
         "name": "temperature",
         "rawType": "float64",
         "type": "float"
        },
        {
         "name": "charge_capacity",
         "rawType": "float64",
         "type": "float"
        },
        {
         "name": "discharge_capacity",
         "rawType": "float64",
         "type": "float"
        },
        {
         "name": "cycle_index",
         "rawType": "int64",
         "type": "integer"
        },
        {
         "name": "step_type",
         "rawType": "object",
         "type": "string"
        },
        {
         "name": "file_name",
         "rawType": "object",
         "type": "string"
        }
       ],
       "ref": "8db4b734-e654-47fb-9cb2-c3bd23726a45",
       "rows": [
        [
         "0",
         "2.799999952316284",
         "-0.4543743729591369",
         "0.0210793800652027",
         "30.624113082885746",
         "0.6852903643429072",
         "1.1768885668964293",
         "0",
         "discharge",
         "FastCharge_000000_CH19_structure"
        ],
        [
         "1",
         "2.800700664520264",
         "-0.6655345559120178",
         "0.0210793800652027",
         "30.85683250427246",
         "0.4611908567268803",
         "0.9488411090520572",
         "0",
         "discharge",
         "FastCharge_000000_CH19_structure"
        ],
        [
         "2",
         "2.801401376724243",
         "-0.8766947388648987",
         "0.0210793800652027",
         "31.08955192565918",
         "0.2370913491108535",
         "0.7207936512076853",
         "0",
         "discharge",
         "FastCharge_000000_CH19_structure"
        ],
        [
         "3",
         "2.8021020889282227",
         "-1.0878548622131348",
         "0.0210793800652027",
         "31.32227325439453",
         "0.0129918414948267",
         "0.4927461933633134",
         "0",
         "discharge",
         "FastCharge_000000_CH19_structure"
        ],
        [
         "4",
         "2.802802801132202",
         "-0.1100073456764221",
         "0.0210793800652027",
         "30.255373001098636",
         "1.0507791000000002",
         "1.5484872025153404",
         "0",
         "discharge",
         "FastCharge_000000_CH19_structure"
        ],
        [
         "5",
         "2.8035035133361816",
         "-0.1100002154707908",
         "0.0210793800652027",
         "30.258394241333008",
         "1.0507791000000002",
         "1.5484303674473816",
         "0",
         "discharge",
         "FastCharge_000000_CH19_structure"
        ],
        [
         "6",
         "2.804204225540161",
         "-0.1099930852651596",
         "0.0210793800652027",
         "30.26141357421875",
         "1.0507791000000002",
         "1.548373532379423",
         "0",
         "discharge",
         "FastCharge_000000_CH19_structure"
        ],
        [
         "7",
         "2.8049049377441406",
         "-0.1099859550595283",
         "0.0210793800652027",
         "30.264434814453125",
         "1.0507791000000002",
         "1.5483166973114644",
         "0",
         "discharge",
         "FastCharge_000000_CH19_structure"
        ],
        [
         "8",
         "2.80560564994812",
         "-0.1099788248538971",
         "0.0210793800652027",
         "30.267454147338867",
         "1.0507791000000002",
         "1.5482598622435058",
         "0",
         "discharge",
         "FastCharge_000000_CH19_structure"
        ],
        [
         "9",
         "2.8063063621521",
         "-0.113844022154808",
         "0.0210868753492832",
         "30.2729606628418",
         "1.051109978756266",
         "1.5485079559789343",
         "0",
         "discharge",
         "FastCharge_000000_CH19_structure"
        ],
        [
         "10",
         "2.807007074356079",
         "-3.135953903198242",
         "0.0269368235021829",
         "32.21617889404297",
         "1.309340777178856",
         "1.7864295552157614",
         "0",
         "discharge",
         "FastCharge_000000_CH19_structure"
        ],
        [
         "11",
         "2.8077077865600586",
         "-3.7595622539520255",
         "0.0281439442187547",
         "32.61834716796875",
         "1.3626259854165883",
         "1.835478244274",
         "0",
         "discharge",
         "FastCharge_000000_CH19_structure"
        ],
        [
         "12",
         "2.808408498764038",
         "-2.658605098724365",
         "0.0260127894580364",
         "31.91247940063477",
         "1.26855168476875",
         "1.7487239660149072",
         "0",
         "discharge",
         "FastCharge_000000_CH19_structure"
        ],
        [
         "13",
         "2.8091092109680176",
         "-1.5576483011245728",
         "0.023881634697318",
         "31.20660972595215",
         "1.174477384120971",
         "1.6619696877558694",
         "0",
         "discharge",
         "FastCharge_000000_CH19_structure"
        ],
        [
         "14",
         "2.809809923171997",
         "-0.4566913247108459",
         "0.0217504799365997",
         "30.500741958618164",
         "1.0804030834731326",
         "1.575215409496777",
         "0",
         "discharge",
         "FastCharge_000000_CH19_structure"
        ],
        [
         "15",
         "2.810510396957397",
         "-0.3275411128997803",
         "0.0210793800652027",
         "30.466917037963867",
         "0.8199135670023916",
         "1.3129372519873168",
         "0",
         "discharge",
         "FastCharge_000000_CH19_structure"
        ],
        [
         "16",
         "2.811211109161377",
         "-0.6450727581977844",
         "0.0210793800652027",
         "30.82500648498535",
         "0.4829328582563365",
         "0.9699811905358472",
         "0",
         "discharge",
         "FastCharge_000000_CH19_structure"
        ],
        [
         "17",
         "2.8119118213653564",
         "-0.9626044034957886",
         "0.0210793800652027",
         "31.18309593200684",
         "0.1459521495102813",
         "0.6270251290843776",
         "0",
         "discharge",
         "FastCharge_000000_CH19_structure"
        ],
        [
         "18",
         "2.812612533569336",
         "-0.8278545141220093",
         "0.0210793800652027",
         "31.009241104125977",
         "0.2889591828548832",
         "0.7724836337444407",
         "0",
         "discharge",
         "FastCharge_000000_CH19_structure"
        ],
        [
         "19",
         "2.8133132457733154",
         "-0.3476854860782623",
         "0.0210793800652027",
         "30.51010131835937",
         "0.7985451919223502",
         "1.2909568962261249",
         "0",
         "discharge",
         "FastCharge_000000_CH19_structure"
        ],
        [
         "20",
         "2.814013957977295",
         "-0.1100104972720146",
         "0.0210793800652027",
         "30.277814865112305",
         "1.0507791000000002",
         "1.547560404811985",
         "0",
         "discharge",
         "FastCharge_000000_CH19_structure"
        ],
        [
         "21",
         "2.8147146701812744",
         "-0.1100068166851997",
         "0.0210793800652027",
         "30.27652931213379",
         "1.0507791000000002",
         "1.5475021990445217",
         "0",
         "discharge",
         "FastCharge_000000_CH19_structure"
        ],
        [
         "22",
         "2.815415382385254",
         "-0.1100031360983848",
         "0.0210793800652027",
         "30.275243759155277",
         "1.0507791000000002",
         "1.5474439932770587",
         "0",
         "discharge",
         "FastCharge_000000_CH19_structure"
        ],
        [
         "23",
         "2.8161160945892334",
         "-0.1099994555115699",
         "0.0210793800652027",
         "30.27395820617676",
         "1.0507791000000002",
         "1.547385787509595",
         "0",
         "discharge",
         "FastCharge_000000_CH19_structure"
        ],
        [
         "24",
         "2.816816806793213",
         "-0.1099957823753357",
         "0.0210793800652027",
         "30.27267265319824",
         "1.0507791000000002",
         "1.547327581742132",
         "0",
         "discharge",
         "FastCharge_000000_CH19_structure"
        ],
        [
         "25",
         "2.8175175189971924",
         "-4.264348983764648",
         "0.0291213300079107",
         "32.94186019897461",
         "1.405770205281168",
         "1.8731750355372456",
         "0",
         "discharge",
         "FastCharge_000000_CH19_structure"
        ],
        [
         "26",
         "2.818218231201172",
         "-3.396521806716919",
         "0.0274414028972387",
         "32.38408279418945",
         "1.331614169280408",
         "1.8050342011232705",
         "0",
         "discharge",
         "FastCharge_000000_CH19_structure"
        ],
        [
         "27",
         "2.818918943405152",
         "-2.5286943912506104",
         "0.0257614757865667",
         "31.82630729675293",
         "1.2574581332796475",
         "1.7368933667092954",
         "0",
         "discharge",
         "FastCharge_000000_CH19_structure"
        ],
        [
         "28",
         "2.819619655609131",
         "-1.6608672142028809",
         "0.0240815486758947",
         "31.268529891967773",
         "1.1833020972788877",
         "1.6687525322953205",
         "0",
         "discharge",
         "FastCharge_000000_CH19_structure"
        ],
        [
         "29",
         "2.8203203678131104",
         "-0.7930399775505066",
         "0.0224016215652227",
         "30.710752487182617",
         "1.109146061278127",
         "1.600611697881345",
         "0",
         "discharge",
         "FastCharge_000000_CH19_structure"
        ],
        [
         "30",
         "2.82102108001709",
         "-0.2125077545642852",
         "0.0210793800652027",
         "30.378498077392575",
         "0.9419923912670908",
         "1.4362476982852614",
         "0",
         "discharge",
         "FastCharge_000000_CH19_structure"
        ],
        [
         "31",
         "2.8217217922210693",
         "-0.6940099000930786",
         "0.0210793800652027",
         "30.879920959472656",
         "0.4310573788665528",
         "0.9161786396592152",
         "0",
         "discharge",
         "FastCharge_000000_CH19_structure"
        ],
        [
         "32",
         "2.822422504425049",
         "-1.0497217178344729",
         "0.0210793800652027",
         "31.238849639892575",
         "0.0536026938159166",
         "0.5319604852849933",
         "0",
         "discharge",
         "FastCharge_000000_CH19_structure"
        ],
        [
         "33",
         "2.8231232166290283",
         "-0.7269452214241028",
         "0.0210793800652027",
         "30.89745712280273",
         "0.3961150291030562",
         "0.8804957836947658",
         "0",
         "discharge",
         "FastCharge_000000_CH19_structure"
        ],
        [
         "34",
         "2.823823928833008",
         "-0.4041686952114105",
         "0.0210793800652027",
         "30.55606460571289",
         "0.7386273643901958",
         "1.2290310821045385",
         "0",
         "discharge",
         "FastCharge_000000_CH19_structure"
        ],
        [
         "35",
         "2.8245246410369877",
         "-0.1969595104455948",
         "0.0212477091699838",
         "30.33683013916016",
         "1.0582095608361075",
         "1.5534588460057153",
         "0",
         "discharge",
         "FastCharge_000000_CH19_structure"
        ],
        [
         "36",
         "2.825225114822388",
         "-1.1779531240463257",
         "0.0231467112898826",
         "30.9504451751709",
         "1.142036116315336",
         "1.6300256052460034",
         "0",
         "discharge",
         "FastCharge_000000_CH19_structure"
        ],
        [
         "37",
         "2.825925827026367",
         "-2.1589467525482178",
         "0.0250457152724266",
         "31.56406021118164",
         "1.2258626717945649",
         "1.706592364486291",
         "0",
         "discharge",
         "FastCharge_000000_CH19_structure"
        ],
        [
         "38",
         "2.8266265392303467",
         "-3.1399405002593994",
         "0.0269447173923254",
         "32.177677154541016",
         "1.3096892272737934",
         "1.7831591237265791",
         "0",
         "discharge",
         "FastCharge_000000_CH19_structure"
        ],
        [
         "39",
         "2.827327251434326",
         "-4.120934009552002",
         "0.0288437195122241",
         "32.791290283203125",
         "1.3935157827529687",
         "1.8597258829668184",
         "0",
         "discharge",
         "FastCharge_000000_CH19_structure"
        ],
        [
         "40",
         "2.8280279636383057",
         "-0.1100030168890953",
         "0.0210793800652027",
         "30.28009796142578",
         "1.0507791000000002",
         "1.5463347007839603",
         "0",
         "discharge",
         "FastCharge_000000_CH19_structure"
        ],
        [
         "41",
         "2.828728675842285",
         "-0.1100041046738624",
         "0.0210793800652027",
         "30.275524139404297",
         "1.0507791000000002",
         "1.5462723365696216",
         "0",
         "discharge",
         "FastCharge_000000_CH19_structure"
        ],
        [
         "42",
         "2.8294293880462646",
         "-0.1100051999092102",
         "0.0210793800652027",
         "30.27094841003418",
         "1.0507791000000002",
         "1.5462099723552825",
         "0",
         "discharge",
         "FastCharge_000000_CH19_structure"
        ],
        [
         "43",
         "2.830130100250244",
         "-0.1100062876939773",
         "0.0210793800652027",
         "30.26637458801269",
         "1.0507791000000002",
         "1.5461476081409435",
         "0",
         "discharge",
         "FastCharge_000000_CH19_structure"
        ],
        [
         "44",
         "2.830830812454224",
         "-0.1100073829293251",
         "0.0210793800652027",
         "30.261798858642575",
         "1.0507791000000002",
         "1.5460852439266046",
         "0",
         "discharge",
         "FastCharge_000000_CH19_structure"
        ],
        [
         "45",
         "2.831531524658203",
         "-0.4223268628120422",
         "0.0210793800652027",
         "30.58898162841797",
         "0.7192973683114696",
         "1.2085910072567994",
         "0",
         "discharge",
         "FastCharge_000000_CH19_structure"
        ],
        [
         "46",
         "2.8322322368621826",
         "-0.9456310272216796",
         "0.0210793800652027",
         "31.140281677246094",
         "0.1638852792918922",
         "0.6431468338319992",
         "0",
         "discharge",
         "FastCharge_000000_CH19_structure"
        ],
        [
         "47",
         "2.832932949066162",
         "-0.8602671027183533",
         "0.0210793800652027",
         "31.068822860717773",
         "0.2544832981513639",
         "0.7353072915437642",
         "0",
         "discharge",
         "FastCharge_000000_CH19_structure"
        ],
        [
         "48",
         "2.8336336612701416",
         "-0.5202003121376038",
         "0.0210793800652027",
         "30.736764907836918",
         "0.6154102751206076",
         "1.102648543820731",
         "0",
         "discharge",
         "FastCharge_000000_CH19_structure"
        ],
        [
         "49",
         "2.834334373474121",
         "-0.180133506655693",
         "0.0210793800652027",
         "30.404708862304688",
         "0.9763372520898516",
         "1.4699897960976978",
         "0",
         "discharge",
         "FastCharge_000000_CH19_structure"
        ]
       ],
       "shape": {
        "columns": 9,
        "rows": 982000
       }
      },
      "text/html": [
       "<div>\n",
       "<style scoped>\n",
       "    .dataframe tbody tr th:only-of-type {\n",
       "        vertical-align: middle;\n",
       "    }\n",
       "\n",
       "    .dataframe tbody tr th {\n",
       "        vertical-align: top;\n",
       "    }\n",
       "\n",
       "    .dataframe thead th {\n",
       "        text-align: right;\n",
       "    }\n",
       "</style>\n",
       "<table border=\"1\" class=\"dataframe\">\n",
       "  <thead>\n",
       "    <tr style=\"text-align: right;\">\n",
       "      <th></th>\n",
       "      <th>voltage</th>\n",
       "      <th>current</th>\n",
       "      <th>internal_resistance</th>\n",
       "      <th>temperature</th>\n",
       "      <th>charge_capacity</th>\n",
       "      <th>discharge_capacity</th>\n",
       "      <th>cycle_index</th>\n",
       "      <th>step_type</th>\n",
       "      <th>file_name</th>\n",
       "    </tr>\n",
       "  </thead>\n",
       "  <tbody>\n",
       "    <tr>\n",
       "      <th>0</th>\n",
       "      <td>2.800000</td>\n",
       "      <td>-0.454374</td>\n",
       "      <td>0.021079</td>\n",
       "      <td>30.624113</td>\n",
       "      <td>0.685290</td>\n",
       "      <td>1.176889</td>\n",
       "      <td>0</td>\n",
       "      <td>discharge</td>\n",
       "      <td>FastCharge_000000_CH19_structure</td>\n",
       "    </tr>\n",
       "    <tr>\n",
       "      <th>1</th>\n",
       "      <td>2.800701</td>\n",
       "      <td>-0.665535</td>\n",
       "      <td>0.021079</td>\n",
       "      <td>30.856833</td>\n",
       "      <td>0.461191</td>\n",
       "      <td>0.948841</td>\n",
       "      <td>0</td>\n",
       "      <td>discharge</td>\n",
       "      <td>FastCharge_000000_CH19_structure</td>\n",
       "    </tr>\n",
       "    <tr>\n",
       "      <th>2</th>\n",
       "      <td>2.801401</td>\n",
       "      <td>-0.876695</td>\n",
       "      <td>0.021079</td>\n",
       "      <td>31.089552</td>\n",
       "      <td>0.237091</td>\n",
       "      <td>0.720794</td>\n",
       "      <td>0</td>\n",
       "      <td>discharge</td>\n",
       "      <td>FastCharge_000000_CH19_structure</td>\n",
       "    </tr>\n",
       "    <tr>\n",
       "      <th>3</th>\n",
       "      <td>2.802102</td>\n",
       "      <td>-1.087855</td>\n",
       "      <td>0.021079</td>\n",
       "      <td>31.322273</td>\n",
       "      <td>0.012992</td>\n",
       "      <td>0.492746</td>\n",
       "      <td>0</td>\n",
       "      <td>discharge</td>\n",
       "      <td>FastCharge_000000_CH19_structure</td>\n",
       "    </tr>\n",
       "    <tr>\n",
       "      <th>4</th>\n",
       "      <td>2.802803</td>\n",
       "      <td>-0.110007</td>\n",
       "      <td>0.021079</td>\n",
       "      <td>30.255373</td>\n",
       "      <td>1.050779</td>\n",
       "      <td>1.548487</td>\n",
       "      <td>0</td>\n",
       "      <td>discharge</td>\n",
       "      <td>FastCharge_000000_CH19_structure</td>\n",
       "    </tr>\n",
       "    <tr>\n",
       "      <th>...</th>\n",
       "      <td>...</td>\n",
       "      <td>...</td>\n",
       "      <td>...</td>\n",
       "      <td>...</td>\n",
       "      <td>...</td>\n",
       "      <td>...</td>\n",
       "      <td>...</td>\n",
       "      <td>...</td>\n",
       "      <td>...</td>\n",
       "    </tr>\n",
       "    <tr>\n",
       "      <th>981995</th>\n",
       "      <td>NaN</td>\n",
       "      <td>NaN</td>\n",
       "      <td>NaN</td>\n",
       "      <td>NaN</td>\n",
       "      <td>1.411677</td>\n",
       "      <td>NaN</td>\n",
       "      <td>490</td>\n",
       "      <td>charge</td>\n",
       "      <td>FastCharge_000000_CH19_structure</td>\n",
       "    </tr>\n",
       "    <tr>\n",
       "      <th>981996</th>\n",
       "      <td>NaN</td>\n",
       "      <td>NaN</td>\n",
       "      <td>NaN</td>\n",
       "      <td>NaN</td>\n",
       "      <td>1.413095</td>\n",
       "      <td>NaN</td>\n",
       "      <td>490</td>\n",
       "      <td>charge</td>\n",
       "      <td>FastCharge_000000_CH19_structure</td>\n",
       "    </tr>\n",
       "    <tr>\n",
       "      <th>981997</th>\n",
       "      <td>NaN</td>\n",
       "      <td>NaN</td>\n",
       "      <td>NaN</td>\n",
       "      <td>NaN</td>\n",
       "      <td>1.414514</td>\n",
       "      <td>NaN</td>\n",
       "      <td>490</td>\n",
       "      <td>charge</td>\n",
       "      <td>FastCharge_000000_CH19_structure</td>\n",
       "    </tr>\n",
       "    <tr>\n",
       "      <th>981998</th>\n",
       "      <td>NaN</td>\n",
       "      <td>NaN</td>\n",
       "      <td>NaN</td>\n",
       "      <td>NaN</td>\n",
       "      <td>1.415933</td>\n",
       "      <td>NaN</td>\n",
       "      <td>490</td>\n",
       "      <td>charge</td>\n",
       "      <td>FastCharge_000000_CH19_structure</td>\n",
       "    </tr>\n",
       "    <tr>\n",
       "      <th>981999</th>\n",
       "      <td>NaN</td>\n",
       "      <td>NaN</td>\n",
       "      <td>NaN</td>\n",
       "      <td>NaN</td>\n",
       "      <td>1.417352</td>\n",
       "      <td>NaN</td>\n",
       "      <td>490</td>\n",
       "      <td>charge</td>\n",
       "      <td>FastCharge_000000_CH19_structure</td>\n",
       "    </tr>\n",
       "  </tbody>\n",
       "</table>\n",
       "<p>982000 rows × 9 columns</p>\n",
       "</div>"
      ],
      "text/plain": [
       "         voltage   current  internal_resistance  temperature  charge_capacity  \\\n",
       "0       2.800000 -0.454374             0.021079    30.624113         0.685290   \n",
       "1       2.800701 -0.665535             0.021079    30.856833         0.461191   \n",
       "2       2.801401 -0.876695             0.021079    31.089552         0.237091   \n",
       "3       2.802102 -1.087855             0.021079    31.322273         0.012992   \n",
       "4       2.802803 -0.110007             0.021079    30.255373         1.050779   \n",
       "...          ...       ...                  ...          ...              ...   \n",
       "981995       NaN       NaN                  NaN          NaN         1.411677   \n",
       "981996       NaN       NaN                  NaN          NaN         1.413095   \n",
       "981997       NaN       NaN                  NaN          NaN         1.414514   \n",
       "981998       NaN       NaN                  NaN          NaN         1.415933   \n",
       "981999       NaN       NaN                  NaN          NaN         1.417352   \n",
       "\n",
       "        discharge_capacity  cycle_index  step_type  \\\n",
       "0                 1.176889            0  discharge   \n",
       "1                 0.948841            0  discharge   \n",
       "2                 0.720794            0  discharge   \n",
       "3                 0.492746            0  discharge   \n",
       "4                 1.548487            0  discharge   \n",
       "...                    ...          ...        ...   \n",
       "981995                 NaN          490     charge   \n",
       "981996                 NaN          490     charge   \n",
       "981997                 NaN          490     charge   \n",
       "981998                 NaN          490     charge   \n",
       "981999                 NaN          490     charge   \n",
       "\n",
       "                               file_name  \n",
       "0       FastCharge_000000_CH19_structure  \n",
       "1       FastCharge_000000_CH19_structure  \n",
       "2       FastCharge_000000_CH19_structure  \n",
       "3       FastCharge_000000_CH19_structure  \n",
       "4       FastCharge_000000_CH19_structure  \n",
       "...                                  ...  \n",
       "981995  FastCharge_000000_CH19_structure  \n",
       "981996  FastCharge_000000_CH19_structure  \n",
       "981997  FastCharge_000000_CH19_structure  \n",
       "981998  FastCharge_000000_CH19_structure  \n",
       "981999  FastCharge_000000_CH19_structure  \n",
       "\n",
       "[982000 rows x 9 columns]"
      ]
     },
     "execution_count": 3,
     "metadata": {},
     "output_type": "execute_result"
    }
   ],
   "source": [
    "file_path = './datasets/matr/cell_records/cell_recordsFastCharge_000000_CH19_structure.parquet'\n",
    "\n",
    "df = pd.read_parquet(file_path)\n",
    "df"
   ]
  },
  {
   "cell_type": "code",
   "execution_count": 4,
   "id": "82353f10",
   "metadata": {},
   "outputs": [
    {
     "data": {
      "text/plain": [
       "array([  0,   1,   2,   3,   4,   5,   6,   7,   8,   9,  10,  11,  12,\n",
       "        13,  14,  15,  16,  17,  18,  19,  20,  21,  22,  23,  24,  25,\n",
       "        26,  27,  28,  29,  30,  31,  32,  33,  34,  35,  36,  37,  38,\n",
       "        39,  40,  41,  42,  43,  44,  45,  46,  47,  48,  49,  50,  51,\n",
       "        52,  53,  54,  55,  56,  57,  58,  59,  60,  61,  62,  63,  64,\n",
       "        65,  66,  67,  68,  69,  70,  71,  72,  73,  74,  75,  76,  77,\n",
       "        78,  79,  80,  81,  82,  83,  84,  85,  86,  87,  88,  89,  90,\n",
       "        91,  92,  93,  94,  95,  96,  97,  98,  99, 100, 101, 102, 103,\n",
       "       104, 105, 106, 107, 108, 109, 110, 111, 112, 113, 114, 115, 116,\n",
       "       117, 118, 119, 120, 121, 122, 123, 124, 125, 126, 127, 128, 129,\n",
       "       130, 131, 132, 133, 134, 135, 136, 137, 138, 139, 140, 141, 142,\n",
       "       143, 144, 145, 146, 147, 148, 149, 150, 151, 152, 153, 154, 155,\n",
       "       156, 157, 158, 159, 160, 161, 162, 163, 164, 165, 166, 167, 168,\n",
       "       169, 170, 171, 172, 173, 174, 175, 176, 177, 178, 179, 180, 181,\n",
       "       182, 183, 184, 185, 186, 187, 188, 189, 190, 191, 192, 193, 194,\n",
       "       195, 196, 197, 198, 199, 200, 201, 202, 203, 204, 205, 206, 207,\n",
       "       208, 209, 210, 211, 212, 213, 214, 215, 216, 217, 218, 219, 220,\n",
       "       221, 222, 223, 224, 225, 226, 227, 228, 229, 230, 231, 232, 233,\n",
       "       234, 235, 236, 237, 238, 239, 240, 241, 242, 243, 244, 245, 246,\n",
       "       247, 248, 249, 250, 251, 252, 253, 254, 255, 256, 257, 258, 259,\n",
       "       260, 261, 262, 263, 264, 265, 266, 267, 268, 269, 270, 271, 272,\n",
       "       273, 274, 275, 276, 277, 278, 279, 280, 281, 282, 283, 284, 285,\n",
       "       286, 287, 288, 289, 290, 291, 292, 293, 294, 295, 296, 297, 298,\n",
       "       299, 300, 301, 302, 303, 304, 305, 306, 307, 308, 309, 310, 311,\n",
       "       312, 313, 314, 315, 316, 317, 318, 319, 320, 321, 322, 323, 324,\n",
       "       325, 326, 327, 328, 329, 330, 331, 332, 333, 334, 335, 336, 337,\n",
       "       338, 339, 340, 341, 342, 343, 344, 345, 346, 347, 348, 349, 350,\n",
       "       351, 352, 353, 354, 355, 356, 357, 358, 359, 360, 361, 362, 363,\n",
       "       364, 365, 366, 367, 368, 369, 370, 371, 372, 373, 374, 375, 376,\n",
       "       377, 378, 379, 380, 381, 382, 383, 384, 385, 386, 387, 388, 389,\n",
       "       390, 391, 392, 393, 394, 395, 396, 397, 398, 399, 400, 401, 402,\n",
       "       403, 404, 405, 406, 407, 408, 409, 410, 411, 412, 413, 414, 415,\n",
       "       416, 417, 418, 419, 420, 421, 422, 423, 424, 425, 426, 427, 428,\n",
       "       429, 430, 431, 432, 433, 434, 435, 436, 437, 438, 439, 440, 441,\n",
       "       442, 443, 444, 445, 446, 447, 448, 449, 450, 451, 452, 453, 454,\n",
       "       455, 456, 457, 458, 459, 460, 461, 462, 463, 464, 465, 466, 467,\n",
       "       468, 469, 470, 471, 472, 473, 474, 475, 476, 477, 478, 479, 480,\n",
       "       481, 482, 483, 484, 485, 486, 487, 488, 489, 490])"
      ]
     },
     "execution_count": 4,
     "metadata": {},
     "output_type": "execute_result"
    }
   ],
   "source": [
    "df[\"cycle_index\"].unique()"
   ]
  },
  {
   "cell_type": "code",
   "execution_count": 5,
   "id": "3568701f",
   "metadata": {},
   "outputs": [],
   "source": [
    "df = df[df[\"discharge_capacity\"] > 0.0001]\n",
    "df = df[(df[\"cycle_index\"] > 0) & (df[\"cycle_index\"] < 500)]\n",
    "df = df[df[\"cycle_index\"] % 50 == 1]\n",
    "df_1 = df[df[\"cycle_index\"] == 1]\n",
    "df_1 = df_1[df_1[\"discharge_capacity\"] > 0.0001]"
   ]
  },
  {
   "cell_type": "code",
   "execution_count": 6,
   "id": "bcc2ad80",
   "metadata": {},
   "outputs": [
    {
     "data": {
      "application/vnd.plotly.v1+json": {
       "config": {
        "plotlyServerURL": "https://plot.ly"
       },
       "data": [
        {
         "hovertemplate": "voltage=%{x}<br>discharge_capacity=%{y}<br>cycle_index=%{marker.color}<extra></extra>",
         "legendgroup": "",
         "marker": {
          "color": {
           "bdata": "AQABAAEAAQABAAEAAQABAAEAAQABAAEAAQABAAEAAQABAAEAAQABAAEAAQABAAEAAQABAAEAAQABAAEAAQABAAEAAQABAAEAAQABAAEAAQABAAEAAQABAAEAAQABAAEAAQABAAEAAQABAAEAAQABAAEAAQABAAEAAQABAAEAAQABAAEAAQABAAEAAQABAAEAAQABAAEAAQABAAEAAQABAAEAAQABAAEAAQABAAEAAQABAAEAAQABAAEAAQABAAEAAQABAAEAAQABAAEAAQABAAEAAQABAAEAAQABAAEAAQABAAEAAQABAAEAAQABAAEAAQABAAEAAQABAAEAAQABAAEAAQABAAEAAQABAAEAAQABAAEAAQABAAEAAQABAAEAAQABAAEAAQABAAEAAQABAAEAAQABAAEAAQABAAEAAQABAAEAAQABAAEAAQABAAEAAQABAAEAAQABAAEAAQABAAEAAQABAAEAAQABAAEAAQABAAEAAQABAAEAAQABAAEAAQABAAEAAQABAAEAAQABAAEAAQABAAEAAQABAAEAAQABAAEAAQABAAEAAQABAAEAAQABAAEAAQABAAEAAQABAAEAAQABAAEAAQABAAEAAQABAAEAAQABAAEAAQABAAEAAQABAAEAAQABAAEAAQABAAEAAQABAAEAAQABAAEAAQABAAEAAQABAAEAAQABAAEAAQABAAEAAQABAAEAAQABAAEAAQABAAEAAQABAAEAAQABAAEAAQABAAEAAQABAAEAAQABAAEAAQABAAEAAQABAAEAAQABAAEAAQABAAEAAQABAAEAAQABAAEAAQABAAEAAQABAAEAAQABAAEAAQABAAEAAQABAAEAAQABAAEAAQABAAEAAQABAAEAAQABAAEAAQABAAEAAQABAAEAAQABAAEAAQABAAEAAQABAAEAAQABAAEAAQABAAEAAQABAAEAAQABAAEAAQABAAEAAQABAAEAAQABAAEAAQABAAEAAQABAAEAAQABAAEAAQABAAEAAQABAAEAAQABAAEAAQABAAEAAQABAAEAAQABAAEAAQABAAEAAQABAAEAAQABAAEAAQABAAEAAQABAAEAAQABAAEAAQABAAEAAQABAAEAAQABAAEAAQABAAEAAQABAAEAAQABAAEAAQABAAEAAQABAAEAAQABAAEAAQABAAEAAQABAAEAAQABAAEAAQABAAEAAQABAAEAAQABAAEAAQABAAEAAQABAAEAAQABAAEAAQABAAEAAQABAAEAAQABAAEAAQABAAEAAQABAAEAAQABAAEAAQABAAEAAQABAAEAAQABAAEAAQABAAEAAQABAAEAAQABAAEAAQABAAEAAQABAAEAAQABAAEAAQABAAEAAQABAAEAAQABAAEAAQABAAEAAQABAAEAAQABAAEAAQABAAEAAQABAAEAAQABAAEAAQABAAEAAQABAAEAAQABAAEAAQABAAEAAQABAAEAAQABAAEAAQABAAEAAQABAAEAAQABAAEAAQABAAEAAQABAAEAAQABAAEAAQABAAEAAQABAAEAAQABAAEAAQABAAEAAQABAAEAAQABAAEAAQABAAEAAQABAAEAAQABAAEAAQABAAEAAQABAAEAAQABAAEAAQABAAEAAQABAAEAAQABAAEAAQABAAEAAQABAAEAAQABAAEAAQABAAEAAQABAAEAAQABAAEAAQABAAEAAQABAAEAAQABAAEAAQABAAEAAQABAAEAAQABAAEAAQABAAEAAQABAAEAAQABAAEAAQABAAEAAQABAAEAAQABAAEAAQABAAEAAQABAAEAAQABAAEAAQABAAEAAQABAAEAAQABAAEAAQABAAEAAQABAAEAAQABAAEAAQABAAEAAQABAAEAAQABAAEAAQABAAEAAQABAAEAAQABAAEAAQABAAEAAQABAAEAAQABAAEAAQABAAEAAQABAAEAAQABAAEAAQABAAEAAQABAAEAAQABAAEAAQABAAEAAQABAAEAAQABAAEAAQABAAEAAQABAAEAAQABAAEAAQABAAEAAQABAAEAAQABAAEAAQABAAEAAQABAAEAAQABAAEAAQABAAEAAQABAAEAAQABAAEAAQABAAEAAQABAAEAAQABAAEAAQABAAEAAQABAAEAAQABAAEAAQABAAEAAQABAAEAAQABAAEAAQABAAEAAQABAAEAAQABAAEAAQABAAEAAQABAAEAAQABAAEAAQABAAEAAQABAAEAAQABAAEAAQABAAEAAQABAAEAAQABAAEAAQABAAEAAQABAAEAAQABAAEAAQABAAEAAQABAAEAAQABAAEAAQABAAEAAQABAAEAAQABAAEAAQABAAEAAQABAAEAAQABAAEAAQABAAEAAQABAAEAAQABAAEAAQABAAEAAQABAAEAAQABAAEAAQABAAEAAQABAAEAAQABAAEAAQABAAEAAQABAAEAAQABAAEAAQABAAEAAQABAAEAAQABADMAMwAzADMAMwAzADMAMwAzADMAMwAzADMAMwAzADMAMwAzADMAMwAzADMAMwAzADMAMwAzADMAMwAzADMAMwAzADMAMwAzADMAMwAzADMAMwAzADMAMwAzADMAMwAzADMAMwAzADMAMwAzADMAMwAzADMAMwAzADMAMwAzADMAMwAzADMAMwAzADMAMwAzADMAMwAzADMAMwAzADMAMwAzADMAMwAzADMAMwAzADMAMwAzADMAMwAzADMAMwAzADMAMwAzADMAMwAzADMAMwAzADMAMwAzADMAMwAzADMAMwAzADMAMwAzADMAMwAzADMAMwAzADMAMwAzADMAMwAzADMAMwAzADMAMwAzADMAMwAzADMAMwAzADMAMwAzADMAMwAzADMAMwAzADMAMwAzADMAMwAzADMAMwAzADMAMwAzADMAMwAzADMAMwAzADMAMwAzADMAMwAzADMAMwAzADMAMwAzADMAMwAzADMAMwAzADMAMwAzADMAMwAzADMAMwAzADMAMwAzADMAMwAzADMAMwAzADMAMwAzADMAMwAzADMAMwAzADMAMwAzADMAMwAzADMAMwAzADMAMwAzADMAMwAzADMAMwAzADMAMwAzADMAMwAzADMAMwAzADMAMwAzADMAMwAzADMAMwAzADMAMwAzADMAMwAzADMAMwAzADMAMwAzADMAMwAzADMAMwAzADMAMwAzADMAMwAzADMAMwAzADMAMwAzADMAMwAzADMAMwAzADMAMwAzADMAMwAzADMAMwAzADMAMwAzADMAMwAzADMAMwAzADMAMwAzADMAMwAzADMAMwAzADMAMwAzADMAMwAzADMAMwAzADMAMwAzADMAMwAzADMAMwAzADMAMwAzADMAMwAzADMAMwAzADMAMwAzADMAMwAzADMAMwAzADMAMwAzADMAMwAzADMAMwAzADMAMwAzADMAMwAzADMAMwAzADMAMwAzADMAMwAzADMAMwAzADMAMwAzADMAMwAzADMAMwAzADMAMwAzADMAMwAzADMAMwAzADMAMwAzADMAMwAzADMAMwAzADMAMwAzADMAMwAzADMAMwAzADMAMwAzADMAMwAzADMAMwAzADMAMwAzADMAMwAzADMAMwAzADMAMwAzADMAMwAzADMAMwAzADMAMwAzADMAMwAzADMAMwAzADMAMwAzADMAMwAzADMAMwAzADMAMwAzADMAMwAzADMAMwAzADMAMwAzADMAMwAzADMAMwAzADMAMwAzADMAMwAzADMAMwAzADMAMwAzADMAMwAzADMAMwAzADMAMwAzADMAMwAzADMAMwAzADMAMwAzADMAMwAzADMAMwAzADMAMwAzADMAMwAzADMAMwAzADMAMwAzADMAMwAzADMAMwAzADMAMwAzADMAMwAzADMAMwAzADMAMwAzADMAMwAzADMAMwAzADMAMwAzADMAMwAzADMAMwAzADMAMwAzADMAMwAzADMAMwAzADMAMwAzADMAMwAzADMAMwAzADMAMwAzADMAMwAzADMAMwAzADMAMwAzADMAMwAzADMAMwAzADMAMwAzADMAMwAzADMAMwAzADMAMwAzADMAMwAzADMAMwAzADMAMwAzADMAMwAzADMAMwAzADMAMwAzADMAMwAzADMAMwAzADMAMwAzADMAMwAzADMAMwAzADMAMwAzADMAMwAzADMAMwAzADMAMwAzADMAMwAzADMAMwAzADMAMwAzADMAMwAzADMAMwAzADMAMwAzADMAMwAzADMAMwAzADMAMwAzADMAMwAzADMAMwAzADMAMwAzADMAMwAzADMAMwAzADMAMwAzADMAMwAzADMAMwAzADMAMwAzADMAMwAzADMAMwAzADMAMwAzADMAMwAzADMAMwAzADMAMwAzADMAMwAzADMAMwAzADMAMwAzADMAMwAzADMAMwAzADMAMwAzADMAMwAzADMAMwAzADMAMwAzADMAMwAzADMAMwAzADMAMwAzADMAMwAzADMAMwAzADMAMwAzADMAMwAzADMAMwAzADMAMwAzADMAMwAzADMAMwAzADMAMwAzADMAMwAzADMAMwAzADMAMwAzADMAMwAzADMAMwAzADMAMwAzADMAMwAzADMAMwAzADMAMwAzADMAMwAzADMAMwAzADMAMwAzADMAMwAzADMAMwAzADMAMwAzADMAMwAzADMAMwAzADMAMwAzADMAMwAzADMAMwAzADMAMwAzADMAMwAzADMAMwAzADMAMwAzADMAMwAzADMAMwAzADMAMwAzADMAMwAzADMAMwAzADMAMwAzADMAMwAzADMAMwAzADMAMwAzADMAMwAzADMAMwAzADMAMwAzADMAMwAzADMAMwAzADMAMwAzADMAMwAzADMAMwAzADMAMwAzADMAMwAzADMAMwAzADMAMwAzADMAMwAzADMAMwAzADMAMwAzADMAMwAzADMAMwAzADMAMwAzADMAMwAzADMAMwAzADMAMwAzAGUAZQBlAGUAZQBlAGUAZQBlAGUAZQBlAGUAZQBlAGUAZQBlAGUAZQBlAGUAZQBlAGUAZQBlAGUAZQBlAGUAZQBlAGUAZQBlAGUAZQBlAGUAZQBlAGUAZQBlAGUAZQBlAGUAZQBlAGUAZQBlAGUAZQBlAGUAZQBlAGUAZQBlAGUAZQBlAGUAZQBlAGUAZQBlAGUAZQBlAGUAZQBlAGUAZQBlAGUAZQBlAGUAZQBlAGUAZQBlAGUAZQBlAGUAZQBlAGUAZQBlAGUAZQBlAGUAZQBlAGUAZQBlAGUAZQBlAGUAZQBlAGUAZQBlAGUAZQBlAGUAZQBlAGUAZQBlAGUAZQBlAGUAZQBlAGUAZQBlAGUAZQBlAGUAZQBlAGUAZQBlAGUAZQBlAGUAZQBlAGUAZQBlAGUAZQBlAGUAZQBlAGUAZQBlAGUAZQBlAGUAZQBlAGUAZQBlAGUAZQBlAGUAZQBlAGUAZQBlAGUAZQBlAGUAZQBlAGUAZQBlAGUAZQBlAGUAZQBlAGUAZQBlAGUAZQBlAGUAZQBlAGUAZQBlAGUAZQBlAGUAZQBlAGUAZQBlAGUAZQBlAGUAZQBlAGUAZQBlAGUAZQBlAGUAZQBlAGUAZQBlAGUAZQBlAGUAZQBlAGUAZQBlAGUAZQBlAGUAZQBlAGUAZQBlAGUAZQBlAGUAZQBlAGUAZQBlAGUAZQBlAGUAZQBlAGUAZQBlAGUAZQBlAGUAZQBlAGUAZQBlAGUAZQBlAGUAZQBlAGUAZQBlAGUAZQBlAGUAZQBlAGUAZQBlAGUAZQBlAGUAZQBlAGUAZQBlAGUAZQBlAGUAZQBlAGUAZQBlAGUAZQBlAGUAZQBlAGUAZQBlAGUAZQBlAGUAZQBlAGUAZQBlAGUAZQBlAGUAZQBlAGUAZQBlAGUAZQBlAGUAZQBlAGUAZQBlAGUAZQBlAGUAZQBlAGUAZQBlAGUAZQBlAGUAZQBlAGUAZQBlAGUAZQBlAGUAZQBlAGUAZQBlAGUAZQBlAGUAZQBlAGUAZQBlAGUAZQBlAGUAZQBlAGUAZQBlAGUAZQBlAGUAZQBlAGUAZQBlAGUAZQBlAGUAZQBlAGUAZQBlAGUAZQBlAGUAZQBlAGUAZQBlAGUAZQBlAGUAZQBlAGUAZQBlAGUAZQBlAGUAZQBlAGUAZQBlAGUAZQBlAGUAZQBlAGUAZQBlAGUAZQBlAGUAZQBlAGUAZQBlAGUAZQBlAGUAZQBlAGUAZQBlAGUAZQBlAGUAZQBlAGUAZQBlAGUAZQBlAGUAZQBlAGUAZQBlAGUAZQBlAGUAZQBlAGUAZQBlAGUAZQBlAGUAZQBlAGUAZQBlAGUAZQBlAGUAZQBlAGUAZQBlAGUAZQBlAGUAZQBlAGUAZQBlAGUAZQBlAGUAZQBlAGUAZQBlAGUAZQBlAGUAZQBlAGUAZQBlAGUAZQBlAGUAZQBlAGUAZQBlAGUAZQBlAGUAZQBlAGUAZQBlAGUAZQBlAGUAZQBlAGUAZQBlAGUAZQBlAGUAZQBlAGUAZQBlAGUAZQBlAGUAZQBlAGUAZQBlAGUAZQBlAGUAZQBlAGUAZQBlAGUAZQBlAGUAZQBlAGUAZQBlAGUAZQBlAGUAZQBlAGUAZQBlAGUAZQBlAGUAZQBlAGUAZQBlAGUAZQBlAGUAZQBlAGUAZQBlAGUAZQBlAGUAZQBlAGUAZQBlAGUAZQBlAGUAZQBlAGUAZQBlAGUAZQBlAGUAZQBlAGUAZQBlAGUAZQBlAGUAZQBlAGUAZQBlAGUAZQBlAGUAZQBlAGUAZQBlAGUAZQBlAGUAZQBlAGUAZQBlAGUAZQBlAGUAZQBlAGUAZQBlAGUAZQBlAGUAZQBlAGUAZQBlAGUAZQBlAGUAZQBlAGUAZQBlAGUAZQBlAGUAZQBlAGUAZQBlAGUAZQBlAGUAZQBlAGUAZQBlAGUAZQBlAGUAZQBlAGUAZQBlAGUAZQBlAGUAZQBlAGUAZQBlAGUAZQBlAGUAZQBlAGUAZQBlAGUAZQBlAGUAZQBlAGUAZQBlAGUAZQBlAGUAZQBlAGUAZQBlAGUAZQBlAGUAZQBlAGUAZQBlAGUAZQBlAGUAZQBlAGUAZQBlAGUAZQBlAGUAZQBlAGUAZQBlAGUAZQBlAGUAZQBlAGUAZQBlAGUAZQBlAGUAZQBlAGUAZQBlAGUAZQBlAGUAZQBlAGUAZQBlAGUAZQBlAGUAZQBlAGUAZQBlAGUAZQBlAGUAZQBlAGUAZQBlAGUAZQBlAGUAZQBlAGUAZQBlAGUAZQBlAGUAZQBlAGUAZQBlAGUAZQBlAGUAZQBlAGUAZQBlAGUAZQBlAGUAZQBlAGUAZQBlAGUAZQBlAGUAZQBlAGUAZQBlAGUAZQBlAGUAZQBlAGUAZQBlAGUAZQBlAGUAZQBlAGUAZQBlAGUAZQBlAGUAZQBlAGUAZQBlAGUAZQBlAGUAZQBlAGUAZQBlAGUAZQBlAGUAZQBlAGUAZQBlAGUAZQBlAGUAZQBlAGUAZQBlAGUAZQBlAGUAZQBlAGUAZQBlAGUAZQBlAGUAZQBlAGUAZQBlAGUAZQBlAGUAZQBlAGUAZQBlAGUAZQBlAGUAZQBlAGUAZQBlAGUAZQBlAGUAZQBlAGUAZQBlAGUAZQBlAGUAZQBlAGUAZQBlAGUAlwCXAJcAlwCXAJcAlwCXAJcAlwCXAJcAlwCXAJcAlwCXAJcAlwCXAJcAlwCXAJcAlwCXAJcAlwCXAJcAlwCXAJcAlwCXAJcAlwCXAJcAlwCXAJcAlwCXAJcAlwCXAJcAlwCXAJcAlwCXAJcAlwCXAJcAlwCXAJcAlwCXAJcAlwCXAJcAlwCXAJcAlwCXAJcAlwCXAJcAlwCXAJcAlwCXAJcAlwCXAJcAlwCXAJcAlwCXAJcAlwCXAJcAlwCXAJcAlwCXAJcAlwCXAJcAlwCXAJcAlwCXAJcAlwCXAJcAlwCXAJcAlwCXAJcAlwCXAJcAlwCXAJcAlwCXAJcAlwCXAJcAlwCXAJcAlwCXAJcAlwCXAJcAlwCXAJcAlwCXAJcAlwCXAJcAlwCXAJcAlwCXAJcAlwCXAJcAlwCXAJcAlwCXAJcAlwCXAJcAlwCXAJcAlwCXAJcAlwCXAJcAlwCXAJcAlwCXAJcAlwCXAJcAlwCXAJcAlwCXAJcAlwCXAJcAlwCXAJcAlwCXAJcAlwCXAJcAlwCXAJcAlwCXAJcAlwCXAJcAlwCXAJcAlwCXAJcAlwCXAJcAlwCXAJcAlwCXAJcAlwCXAJcAlwCXAJcAlwCXAJcAlwCXAJcAlwCXAJcAlwCXAJcAlwCXAJcAlwCXAJcAlwCXAJcAlwCXAJcAlwCXAJcAlwCXAJcAlwCXAJcAlwCXAJcAlwCXAJcAlwCXAJcAlwCXAJcAlwCXAJcAlwCXAJcAlwCXAJcAlwCXAJcAlwCXAJcAlwCXAJcAlwCXAJcAlwCXAJcAlwCXAJcAlwCXAJcAlwCXAJcAlwCXAJcAlwCXAJcAlwCXAJcAlwCXAJcAlwCXAJcAlwCXAJcAlwCXAJcAlwCXAJcAlwCXAJcAlwCXAJcAlwCXAJcAlwCXAJcAlwCXAJcAlwCXAJcAlwCXAJcAlwCXAJcAlwCXAJcAlwCXAJcAlwCXAJcAlwCXAJcAlwCXAJcAlwCXAJcAlwCXAJcAlwCXAJcAlwCXAJcAlwCXAJcAlwCXAJcAlwCXAJcAlwCXAJcAlwCXAJcAlwCXAJcAlwCXAJcAlwCXAJcAlwCXAJcAlwCXAJcAlwCXAJcAlwCXAJcAlwCXAJcAlwCXAJcAlwCXAJcAlwCXAJcAlwCXAJcAlwCXAJcAlwCXAJcAlwCXAJcAlwCXAJcAlwCXAJcAlwCXAJcAlwCXAJcAlwCXAJcAlwCXAJcAlwCXAJcAlwCXAJcAlwCXAJcAlwCXAJcAlwCXAJcAlwCXAJcAlwCXAJcAlwCXAJcAlwCXAJcAlwCXAJcAlwCXAJcAlwCXAJcAlwCXAJcAlwCXAJcAlwCXAJcAlwCXAJcAlwCXAJcAlwCXAJcAlwCXAJcAlwCXAJcAlwCXAJcAlwCXAJcAlwCXAJcAlwCXAJcAlwCXAJcAlwCXAJcAlwCXAJcAlwCXAJcAlwCXAJcAlwCXAJcAlwCXAJcAlwCXAJcAlwCXAJcAlwCXAJcAlwCXAJcAlwCXAJcAlwCXAJcAlwCXAJcAlwCXAJcAlwCXAJcAlwCXAJcAlwCXAJcAlwCXAJcAlwCXAJcAlwCXAJcAlwCXAJcAlwCXAJcAlwCXAJcAlwCXAJcAlwCXAJcAlwCXAJcAlwCXAJcAlwCXAJcAlwCXAJcAlwCXAJcAlwCXAJcAlwCXAJcAlwCXAJcAlwCXAJcAlwCXAJcAlwCXAJcAlwCXAJcAlwCXAJcAlwCXAJcAlwCXAJcAlwCXAJcAlwCXAJcAlwCXAJcAlwCXAJcAlwCXAJcAlwCXAJcAlwCXAJcAlwCXAJcAlwCXAJcAlwCXAJcAlwCXAJcAlwCXAJcAlwCXAJcAlwCXAJcAlwCXAJcAlwCXAJcAlwCXAJcAlwCXAJcAlwCXAJcAlwCXAJcAlwCXAJcAlwCXAJcAlwCXAJcAlwCXAJcAlwCXAJcAlwCXAJcAlwCXAJcAlwCXAJcAlwCXAJcAlwCXAJcAlwCXAJcAlwCXAJcAlwCXAJcAlwCXAJcAlwCXAJcAlwCXAJcAlwCXAJcAlwCXAJcAlwCXAJcAlwCXAJcAlwCXAJcAlwCXAJcAlwCXAJcAlwCXAJcAlwCXAJcAlwCXAJcAlwCXAJcAlwCXAJcAlwCXAJcAlwCXAJcAlwCXAJcAlwCXAJcAlwCXAJcAlwCXAJcAlwCXAJcAlwCXAJcAlwCXAJcAlwCXAJcAlwCXAJcAlwCXAJcAlwCXAJcAlwCXAJcAlwCXAJcAlwCXAJcAlwCXAJcAlwCXAJcAlwCXAJcAlwCXAJcAlwCXAJcAlwCXAJcAlwCXAJcAlwCXAJcAlwCXAJcAlwCXAJcAlwCXAJcAlwCXAJcAlwCXAJcAlwCXAJcAlwCXAJcAlwCXAJcAlwCXAJcAlwCXAJcAlwCXAJcAlwCXAJcAlwCXAJcAlwCXAJcAlwCXAJcAlwCXAJcAlwCXAJcAlwCXAJcAlwCXAJcAlwCXAJcAlwCXAJcAlwCXAJcAlwCXAJcAlwCXAJcAlwCXAJcAlwCXAJcAlwCXAJcAlwCXAJcAlwCXAJcAlwCXAJcAlwCXAJcAlwCXAJcAlwCXAJcAlwCXAJcAlwCXAJcAlwCXAJcAlwCXAJcAlwCXAJcAlwCXAJcAlwCXAJcAlwCXAJcAlwCXAJcAlwDJAMkAyQDJAMkAyQDJAMkAyQDJAMkAyQDJAMkAyQDJAMkAyQDJAMkAyQDJAMkAyQDJAMkAyQDJAMkAyQDJAMkAyQDJAMkAyQDJAMkAyQDJAMkAyQDJAMkAyQDJAMkAyQDJAMkAyQDJAMkAyQDJAMkAyQDJAMkAyQDJAMkAyQDJAMkAyQDJAMkAyQDJAMkAyQDJAMkAyQDJAMkAyQDJAMkAyQDJAMkAyQDJAMkAyQDJAMkAyQDJAMkAyQDJAMkAyQDJAMkAyQDJAMkAyQDJAMkAyQDJAMkAyQDJAMkAyQDJAMkAyQDJAMkAyQDJAMkAyQDJAMkAyQDJAMkAyQDJAMkAyQDJAMkAyQDJAMkAyQDJAMkAyQDJAMkAyQDJAMkAyQDJAMkAyQDJAMkAyQDJAMkAyQDJAMkAyQDJAMkAyQDJAMkAyQDJAMkAyQDJAMkAyQDJAMkAyQDJAMkAyQDJAMkAyQDJAMkAyQDJAMkAyQDJAMkAyQDJAMkAyQDJAMkAyQDJAMkAyQDJAMkAyQDJAMkAyQDJAMkAyQDJAMkAyQDJAMkAyQDJAMkAyQDJAMkAyQDJAMkAyQDJAMkAyQDJAMkAyQDJAMkAyQDJAMkAyQDJAMkAyQDJAMkAyQDJAMkAyQDJAMkAyQDJAMkAyQDJAMkAyQDJAMkAyQDJAMkAyQDJAMkAyQDJAMkAyQDJAMkAyQDJAMkAyQDJAMkAyQDJAMkAyQDJAMkAyQDJAMkAyQDJAMkAyQDJAMkAyQDJAMkAyQDJAMkAyQDJAMkAyQDJAMkAyQDJAMkAyQDJAMkAyQDJAMkAyQDJAMkAyQDJAMkAyQDJAMkAyQDJAMkAyQDJAMkAyQDJAMkAyQDJAMkAyQDJAMkAyQDJAMkAyQDJAMkAyQDJAMkAyQDJAMkAyQDJAMkAyQDJAMkAyQDJAMkAyQDJAMkAyQDJAMkAyQDJAMkAyQDJAMkAyQDJAMkAyQDJAMkAyQDJAMkAyQDJAMkAyQDJAMkAyQDJAMkAyQDJAMkAyQDJAMkAyQDJAMkAyQDJAMkAyQDJAMkAyQDJAMkAyQDJAMkAyQDJAMkAyQDJAMkAyQDJAMkAyQDJAMkAyQDJAMkAyQDJAMkAyQDJAMkAyQDJAMkAyQDJAMkAyQDJAMkAyQDJAMkAyQDJAMkAyQDJAMkAyQDJAMkAyQDJAMkAyQDJAMkAyQDJAMkAyQDJAMkAyQDJAMkAyQDJAMkAyQDJAMkAyQDJAMkAyQDJAMkAyQDJAMkAyQDJAMkAyQDJAMkAyQDJAMkAyQDJAMkAyQDJAMkAyQDJAMkAyQDJAMkAyQDJAMkAyQDJAMkAyQDJAMkAyQDJAMkAyQDJAMkAyQDJAMkAyQDJAMkAyQDJAMkAyQDJAMkAyQDJAMkAyQDJAMkAyQDJAMkAyQDJAMkAyQDJAMkAyQDJAMkAyQDJAMkAyQDJAMkAyQDJAMkAyQDJAMkAyQDJAMkAyQDJAMkAyQDJAMkAyQDJAMkAyQDJAMkAyQDJAMkAyQDJAMkAyQDJAMkAyQDJAMkAyQDJAMkAyQDJAMkAyQDJAMkAyQDJAMkAyQDJAMkAyQDJAMkAyQDJAMkAyQDJAMkAyQDJAMkAyQDJAMkAyQDJAMkAyQDJAMkAyQDJAMkAyQDJAMkAyQDJAMkAyQDJAMkAyQDJAMkAyQDJAMkAyQDJAMkAyQDJAMkAyQDJAMkAyQDJAMkAyQDJAMkAyQDJAMkAyQDJAMkAyQDJAMkAyQDJAMkAyQDJAMkAyQDJAMkAyQDJAMkAyQDJAMkAyQDJAMkAyQDJAMkAyQDJAMkAyQDJAMkAyQDJAMkAyQDJAMkAyQDJAMkAyQDJAMkAyQDJAMkAyQDJAMkAyQDJAMkAyQDJAMkAyQDJAMkAyQDJAMkAyQDJAMkAyQDJAMkAyQDJAMkAyQDJAMkAyQDJAMkAyQDJAMkAyQDJAMkAyQDJAMkAyQDJAMkAyQDJAMkAyQDJAMkAyQDJAMkAyQDJAMkAyQDJAMkAyQDJAMkAyQDJAMkAyQDJAMkAyQDJAMkAyQDJAMkAyQDJAMkAyQDJAMkAyQDJAMkAyQDJAMkAyQDJAMkAyQDJAMkAyQDJAMkAyQDJAMkAyQDJAMkAyQDJAMkAyQDJAMkAyQDJAMkAyQDJAMkAyQDJAMkAyQDJAMkAyQDJAMkAyQDJAMkAyQDJAMkAyQDJAMkAyQDJAMkAyQDJAMkAyQDJAMkAyQDJAMkAyQDJAMkAyQDJAMkAyQDJAMkAyQDJAMkAyQDJAMkAyQDJAMkAyQDJAMkAyQDJAMkAyQDJAMkAyQDJAMkAyQDJAMkAyQDJAMkAyQDJAMkAyQDJAMkAyQDJAMkAyQDJAMkAyQDJAMkAyQDJAMkAyQDJAMkAyQDJAMkAyQDJAMkAyQDJAMkAyQDJAMkAyQDJAMkAyQDJAMkAyQDJAMkAyQDJAMkAyQDJAMkAyQDJAMkAyQDJAMkAyQDJAMkAyQDJAMkAyQDJAMkAyQDJAMkAyQDJAMkAyQDJAMkAyQDJAMkAyQDJAMkAyQDJAMkAyQDJAMkAyQDJAMkAyQDJAMkAyQDJAMkAyQDJAMkAyQDJAMkAyQDJAMkAyQDJAMkAyQDJAMkAyQDJAPsA+wD7APsA+wD7APsA+wD7APsA+wD7APsA+wD7APsA+wD7APsA+wD7APsA+wD7APsA+wD7APsA+wD7APsA+wD7APsA+wD7APsA+wD7APsA+wD7APsA+wD7APsA+wD7APsA+wD7APsA+wD7APsA+wD7APsA+wD7APsA+wD7APsA+wD7APsA+wD7APsA+wD7APsA+wD7APsA+wD7APsA+wD7APsA+wD7APsA+wD7APsA+wD7APsA+wD7APsA+wD7APsA+wD7APsA+wD7APsA+wD7APsA+wD7APsA+wD7APsA+wD7APsA+wD7APsA+wD7APsA+wD7APsA+wD7APsA+wD7APsA+wD7APsA+wD7APsA+wD7APsA+wD7APsA+wD7APsA+wD7APsA+wD7APsA+wD7APsA+wD7APsA+wD7APsA+wD7APsA+wD7APsA+wD7APsA+wD7APsA+wD7APsA+wD7APsA+wD7APsA+wD7APsA+wD7APsA+wD7APsA+wD7APsA+wD7APsA+wD7APsA+wD7APsA+wD7APsA+wD7APsA+wD7APsA+wD7APsA+wD7APsA+wD7APsA+wD7APsA+wD7APsA+wD7APsA+wD7APsA+wD7APsA+wD7APsA+wD7APsA+wD7APsA+wD7APsA+wD7APsA+wD7APsA+wD7APsA+wD7APsA+wD7APsA+wD7APsA+wD7APsA+wD7APsA+wD7APsA+wD7APsA+wD7APsA+wD7APsA+wD7APsA+wD7APsA+wD7APsA+wD7APsA+wD7APsA+wD7APsA+wD7APsA+wD7APsA+wD7APsA+wD7APsA+wD7APsA+wD7APsA+wD7APsA+wD7APsA+wD7APsA+wD7APsA+wD7APsA+wD7APsA+wD7APsA+wD7APsA+wD7APsA+wD7APsA+wD7APsA+wD7APsA+wD7APsA+wD7APsA+wD7APsA+wD7APsA+wD7APsA+wD7APsA+wD7APsA+wD7APsA+wD7APsA+wD7APsA+wD7APsA+wD7APsA+wD7APsA+wD7APsA+wD7APsA+wD7APsA+wD7APsA+wD7APsA+wD7APsA+wD7APsA+wD7APsA+wD7APsA+wD7APsA+wD7APsA+wD7APsA+wD7APsA+wD7APsA+wD7APsA+wD7APsA+wD7APsA+wD7APsA+wD7APsA+wD7APsA+wD7APsA+wD7APsA+wD7APsA+wD7APsA+wD7APsA+wD7APsA+wD7APsA+wD7APsA+wD7APsA+wD7APsA+wD7APsA+wD7APsA+wD7APsA+wD7APsA+wD7APsA+wD7APsA+wD7APsA+wD7APsA+wD7APsA+wD7APsA+wD7APsA+wD7APsA+wD7APsA+wD7APsA+wD7APsA+wD7APsA+wD7APsA+wD7APsA+wD7APsA+wD7APsA+wD7APsA+wD7APsA+wD7APsA+wD7APsA+wD7APsA+wD7APsA+wD7APsA+wD7APsA+wD7APsA+wD7APsA+wD7APsA+wD7APsA+wD7APsA+wD7APsA+wD7APsA+wD7APsA+wD7APsA+wD7APsA+wD7APsA+wD7APsA+wD7APsA+wD7APsA+wD7APsA+wD7APsA+wD7APsA+wD7APsA+wD7APsA+wD7APsA+wD7APsA+wD7APsA+wD7APsA+wD7APsA+wD7APsA+wD7APsA+wD7APsA+wD7APsA+wD7APsA+wD7APsA+wD7APsA+wD7APsA+wD7APsA+wD7APsA+wD7APsA+wD7APsA+wD7APsA+wD7APsA+wD7APsA+wD7APsA+wD7APsA+wD7APsA+wD7APsA+wD7APsA+wD7APsA+wD7APsA+wD7APsA+wD7APsA+wD7APsA+wD7APsA+wD7APsA+wD7APsA+wD7APsA+wD7APsA+wD7APsA+wD7APsA+wD7APsA+wD7APsA+wD7APsA+wD7APsA+wD7APsA+wD7APsA+wD7APsA+wD7APsA+wD7APsA+wD7APsA+wD7APsA+wD7APsA+wD7APsA+wD7APsA+wD7APsA+wD7APsA+wD7APsA+wD7APsA+wD7APsA+wD7APsA+wD7APsA+wD7APsA+wD7APsA+wD7APsA+wD7APsA+wD7APsA+wD7APsA+wD7APsA+wD7APsA+wD7APsA+wD7APsA+wD7APsA+wD7APsA+wD7APsA+wD7APsA+wD7APsA+wD7APsA+wD7APsA+wD7APsA+wD7APsA+wD7APsA+wD7APsA+wD7APsA+wD7APsA+wD7APsA+wD7APsA+wD7APsA+wD7APsA+wD7APsA+wD7APsA+wD7APsA+wD7APsA+wD7APsA+wD7APsA+wD7APsA+wD7APsA+wD7APsA+wD7APsA+wD7APsA+wD7APsA+wD7APsA+wD7APsA+wD7APsA+wD7APsA+wD7APsA+wD7APsA+wD7APsA+wD7APsA+wD7APsA+wD7APsA+wD7APsA+wD7APsA+wD7APsA+wD7APsA+wD7APsA+wD7APsA+wD7APsA+wD7APsA+wD7AC0BLQEtAS0BLQEtAS0BLQEtAS0BLQEtAS0BLQEtAS0BLQEtAS0BLQEtAS0BLQEtAS0BLQEtAS0BLQEtAS0BLQEtAS0BLQEtAS0BLQEtAS0BLQEtAS0BLQEtAS0BLQEtAS0BLQEtAS0BLQEtAS0BLQEtAS0BLQEtAS0BLQEtAS0BLQEtAS0BLQEtAS0BLQEtAS0BLQEtAS0BLQEtAS0BLQEtAS0BLQEtAS0BLQEtAS0BLQEtAS0BLQEtAS0BLQEtAS0BLQEtAS0BLQEtAS0BLQEtAS0BLQEtAS0BLQEtAS0BLQEtAS0BLQEtAS0BLQEtAS0BLQEtAS0BLQEtAS0BLQEtAS0BLQEtAS0BLQEtAS0BLQEtAS0BLQEtAS0BLQEtAS0BLQEtAS0BLQEtAS0BLQEtAS0BLQEtAS0BLQEtAS0BLQEtAS0BLQEtAS0BLQEtAS0BLQEtAS0BLQEtAS0BLQEtAS0BLQEtAS0BLQEtAS0BLQEtAS0BLQEtAS0BLQEtAS0BLQEtAS0BLQEtAS0BLQEtAS0BLQEtAS0BLQEtAS0BLQEtAS0BLQEtAS0BLQEtAS0BLQEtAS0BLQEtAS0BLQEtAS0BLQEtAS0BLQEtAS0BLQEtAS0BLQEtAS0BLQEtAS0BLQEtAS0BLQEtAS0BLQEtAS0BLQEtAS0BLQEtAS0BLQEtAS0BLQEtAS0BLQEtAS0BLQEtAS0BLQEtAS0BLQEtAS0BLQEtAS0BLQEtAS0BLQEtAS0BLQEtAS0BLQEtAS0BLQEtAS0BLQEtAS0BLQEtAS0BLQEtAS0BLQEtAS0BLQEtAS0BLQEtAS0BLQEtAS0BLQEtAS0BLQEtAS0BLQEtAS0BLQEtAS0BLQEtAS0BLQEtAS0BLQEtAS0BLQEtAS0BLQEtAS0BLQEtAS0BLQEtAS0BLQEtAS0BLQEtAS0BLQEtAS0BLQEtAS0BLQEtAS0BLQEtAS0BLQEtAS0BLQEtAS0BLQEtAS0BLQEtAS0BLQEtAS0BLQEtAS0BLQEtAS0BLQEtAS0BLQEtAS0BLQEtAS0BLQEtAS0BLQEtAS0BLQEtAS0BLQEtAS0BLQEtAS0BLQEtAS0BLQEtAS0BLQEtAS0BLQEtAS0BLQEtAS0BLQEtAS0BLQEtAS0BLQEtAS0BLQEtAS0BLQEtAS0BLQEtAS0BLQEtAS0BLQEtAS0BLQEtAS0BLQEtAS0BLQEtAS0BLQEtAS0BLQEtAS0BLQEtAS0BLQEtAS0BLQEtAS0BLQEtAS0BLQEtAS0BLQEtAS0BLQEtAS0BLQEtAS0BLQEtAS0BLQEtAS0BLQEtAS0BLQEtAS0BLQEtAS0BLQEtAS0BLQEtAS0BLQEtAS0BLQEtAS0BLQEtAS0BLQEtAS0BLQEtAS0BLQEtAS0BLQEtAS0BLQEtAS0BLQEtAS0BLQEtAS0BLQEtAS0BLQEtAS0BLQEtAS0BLQEtAS0BLQEtAS0BLQEtAS0BLQEtAS0BLQEtAS0BLQEtAS0BLQEtAS0BLQEtAS0BLQEtAS0BLQEtAS0BLQEtAS0BLQEtAS0BLQEtAS0BLQEtAS0BLQEtAS0BLQEtAS0BLQEtAS0BLQEtAS0BLQEtAS0BLQEtAS0BLQEtAS0BLQEtAS0BLQEtAS0BLQEtAS0BLQEtAS0BLQEtAS0BLQEtAS0BLQEtAS0BLQEtAS0BLQEtAS0BLQEtAS0BLQEtAS0BLQEtAS0BLQEtAS0BLQEtAS0BLQEtAS0BLQEtAS0BLQEtAS0BLQEtAS0BLQEtAS0BLQEtAS0BLQEtAS0BLQEtAS0BLQEtAS0BLQEtAS0BLQEtAS0BLQEtAS0BLQEtAS0BLQEtAS0BLQEtAS0BLQEtAS0BLQEtAS0BLQEtAS0BLQEtAS0BLQEtAS0BLQEtAS0BLQEtAS0BLQEtAS0BLQEtAS0BLQEtAS0BLQEtAS0BLQEtAS0BLQEtAS0BLQEtAS0BLQEtAS0BLQEtAS0BLQEtAS0BLQEtAS0BLQEtAS0BLQEtAS0BLQEtAS0BLQEtAS0BLQEtAS0BLQEtAS0BLQEtAS0BLQEtAS0BLQEtAS0BLQEtAS0BLQEtAS0BLQEtAS0BLQEtAS0BLQEtAS0BLQEtAS0BLQEtAS0BLQEtAS0BLQEtAS0BLQEtAS0BLQEtAS0BLQEtAS0BLQEtAS0BLQEtAS0BLQEtAS0BLQEtAS0BLQEtAS0BLQEtAS0BLQEtAS0BLQEtAS0BLQEtAS0BLQEtAS0BLQEtAS0BLQEtAS0BLQEtAS0BLQEtAS0BLQEtAS0BLQEtAS0BLQEtAS0BLQEtAS0BLQEtAS0BLQEtAS0BLQEtAS0BLQEtAS0BLQEtAS0BLQEtAS0BLQEtAS0BLQEtAS0BLQEtAS0BLQEtAS0BLQEtAS0BLQEtAS0BLQEtAS0BLQEtAS0BLQEtAS0BLQEtAS0BLQEtAS0BLQEtAS0BLQEtAS0BLQEtAS0BLQEtAS0BLQEtAS0BLQEtAS0BLQEtAS0BLQEtAS0BLQEtAS0BLQEtAS0BLQEtAS0BLQEtAS0BLQEtAS0BLQEtAS0BLQEtAS0BLQEtAS0BLQEtAV8BXwFfAV8BXwFfAV8BXwFfAV8BXwFfAV8BXwFfAV8BXwFfAV8BXwFfAV8BXwFfAV8BXwFfAV8BXwFfAV8BXwFfAV8BXwFfAV8BXwFfAV8BXwFfAV8BXwFfAV8BXwFfAV8BXwFfAV8BXwFfAV8BXwFfAV8BXwFfAV8BXwFfAV8BXwFfAV8BXwFfAV8BXwFfAV8BXwFfAV8BXwFfAV8BXwFfAV8BXwFfAV8BXwFfAV8BXwFfAV8BXwFfAV8BXwFfAV8BXwFfAV8BXwFfAV8BXwFfAV8BXwFfAV8BXwFfAV8BXwFfAV8BXwFfAV8BXwFfAV8BXwFfAV8BXwFfAV8BXwFfAV8BXwFfAV8BXwFfAV8BXwFfAV8BXwFfAV8BXwFfAV8BXwFfAV8BXwFfAV8BXwFfAV8BXwFfAV8BXwFfAV8BXwFfAV8BXwFfAV8BXwFfAV8BXwFfAV8BXwFfAV8BXwFfAV8BXwFfAV8BXwFfAV8BXwFfAV8BXwFfAV8BXwFfAV8BXwFfAV8BXwFfAV8BXwFfAV8BXwFfAV8BXwFfAV8BXwFfAV8BXwFfAV8BXwFfAV8BXwFfAV8BXwFfAV8BXwFfAV8BXwFfAV8BXwFfAV8BXwFfAV8BXwFfAV8BXwFfAV8BXwFfAV8BXwFfAV8BXwFfAV8BXwFfAV8BXwFfAV8BXwFfAV8BXwFfAV8BXwFfAV8BXwFfAV8BXwFfAV8BXwFfAV8BXwFfAV8BXwFfAV8BXwFfAV8BXwFfAV8BXwFfAV8BXwFfAV8BXwFfAV8BXwFfAV8BXwFfAV8BXwFfAV8BXwFfAV8BXwFfAV8BXwFfAV8BXwFfAV8BXwFfAV8BXwFfAV8BXwFfAV8BXwFfAV8BXwFfAV8BXwFfAV8BXwFfAV8BXwFfAV8BXwFfAV8BXwFfAV8BXwFfAV8BXwFfAV8BXwFfAV8BXwFfAV8BXwFfAV8BXwFfAV8BXwFfAV8BXwFfAV8BXwFfAV8BXwFfAV8BXwFfAV8BXwFfAV8BXwFfAV8BXwFfAV8BXwFfAV8BXwFfAV8BXwFfAV8BXwFfAV8BXwFfAV8BXwFfAV8BXwFfAV8BXwFfAV8BXwFfAV8BXwFfAV8BXwFfAV8BXwFfAV8BXwFfAV8BXwFfAV8BXwFfAV8BXwFfAV8BXwFfAV8BXwFfAV8BXwFfAV8BXwFfAV8BXwFfAV8BXwFfAV8BXwFfAV8BXwFfAV8BXwFfAV8BXwFfAV8BXwFfAV8BXwFfAV8BXwFfAV8BXwFfAV8BXwFfAV8BXwFfAV8BXwFfAV8BXwFfAV8BXwFfAV8BXwFfAV8BXwFfAV8BXwFfAV8BXwFfAV8BXwFfAV8BXwFfAV8BXwFfAV8BXwFfAV8BXwFfAV8BXwFfAV8BXwFfAV8BXwFfAV8BXwFfAV8BXwFfAV8BXwFfAV8BXwFfAV8BXwFfAV8BXwFfAV8BXwFfAV8BXwFfAV8BXwFfAV8BXwFfAV8BXwFfAV8BXwFfAV8BXwFfAV8BXwFfAV8BXwFfAV8BXwFfAV8BXwFfAV8BXwFfAV8BXwFfAV8BXwFfAV8BXwFfAV8BXwFfAV8BXwFfAV8BXwFfAV8BXwFfAV8BXwFfAV8BXwFfAV8BXwFfAV8BXwFfAV8BXwFfAV8BXwFfAV8BXwFfAV8BXwFfAV8BXwFfAV8BXwFfAV8BXwFfAV8BXwFfAV8BXwFfAV8BXwFfAV8BXwFfAV8BXwFfAV8BXwFfAV8BXwFfAV8BXwFfAV8BXwFfAV8BXwFfAV8BXwFfAV8BXwFfAV8BXwFfAV8BXwFfAV8BXwFfAV8BXwFfAV8BXwFfAV8BXwFfAV8BXwFfAV8BXwFfAV8BXwFfAV8BXwFfAV8BXwFfAV8BXwFfAV8BXwFfAV8BXwFfAV8BXwFfAV8BXwFfAV8BXwFfAV8BXwFfAV8BXwFfAV8BXwFfAV8BXwFfAV8BXwFfAV8BXwFfAV8BXwFfAV8BXwFfAV8BXwFfAV8BXwFfAV8BXwFfAV8BXwFfAV8BXwFfAV8BXwFfAV8BXwFfAV8BXwFfAV8BXwFfAV8BXwFfAV8BXwFfAV8BXwFfAV8BXwFfAV8BXwFfAV8BXwFfAV8BXwFfAV8BXwFfAV8BXwFfAV8BXwFfAV8BXwFfAV8BXwFfAV8BXwFfAV8BXwFfAV8BXwFfAV8BXwFfAV8BXwFfAV8BXwFfAV8BXwFfAV8BXwFfAV8BXwFfAV8BXwFfAV8BXwFfAV8BXwFfAV8BXwFfAV8BXwFfAV8BXwFfAV8BXwFfAV8BXwFfAV8BXwFfAV8BXwFfAV8BXwFfAV8BXwFfAV8BXwFfAV8BXwFfAV8BXwFfAV8BXwFfAV8BXwFfAV8BXwFfAV8BXwFfAV8BXwFfAV8BXwFfAV8BXwFfAV8BXwFfAV8BXwFfAV8BXwFfAV8BXwFfAV8BXwFfAV8BXwFfAV8BXwFfAV8BXwFfAV8BXwFfAV8BXwFfAV8BXwFfAV8BXwFfAV8BXwFfAV8BXwFfAV8BXwFfAV8BXwFfAV8BXwFfAV8BXwFfAV8BXwFfAV8BXwFfAV8BXwFfAV8BXwFfAV8BXwFfAV8BXwFfAV8BXwFfAV8BXwFfAV8BXwFfAV8BXwFfAV8BXwFfAV8BXwFfAV8BXwFfAV8BXwFfAV8BkQGRAZEBkQGRAZEBkQGRAZEBkQGRAZEBkQGRAZEBkQGRAZEBkQGRAZEBkQGRAZEBkQGRAZEBkQGRAZEBkQGRAZEBkQGRAZEBkQGRAZEBkQGRAZEBkQGRAZEBkQGRAZEBkQGRAZEBkQGRAZEBkQGRAZEBkQGRAZEBkQGRAZEBkQGRAZEBkQGRAZEBkQGRAZEBkQGRAZEBkQGRAZEBkQGRAZEBkQGRAZEBkQGRAZEBkQGRAZEBkQGRAZEBkQGRAZEBkQGRAZEBkQGRAZEBkQGRAZEBkQGRAZEBkQGRAZEBkQGRAZEBkQGRAZEBkQGRAZEBkQGRAZEBkQGRAZEBkQGRAZEBkQGRAZEBkQGRAZEBkQGRAZEBkQGRAZEBkQGRAZEBkQGRAZEBkQGRAZEBkQGRAZEBkQGRAZEBkQGRAZEBkQGRAZEBkQGRAZEBkQGRAZEBkQGRAZEBkQGRAZEBkQGRAZEBkQGRAZEBkQGRAZEBkQGRAZEBkQGRAZEBkQGRAZEBkQGRAZEBkQGRAZEBkQGRAZEBkQGRAZEBkQGRAZEBkQGRAZEBkQGRAZEBkQGRAZEBkQGRAZEBkQGRAZEBkQGRAZEBkQGRAZEBkQGRAZEBkQGRAZEBkQGRAZEBkQGRAZEBkQGRAZEBkQGRAZEBkQGRAZEBkQGRAZEBkQGRAZEBkQGRAZEBkQGRAZEBkQGRAZEBkQGRAZEBkQGRAZEBkQGRAZEBkQGRAZEBkQGRAZEBkQGRAZEBkQGRAZEBkQGRAZEBkQGRAZEBkQGRAZEBkQGRAZEBkQGRAZEBkQGRAZEBkQGRAZEBkQGRAZEBkQGRAZEBkQGRAZEBkQGRAZEBkQGRAZEBkQGRAZEBkQGRAZEBkQGRAZEBkQGRAZEBkQGRAZEBkQGRAZEBkQGRAZEBkQGRAZEBkQGRAZEBkQGRAZEBkQGRAZEBkQGRAZEBkQGRAZEBkQGRAZEBkQGRAZEBkQGRAZEBkQGRAZEBkQGRAZEBkQGRAZEBkQGRAZEBkQGRAZEBkQGRAZEBkQGRAZEBkQGRAZEBkQGRAZEBkQGRAZEBkQGRAZEBkQGRAZEBkQGRAZEBkQGRAZEBkQGRAZEBkQGRAZEBkQGRAZEBkQGRAZEBkQGRAZEBkQGRAZEBkQGRAZEBkQGRAZEBkQGRAZEBkQGRAZEBkQGRAZEBkQGRAZEBkQGRAZEBkQGRAZEBkQGRAZEBkQGRAZEBkQGRAZEBkQGRAZEBkQGRAZEBkQGRAZEBkQGRAZEBkQGRAZEBkQGRAZEBkQGRAZEBkQGRAZEBkQGRAZEBkQGRAZEBkQGRAZEBkQGRAZEBkQGRAZEBkQGRAZEBkQGRAZEBkQGRAZEBkQGRAZEBkQGRAZEBkQGRAZEBkQGRAZEBkQGRAZEBkQGRAZEBkQGRAZEBkQGRAZEBkQGRAZEBkQGRAZEBkQGRAZEBkQGRAZEBkQGRAZEBkQGRAZEBkQGRAZEBkQGRAZEBkQGRAZEBkQGRAZEBkQGRAZEBkQGRAZEBkQGRAZEBkQGRAZEBkQGRAZEBkQGRAZEBkQGRAZEBkQGRAZEBkQGRAZEBkQGRAZEBkQGRAZEBkQGRAZEBkQGRAZEBkQGRAZEBkQGRAZEBkQGRAZEBkQGRAZEBkQGRAZEBkQGRAZEBkQGRAZEBkQGRAZEBkQGRAZEBkQGRAZEBkQGRAZEBkQGRAZEBkQGRAZEBkQGRAZEBkQGRAZEBkQGRAZEBkQGRAZEBkQGRAZEBkQGRAZEBkQGRAZEBkQGRAZEBkQGRAZEBkQGRAZEBkQGRAZEBkQGRAZEBkQGRAZEBkQGRAZEBkQGRAZEBkQGRAZEBkQGRAZEBkQGRAZEBkQGRAZEBkQGRAZEBkQGRAZEBkQGRAZEBkQGRAZEBkQGRAZEBkQGRAZEBkQGRAZEBkQGRAZEBkQGRAZEBkQGRAZEBkQGRAZEBkQGRAZEBkQGRAZEBkQGRAZEBkQGRAZEBkQGRAZEBkQGRAZEBkQGRAZEBkQGRAZEBkQGRAZEBkQGRAZEBkQGRAZEBkQGRAZEBkQGRAZEBkQGRAZEBkQGRAZEBkQGRAZEBkQGRAZEBkQGRAZEBkQGRAZEBkQGRAZEBkQGRAZEBkQGRAZEBkQGRAZEBkQGRAZEBkQGRAZEBkQGRAZEBkQGRAZEBkQGRAZEBkQGRAZEBkQGRAZEBkQGRAZEBkQGRAZEBkQGRAZEBkQGRAZEBkQGRAZEBkQGRAZEBkQGRAZEBkQGRAZEBkQGRAZEBkQGRAZEBkQGRAZEBkQGRAZEBkQGRAZEBkQGRAZEBkQGRAZEBkQGRAZEBkQGRAZEBkQGRAZEBkQGRAZEBkQGRAZEBkQGRAZEBkQGRAZEBkQGRAZEBkQGRAZEBkQGRAZEBkQGRAZEBkQGRAZEBkQGRAZEBkQGRAZEBkQGRAZEBkQGRAZEBkQGRAZEBkQGRAZEBkQGRAZEBkQGRAZEBkQGRAZEBkQGRAZEBkQGRAZEBkQGRAZEBkQGRAZEBkQGRAZEBkQGRAZEBkQGRAZEBkQGRAZEBkQHDAcMBwwHDAcMBwwHDAcMBwwHDAcMBwwHDAcMBwwHDAcMBwwHDAcMBwwHDAcMBwwHDAcMBwwHDAcMBwwHDAcMBwwHDAcMBwwHDAcMBwwHDAcMBwwHDAcMBwwHDAcMBwwHDAcMBwwHDAcMBwwHDAcMBwwHDAcMBwwHDAcMBwwHDAcMBwwHDAcMBwwHDAcMBwwHDAcMBwwHDAcMBwwHDAcMBwwHDAcMBwwHDAcMBwwHDAcMBwwHDAcMBwwHDAcMBwwHDAcMBwwHDAcMBwwHDAcMBwwHDAcMBwwHDAcMBwwHDAcMBwwHDAcMBwwHDAcMBwwHDAcMBwwHDAcMBwwHDAcMBwwHDAcMBwwHDAcMBwwHDAcMBwwHDAcMBwwHDAcMBwwHDAcMBwwHDAcMBwwHDAcMBwwHDAcMBwwHDAcMBwwHDAcMBwwHDAcMBwwHDAcMBwwHDAcMBwwHDAcMBwwHDAcMBwwHDAcMBwwHDAcMBwwHDAcMBwwHDAcMBwwHDAcMBwwHDAcMBwwHDAcMBwwHDAcMBwwHDAcMBwwHDAcMBwwHDAcMBwwHDAcMBwwHDAcMBwwHDAcMBwwHDAcMBwwHDAcMBwwHDAcMBwwHDAcMBwwHDAcMBwwHDAcMBwwHDAcMBwwHDAcMBwwHDAcMBwwHDAcMBwwHDAcMBwwHDAcMBwwHDAcMBwwHDAcMBwwHDAcMBwwHDAcMBwwHDAcMBwwHDAcMBwwHDAcMBwwHDAcMBwwHDAcMBwwHDAcMBwwHDAcMBwwHDAcMBwwHDAcMBwwHDAcMBwwHDAcMBwwHDAcMBwwHDAcMBwwHDAcMBwwHDAcMBwwHDAcMBwwHDAcMBwwHDAcMBwwHDAcMBwwHDAcMBwwHDAcMBwwHDAcMBwwHDAcMBwwHDAcMBwwHDAcMBwwHDAcMBwwHDAcMBwwHDAcMBwwHDAcMBwwHDAcMBwwHDAcMBwwHDAcMBwwHDAcMBwwHDAcMBwwHDAcMBwwHDAcMBwwHDAcMBwwHDAcMBwwHDAcMBwwHDAcMBwwHDAcMBwwHDAcMBwwHDAcMBwwHDAcMBwwHDAcMBwwHDAcMBwwHDAcMBwwHDAcMBwwHDAcMBwwHDAcMBwwHDAcMBwwHDAcMBwwHDAcMBwwHDAcMBwwHDAcMBwwHDAcMBwwHDAcMBwwHDAcMBwwHDAcMBwwHDAcMBwwHDAcMBwwHDAcMBwwHDAcMBwwHDAcMBwwHDAcMBwwHDAcMBwwHDAcMBwwHDAcMBwwHDAcMBwwHDAcMBwwHDAcMBwwHDAcMBwwHDAcMBwwHDAcMBwwHDAcMBwwHDAcMBwwHDAcMBwwHDAcMBwwHDAcMBwwHDAcMBwwHDAcMBwwHDAcMBwwHDAcMBwwHDAcMBwwHDAcMBwwHDAcMBwwHDAcMBwwHDAcMBwwHDAcMBwwHDAcMBwwHDAcMBwwHDAcMBwwHDAcMBwwHDAcMBwwHDAcMBwwHDAcMBwwHDAcMBwwHDAcMBwwHDAcMBwwHDAcMBwwHDAcMBwwHDAcMBwwHDAcMBwwHDAcMBwwHDAcMBwwHDAcMBwwHDAcMBwwHDAcMBwwHDAcMBwwHDAcMBwwHDAcMBwwHDAcMBwwHDAcMBwwHDAcMBwwHDAcMBwwHDAcMBwwHDAcMBwwHDAcMBwwHDAcMBwwHDAcMBwwHDAcMBwwHDAcMBwwHDAcMBwwHDAcMBwwHDAcMBwwHDAcMBwwHDAcMBwwHDAcMBwwHDAcMBwwHDAcMBwwHDAcMBwwHDAcMBwwHDAcMBwwHDAcMBwwHDAcMBwwHDAcMBwwHDAcMBwwHDAcMBwwHDAcMBwwHDAcMBwwHDAcMBwwHDAcMBwwHDAcMBwwHDAcMBwwHDAcMBwwHDAcMBwwHDAcMBwwHDAcMBwwHDAcMBwwHDAcMBwwHDAcMBwwHDAcMBwwHDAcMBwwHDAcMBwwHDAcMBwwHDAcMBwwHDAcMBwwHDAcMBwwHDAcMBwwHDAcMBwwHDAcMBwwHDAcMBwwHDAcMBwwHDAcMBwwHDAcMBwwHDAcMBwwHDAcMBwwHDAcMBwwHDAcMBwwHDAcMBwwHDAcMBwwHDAcMBwwHDAcMBwwHDAcMBwwHDAcMBwwHDAcMBwwHDAcMBwwHDAcMBwwHDAcMBwwHDAcMBwwHDAcMBwwHDAcMBwwHDAcMBwwHDAcMBwwHDAcMBwwHDAcMBwwHDAcMBwwHDAcMBwwHDAcMBwwHDAcMBwwHDAcMBwwHDAcMBwwHDAcMBwwHDAcMBwwHDAcMBwwHDAcMBwwHDAcMBwwHDAcMBwwHDAcMBwwHDAcMBwwHDAcMBwwHDAcMBwwHDAcMBwwHDAcMBwwHDAcMBwwHDAcMBwwHDAcMBwwHDAcMBwwHDAcMBwwHDAcMBwwHDAcMBwwHDAcMBwwHDAcMBwwHDAcMBwwHDAcMBwwHDAcMBwwE=",
           "dtype": "i2"
          },
          "coloraxis": "coloraxis",
          "symbol": "circle"
         },
         "mode": "markers",
         "name": "",
         "showlegend": false,
         "type": "scattergl",
         "x": {
          "bdata": "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",
          "dtype": "f8"
         },
         "xaxis": "x",
         "y": {
          "bdata": "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",
          "dtype": "f8"
         },
         "yaxis": "y"
        }
       ],
       "layout": {
        "coloraxis": {
         "colorbar": {
          "title": {
           "text": "cycle_index"
          }
         },
         "colorscale": [
          [
           0,
           "#0d0887"
          ],
          [
           0.1111111111111111,
           "#46039f"
          ],
          [
           0.2222222222222222,
           "#7201a8"
          ],
          [
           0.3333333333333333,
           "#9c179e"
          ],
          [
           0.4444444444444444,
           "#bd3786"
          ],
          [
           0.5555555555555556,
           "#d8576b"
          ],
          [
           0.6666666666666666,
           "#ed7953"
          ],
          [
           0.7777777777777778,
           "#fb9f3a"
          ],
          [
           0.8888888888888888,
           "#fdca26"
          ],
          [
           1,
           "#f0f921"
          ]
         ]
        },
        "legend": {
         "tracegroupgap": 0
        },
        "template": {
         "data": {
          "bar": [
           {
            "error_x": {
             "color": "#2a3f5f"
            },
            "error_y": {
             "color": "#2a3f5f"
            },
            "marker": {
             "line": {
              "color": "#E5ECF6",
              "width": 0.5
             },
             "pattern": {
              "fillmode": "overlay",
              "size": 10,
              "solidity": 0.2
             }
            },
            "type": "bar"
           }
          ],
          "barpolar": [
           {
            "marker": {
             "line": {
              "color": "#E5ECF6",
              "width": 0.5
             },
             "pattern": {
              "fillmode": "overlay",
              "size": 10,
              "solidity": 0.2
             }
            },
            "type": "barpolar"
           }
          ],
          "carpet": [
           {
            "aaxis": {
             "endlinecolor": "#2a3f5f",
             "gridcolor": "white",
             "linecolor": "white",
             "minorgridcolor": "white",
             "startlinecolor": "#2a3f5f"
            },
            "baxis": {
             "endlinecolor": "#2a3f5f",
             "gridcolor": "white",
             "linecolor": "white",
             "minorgridcolor": "white",
             "startlinecolor": "#2a3f5f"
            },
            "type": "carpet"
           }
          ],
          "choropleth": [
           {
            "colorbar": {
             "outlinewidth": 0,
             "ticks": ""
            },
            "type": "choropleth"
           }
          ],
          "contour": [
           {
            "colorbar": {
             "outlinewidth": 0,
             "ticks": ""
            },
            "colorscale": [
             [
              0,
              "#0d0887"
             ],
             [
              0.1111111111111111,
              "#46039f"
             ],
             [
              0.2222222222222222,
              "#7201a8"
             ],
             [
              0.3333333333333333,
              "#9c179e"
             ],
             [
              0.4444444444444444,
              "#bd3786"
             ],
             [
              0.5555555555555556,
              "#d8576b"
             ],
             [
              0.6666666666666666,
              "#ed7953"
             ],
             [
              0.7777777777777778,
              "#fb9f3a"
             ],
             [
              0.8888888888888888,
              "#fdca26"
             ],
             [
              1,
              "#f0f921"
             ]
            ],
            "type": "contour"
           }
          ],
          "contourcarpet": [
           {
            "colorbar": {
             "outlinewidth": 0,
             "ticks": ""
            },
            "type": "contourcarpet"
           }
          ],
          "heatmap": [
           {
            "colorbar": {
             "outlinewidth": 0,
             "ticks": ""
            },
            "colorscale": [
             [
              0,
              "#0d0887"
             ],
             [
              0.1111111111111111,
              "#46039f"
             ],
             [
              0.2222222222222222,
              "#7201a8"
             ],
             [
              0.3333333333333333,
              "#9c179e"
             ],
             [
              0.4444444444444444,
              "#bd3786"
             ],
             [
              0.5555555555555556,
              "#d8576b"
             ],
             [
              0.6666666666666666,
              "#ed7953"
             ],
             [
              0.7777777777777778,
              "#fb9f3a"
             ],
             [
              0.8888888888888888,
              "#fdca26"
             ],
             [
              1,
              "#f0f921"
             ]
            ],
            "type": "heatmap"
           }
          ],
          "histogram": [
           {
            "marker": {
             "pattern": {
              "fillmode": "overlay",
              "size": 10,
              "solidity": 0.2
             }
            },
            "type": "histogram"
           }
          ],
          "histogram2d": [
           {
            "colorbar": {
             "outlinewidth": 0,
             "ticks": ""
            },
            "colorscale": [
             [
              0,
              "#0d0887"
             ],
             [
              0.1111111111111111,
              "#46039f"
             ],
             [
              0.2222222222222222,
              "#7201a8"
             ],
             [
              0.3333333333333333,
              "#9c179e"
             ],
             [
              0.4444444444444444,
              "#bd3786"
             ],
             [
              0.5555555555555556,
              "#d8576b"
             ],
             [
              0.6666666666666666,
              "#ed7953"
             ],
             [
              0.7777777777777778,
              "#fb9f3a"
             ],
             [
              0.8888888888888888,
              "#fdca26"
             ],
             [
              1,
              "#f0f921"
             ]
            ],
            "type": "histogram2d"
           }
          ],
          "histogram2dcontour": [
           {
            "colorbar": {
             "outlinewidth": 0,
             "ticks": ""
            },
            "colorscale": [
             [
              0,
              "#0d0887"
             ],
             [
              0.1111111111111111,
              "#46039f"
             ],
             [
              0.2222222222222222,
              "#7201a8"
             ],
             [
              0.3333333333333333,
              "#9c179e"
             ],
             [
              0.4444444444444444,
              "#bd3786"
             ],
             [
              0.5555555555555556,
              "#d8576b"
             ],
             [
              0.6666666666666666,
              "#ed7953"
             ],
             [
              0.7777777777777778,
              "#fb9f3a"
             ],
             [
              0.8888888888888888,
              "#fdca26"
             ],
             [
              1,
              "#f0f921"
             ]
            ],
            "type": "histogram2dcontour"
           }
          ],
          "mesh3d": [
           {
            "colorbar": {
             "outlinewidth": 0,
             "ticks": ""
            },
            "type": "mesh3d"
           }
          ],
          "parcoords": [
           {
            "line": {
             "colorbar": {
              "outlinewidth": 0,
              "ticks": ""
             }
            },
            "type": "parcoords"
           }
          ],
          "pie": [
           {
            "automargin": true,
            "type": "pie"
           }
          ],
          "scatter": [
           {
            "fillpattern": {
             "fillmode": "overlay",
             "size": 10,
             "solidity": 0.2
            },
            "type": "scatter"
           }
          ],
          "scatter3d": [
           {
            "line": {
             "colorbar": {
              "outlinewidth": 0,
              "ticks": ""
             }
            },
            "marker": {
             "colorbar": {
              "outlinewidth": 0,
              "ticks": ""
             }
            },
            "type": "scatter3d"
           }
          ],
          "scattercarpet": [
           {
            "marker": {
             "colorbar": {
              "outlinewidth": 0,
              "ticks": ""
             }
            },
            "type": "scattercarpet"
           }
          ],
          "scattergeo": [
           {
            "marker": {
             "colorbar": {
              "outlinewidth": 0,
              "ticks": ""
             }
            },
            "type": "scattergeo"
           }
          ],
          "scattergl": [
           {
            "marker": {
             "colorbar": {
              "outlinewidth": 0,
              "ticks": ""
             }
            },
            "type": "scattergl"
           }
          ],
          "scattermap": [
           {
            "marker": {
             "colorbar": {
              "outlinewidth": 0,
              "ticks": ""
             }
            },
            "type": "scattermap"
           }
          ],
          "scattermapbox": [
           {
            "marker": {
             "colorbar": {
              "outlinewidth": 0,
              "ticks": ""
             }
            },
            "type": "scattermapbox"
           }
          ],
          "scatterpolar": [
           {
            "marker": {
             "colorbar": {
              "outlinewidth": 0,
              "ticks": ""
             }
            },
            "type": "scatterpolar"
           }
          ],
          "scatterpolargl": [
           {
            "marker": {
             "colorbar": {
              "outlinewidth": 0,
              "ticks": ""
             }
            },
            "type": "scatterpolargl"
           }
          ],
          "scatterternary": [
           {
            "marker": {
             "colorbar": {
              "outlinewidth": 0,
              "ticks": ""
             }
            },
            "type": "scatterternary"
           }
          ],
          "surface": [
           {
            "colorbar": {
             "outlinewidth": 0,
             "ticks": ""
            },
            "colorscale": [
             [
              0,
              "#0d0887"
             ],
             [
              0.1111111111111111,
              "#46039f"
             ],
             [
              0.2222222222222222,
              "#7201a8"
             ],
             [
              0.3333333333333333,
              "#9c179e"
             ],
             [
              0.4444444444444444,
              "#bd3786"
             ],
             [
              0.5555555555555556,
              "#d8576b"
             ],
             [
              0.6666666666666666,
              "#ed7953"
             ],
             [
              0.7777777777777778,
              "#fb9f3a"
             ],
             [
              0.8888888888888888,
              "#fdca26"
             ],
             [
              1,
              "#f0f921"
             ]
            ],
            "type": "surface"
           }
          ],
          "table": [
           {
            "cells": {
             "fill": {
              "color": "#EBF0F8"
             },
             "line": {
              "color": "white"
             }
            },
            "header": {
             "fill": {
              "color": "#C8D4E3"
             },
             "line": {
              "color": "white"
             }
            },
            "type": "table"
           }
          ]
         },
         "layout": {
          "annotationdefaults": {
           "arrowcolor": "#2a3f5f",
           "arrowhead": 0,
           "arrowwidth": 1
          },
          "autotypenumbers": "strict",
          "coloraxis": {
           "colorbar": {
            "outlinewidth": 0,
            "ticks": ""
           }
          },
          "colorscale": {
           "diverging": [
            [
             0,
             "#8e0152"
            ],
            [
             0.1,
             "#c51b7d"
            ],
            [
             0.2,
             "#de77ae"
            ],
            [
             0.3,
             "#f1b6da"
            ],
            [
             0.4,
             "#fde0ef"
            ],
            [
             0.5,
             "#f7f7f7"
            ],
            [
             0.6,
             "#e6f5d0"
            ],
            [
             0.7,
             "#b8e186"
            ],
            [
             0.8,
             "#7fbc41"
            ],
            [
             0.9,
             "#4d9221"
            ],
            [
             1,
             "#276419"
            ]
           ],
           "sequential": [
            [
             0,
             "#0d0887"
            ],
            [
             0.1111111111111111,
             "#46039f"
            ],
            [
             0.2222222222222222,
             "#7201a8"
            ],
            [
             0.3333333333333333,
             "#9c179e"
            ],
            [
             0.4444444444444444,
             "#bd3786"
            ],
            [
             0.5555555555555556,
             "#d8576b"
            ],
            [
             0.6666666666666666,
             "#ed7953"
            ],
            [
             0.7777777777777778,
             "#fb9f3a"
            ],
            [
             0.8888888888888888,
             "#fdca26"
            ],
            [
             1,
             "#f0f921"
            ]
           ],
           "sequentialminus": [
            [
             0,
             "#0d0887"
            ],
            [
             0.1111111111111111,
             "#46039f"
            ],
            [
             0.2222222222222222,
             "#7201a8"
            ],
            [
             0.3333333333333333,
             "#9c179e"
            ],
            [
             0.4444444444444444,
             "#bd3786"
            ],
            [
             0.5555555555555556,
             "#d8576b"
            ],
            [
             0.6666666666666666,
             "#ed7953"
            ],
            [
             0.7777777777777778,
             "#fb9f3a"
            ],
            [
             0.8888888888888888,
             "#fdca26"
            ],
            [
             1,
             "#f0f921"
            ]
           ]
          },
          "colorway": [
           "#636efa",
           "#EF553B",
           "#00cc96",
           "#ab63fa",
           "#FFA15A",
           "#19d3f3",
           "#FF6692",
           "#B6E880",
           "#FF97FF",
           "#FECB52"
          ],
          "font": {
           "color": "#2a3f5f"
          },
          "geo": {
           "bgcolor": "white",
           "lakecolor": "white",
           "landcolor": "#E5ECF6",
           "showlakes": true,
           "showland": true,
           "subunitcolor": "white"
          },
          "hoverlabel": {
           "align": "left"
          },
          "hovermode": "closest",
          "mapbox": {
           "style": "light"
          },
          "paper_bgcolor": "white",
          "plot_bgcolor": "#E5ECF6",
          "polar": {
           "angularaxis": {
            "gridcolor": "white",
            "linecolor": "white",
            "ticks": ""
           },
           "bgcolor": "#E5ECF6",
           "radialaxis": {
            "gridcolor": "white",
            "linecolor": "white",
            "ticks": ""
           }
          },
          "scene": {
           "xaxis": {
            "backgroundcolor": "#E5ECF6",
            "gridcolor": "white",
            "gridwidth": 2,
            "linecolor": "white",
            "showbackground": true,
            "ticks": "",
            "zerolinecolor": "white"
           },
           "yaxis": {
            "backgroundcolor": "#E5ECF6",
            "gridcolor": "white",
            "gridwidth": 2,
            "linecolor": "white",
            "showbackground": true,
            "ticks": "",
            "zerolinecolor": "white"
           },
           "zaxis": {
            "backgroundcolor": "#E5ECF6",
            "gridcolor": "white",
            "gridwidth": 2,
            "linecolor": "white",
            "showbackground": true,
            "ticks": "",
            "zerolinecolor": "white"
           }
          },
          "shapedefaults": {
           "line": {
            "color": "#2a3f5f"
           }
          },
          "ternary": {
           "aaxis": {
            "gridcolor": "white",
            "linecolor": "white",
            "ticks": ""
           },
           "baxis": {
            "gridcolor": "white",
            "linecolor": "white",
            "ticks": ""
           },
           "bgcolor": "#E5ECF6",
           "caxis": {
            "gridcolor": "white",
            "linecolor": "white",
            "ticks": ""
           }
          },
          "title": {
           "x": 0.05
          },
          "xaxis": {
           "automargin": true,
           "gridcolor": "white",
           "linecolor": "white",
           "ticks": "",
           "title": {
            "standoff": 15
           },
           "zerolinecolor": "white",
           "zerolinewidth": 2
          },
          "yaxis": {
           "automargin": true,
           "gridcolor": "white",
           "linecolor": "white",
           "ticks": "",
           "title": {
            "standoff": 15
           },
           "zerolinecolor": "white",
           "zerolinewidth": 2
          }
         }
        },
        "title": {
         "text": "Discharge Capacity vs Voltage"
        },
        "xaxis": {
         "anchor": "y",
         "domain": [
          0,
          1
         ],
         "title": {
          "text": "voltage"
         }
        },
        "yaxis": {
         "anchor": "x",
         "domain": [
          0,
          1
         ],
         "title": {
          "text": "discharge_capacity"
         }
        }
       }
      }
     },
     "metadata": {},
     "output_type": "display_data"
    }
   ],
   "source": [
    "fig = px.scatter(df, y=\"discharge_capacity\", x=\"voltage\", color=\"cycle_index\",title=\"Discharge Capacity vs Voltage\")\n",
    "fig.show()"
   ]
  },
  {
   "cell_type": "code",
   "execution_count": 7,
   "id": "03121698",
   "metadata": {},
   "outputs": [
    {
     "data": {
      "application/vnd.plotly.v1+json": {
       "config": {
        "plotlyServerURL": "https://plot.ly"
       },
       "data": [
        {
         "hovertemplate": "voltage=%{x}<br>discharge_capacity=%{y}<extra></extra>",
         "legendgroup": "",
         "marker": {
          "color": "#636efa",
          "symbol": "circle"
         },
         "mode": "markers",
         "name": "",
         "orientation": "v",
         "showlegend": false,
         "type": "scatter",
         "x": {
          "bdata": "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",
          "dtype": "f8"
         },
         "xaxis": "x",
         "y": {
          "bdata": "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",
          "dtype": "f8"
         },
         "yaxis": "y"
        }
       ],
       "layout": {
        "legend": {
         "tracegroupgap": 0
        },
        "template": {
         "data": {
          "bar": [
           {
            "error_x": {
             "color": "#2a3f5f"
            },
            "error_y": {
             "color": "#2a3f5f"
            },
            "marker": {
             "line": {
              "color": "#E5ECF6",
              "width": 0.5
             },
             "pattern": {
              "fillmode": "overlay",
              "size": 10,
              "solidity": 0.2
             }
            },
            "type": "bar"
           }
          ],
          "barpolar": [
           {
            "marker": {
             "line": {
              "color": "#E5ECF6",
              "width": 0.5
             },
             "pattern": {
              "fillmode": "overlay",
              "size": 10,
              "solidity": 0.2
             }
            },
            "type": "barpolar"
           }
          ],
          "carpet": [
           {
            "aaxis": {
             "endlinecolor": "#2a3f5f",
             "gridcolor": "white",
             "linecolor": "white",
             "minorgridcolor": "white",
             "startlinecolor": "#2a3f5f"
            },
            "baxis": {
             "endlinecolor": "#2a3f5f",
             "gridcolor": "white",
             "linecolor": "white",
             "minorgridcolor": "white",
             "startlinecolor": "#2a3f5f"
            },
            "type": "carpet"
           }
          ],
          "choropleth": [
           {
            "colorbar": {
             "outlinewidth": 0,
             "ticks": ""
            },
            "type": "choropleth"
           }
          ],
          "contour": [
           {
            "colorbar": {
             "outlinewidth": 0,
             "ticks": ""
            },
            "colorscale": [
             [
              0,
              "#0d0887"
             ],
             [
              0.1111111111111111,
              "#46039f"
             ],
             [
              0.2222222222222222,
              "#7201a8"
             ],
             [
              0.3333333333333333,
              "#9c179e"
             ],
             [
              0.4444444444444444,
              "#bd3786"
             ],
             [
              0.5555555555555556,
              "#d8576b"
             ],
             [
              0.6666666666666666,
              "#ed7953"
             ],
             [
              0.7777777777777778,
              "#fb9f3a"
             ],
             [
              0.8888888888888888,
              "#fdca26"
             ],
             [
              1,
              "#f0f921"
             ]
            ],
            "type": "contour"
           }
          ],
          "contourcarpet": [
           {
            "colorbar": {
             "outlinewidth": 0,
             "ticks": ""
            },
            "type": "contourcarpet"
           }
          ],
          "heatmap": [
           {
            "colorbar": {
             "outlinewidth": 0,
             "ticks": ""
            },
            "colorscale": [
             [
              0,
              "#0d0887"
             ],
             [
              0.1111111111111111,
              "#46039f"
             ],
             [
              0.2222222222222222,
              "#7201a8"
             ],
             [
              0.3333333333333333,
              "#9c179e"
             ],
             [
              0.4444444444444444,
              "#bd3786"
             ],
             [
              0.5555555555555556,
              "#d8576b"
             ],
             [
              0.6666666666666666,
              "#ed7953"
             ],
             [
              0.7777777777777778,
              "#fb9f3a"
             ],
             [
              0.8888888888888888,
              "#fdca26"
             ],
             [
              1,
              "#f0f921"
             ]
            ],
            "type": "heatmap"
           }
          ],
          "histogram": [
           {
            "marker": {
             "pattern": {
              "fillmode": "overlay",
              "size": 10,
              "solidity": 0.2
             }
            },
            "type": "histogram"
           }
          ],
          "histogram2d": [
           {
            "colorbar": {
             "outlinewidth": 0,
             "ticks": ""
            },
            "colorscale": [
             [
              0,
              "#0d0887"
             ],
             [
              0.1111111111111111,
              "#46039f"
             ],
             [
              0.2222222222222222,
              "#7201a8"
             ],
             [
              0.3333333333333333,
              "#9c179e"
             ],
             [
              0.4444444444444444,
              "#bd3786"
             ],
             [
              0.5555555555555556,
              "#d8576b"
             ],
             [
              0.6666666666666666,
              "#ed7953"
             ],
             [
              0.7777777777777778,
              "#fb9f3a"
             ],
             [
              0.8888888888888888,
              "#fdca26"
             ],
             [
              1,
              "#f0f921"
             ]
            ],
            "type": "histogram2d"
           }
          ],
          "histogram2dcontour": [
           {
            "colorbar": {
             "outlinewidth": 0,
             "ticks": ""
            },
            "colorscale": [
             [
              0,
              "#0d0887"
             ],
             [
              0.1111111111111111,
              "#46039f"
             ],
             [
              0.2222222222222222,
              "#7201a8"
             ],
             [
              0.3333333333333333,
              "#9c179e"
             ],
             [
              0.4444444444444444,
              "#bd3786"
             ],
             [
              0.5555555555555556,
              "#d8576b"
             ],
             [
              0.6666666666666666,
              "#ed7953"
             ],
             [
              0.7777777777777778,
              "#fb9f3a"
             ],
             [
              0.8888888888888888,
              "#fdca26"
             ],
             [
              1,
              "#f0f921"
             ]
            ],
            "type": "histogram2dcontour"
           }
          ],
          "mesh3d": [
           {
            "colorbar": {
             "outlinewidth": 0,
             "ticks": ""
            },
            "type": "mesh3d"
           }
          ],
          "parcoords": [
           {
            "line": {
             "colorbar": {
              "outlinewidth": 0,
              "ticks": ""
             }
            },
            "type": "parcoords"
           }
          ],
          "pie": [
           {
            "automargin": true,
            "type": "pie"
           }
          ],
          "scatter": [
           {
            "fillpattern": {
             "fillmode": "overlay",
             "size": 10,
             "solidity": 0.2
            },
            "type": "scatter"
           }
          ],
          "scatter3d": [
           {
            "line": {
             "colorbar": {
              "outlinewidth": 0,
              "ticks": ""
             }
            },
            "marker": {
             "colorbar": {
              "outlinewidth": 0,
              "ticks": ""
             }
            },
            "type": "scatter3d"
           }
          ],
          "scattercarpet": [
           {
            "marker": {
             "colorbar": {
              "outlinewidth": 0,
              "ticks": ""
             }
            },
            "type": "scattercarpet"
           }
          ],
          "scattergeo": [
           {
            "marker": {
             "colorbar": {
              "outlinewidth": 0,
              "ticks": ""
             }
            },
            "type": "scattergeo"
           }
          ],
          "scattergl": [
           {
            "marker": {
             "colorbar": {
              "outlinewidth": 0,
              "ticks": ""
             }
            },
            "type": "scattergl"
           }
          ],
          "scattermap": [
           {
            "marker": {
             "colorbar": {
              "outlinewidth": 0,
              "ticks": ""
             }
            },
            "type": "scattermap"
           }
          ],
          "scattermapbox": [
           {
            "marker": {
             "colorbar": {
              "outlinewidth": 0,
              "ticks": ""
             }
            },
            "type": "scattermapbox"
           }
          ],
          "scatterpolar": [
           {
            "marker": {
             "colorbar": {
              "outlinewidth": 0,
              "ticks": ""
             }
            },
            "type": "scatterpolar"
           }
          ],
          "scatterpolargl": [
           {
            "marker": {
             "colorbar": {
              "outlinewidth": 0,
              "ticks": ""
             }
            },
            "type": "scatterpolargl"
           }
          ],
          "scatterternary": [
           {
            "marker": {
             "colorbar": {
              "outlinewidth": 0,
              "ticks": ""
             }
            },
            "type": "scatterternary"
           }
          ],
          "surface": [
           {
            "colorbar": {
             "outlinewidth": 0,
             "ticks": ""
            },
            "colorscale": [
             [
              0,
              "#0d0887"
             ],
             [
              0.1111111111111111,
              "#46039f"
             ],
             [
              0.2222222222222222,
              "#7201a8"
             ],
             [
              0.3333333333333333,
              "#9c179e"
             ],
             [
              0.4444444444444444,
              "#bd3786"
             ],
             [
              0.5555555555555556,
              "#d8576b"
             ],
             [
              0.6666666666666666,
              "#ed7953"
             ],
             [
              0.7777777777777778,
              "#fb9f3a"
             ],
             [
              0.8888888888888888,
              "#fdca26"
             ],
             [
              1,
              "#f0f921"
             ]
            ],
            "type": "surface"
           }
          ],
          "table": [
           {
            "cells": {
             "fill": {
              "color": "#EBF0F8"
             },
             "line": {
              "color": "white"
             }
            },
            "header": {
             "fill": {
              "color": "#C8D4E3"
             },
             "line": {
              "color": "white"
             }
            },
            "type": "table"
           }
          ]
         },
         "layout": {
          "annotationdefaults": {
           "arrowcolor": "#2a3f5f",
           "arrowhead": 0,
           "arrowwidth": 1
          },
          "autotypenumbers": "strict",
          "coloraxis": {
           "colorbar": {
            "outlinewidth": 0,
            "ticks": ""
           }
          },
          "colorscale": {
           "diverging": [
            [
             0,
             "#8e0152"
            ],
            [
             0.1,
             "#c51b7d"
            ],
            [
             0.2,
             "#de77ae"
            ],
            [
             0.3,
             "#f1b6da"
            ],
            [
             0.4,
             "#fde0ef"
            ],
            [
             0.5,
             "#f7f7f7"
            ],
            [
             0.6,
             "#e6f5d0"
            ],
            [
             0.7,
             "#b8e186"
            ],
            [
             0.8,
             "#7fbc41"
            ],
            [
             0.9,
             "#4d9221"
            ],
            [
             1,
             "#276419"
            ]
           ],
           "sequential": [
            [
             0,
             "#0d0887"
            ],
            [
             0.1111111111111111,
             "#46039f"
            ],
            [
             0.2222222222222222,
             "#7201a8"
            ],
            [
             0.3333333333333333,
             "#9c179e"
            ],
            [
             0.4444444444444444,
             "#bd3786"
            ],
            [
             0.5555555555555556,
             "#d8576b"
            ],
            [
             0.6666666666666666,
             "#ed7953"
            ],
            [
             0.7777777777777778,
             "#fb9f3a"
            ],
            [
             0.8888888888888888,
             "#fdca26"
            ],
            [
             1,
             "#f0f921"
            ]
           ],
           "sequentialminus": [
            [
             0,
             "#0d0887"
            ],
            [
             0.1111111111111111,
             "#46039f"
            ],
            [
             0.2222222222222222,
             "#7201a8"
            ],
            [
             0.3333333333333333,
             "#9c179e"
            ],
            [
             0.4444444444444444,
             "#bd3786"
            ],
            [
             0.5555555555555556,
             "#d8576b"
            ],
            [
             0.6666666666666666,
             "#ed7953"
            ],
            [
             0.7777777777777778,
             "#fb9f3a"
            ],
            [
             0.8888888888888888,
             "#fdca26"
            ],
            [
             1,
             "#f0f921"
            ]
           ]
          },
          "colorway": [
           "#636efa",
           "#EF553B",
           "#00cc96",
           "#ab63fa",
           "#FFA15A",
           "#19d3f3",
           "#FF6692",
           "#B6E880",
           "#FF97FF",
           "#FECB52"
          ],
          "font": {
           "color": "#2a3f5f"
          },
          "geo": {
           "bgcolor": "white",
           "lakecolor": "white",
           "landcolor": "#E5ECF6",
           "showlakes": true,
           "showland": true,
           "subunitcolor": "white"
          },
          "hoverlabel": {
           "align": "left"
          },
          "hovermode": "closest",
          "mapbox": {
           "style": "light"
          },
          "paper_bgcolor": "white",
          "plot_bgcolor": "#E5ECF6",
          "polar": {
           "angularaxis": {
            "gridcolor": "white",
            "linecolor": "white",
            "ticks": ""
           },
           "bgcolor": "#E5ECF6",
           "radialaxis": {
            "gridcolor": "white",
            "linecolor": "white",
            "ticks": ""
           }
          },
          "scene": {
           "xaxis": {
            "backgroundcolor": "#E5ECF6",
            "gridcolor": "white",
            "gridwidth": 2,
            "linecolor": "white",
            "showbackground": true,
            "ticks": "",
            "zerolinecolor": "white"
           },
           "yaxis": {
            "backgroundcolor": "#E5ECF6",
            "gridcolor": "white",
            "gridwidth": 2,
            "linecolor": "white",
            "showbackground": true,
            "ticks": "",
            "zerolinecolor": "white"
           },
           "zaxis": {
            "backgroundcolor": "#E5ECF6",
            "gridcolor": "white",
            "gridwidth": 2,
            "linecolor": "white",
            "showbackground": true,
            "ticks": "",
            "zerolinecolor": "white"
           }
          },
          "shapedefaults": {
           "line": {
            "color": "#2a3f5f"
           }
          },
          "ternary": {
           "aaxis": {
            "gridcolor": "white",
            "linecolor": "white",
            "ticks": ""
           },
           "baxis": {
            "gridcolor": "white",
            "linecolor": "white",
            "ticks": ""
           },
           "bgcolor": "#E5ECF6",
           "caxis": {
            "gridcolor": "white",
            "linecolor": "white",
            "ticks": ""
           }
          },
          "title": {
           "x": 0.05
          },
          "xaxis": {
           "automargin": true,
           "gridcolor": "white",
           "linecolor": "white",
           "ticks": "",
           "title": {
            "standoff": 15
           },
           "zerolinecolor": "white",
           "zerolinewidth": 2
          },
          "yaxis": {
           "automargin": true,
           "gridcolor": "white",
           "linecolor": "white",
           "ticks": "",
           "title": {
            "standoff": 15
           },
           "zerolinecolor": "white",
           "zerolinewidth": 2
          }
         }
        },
        "title": {
         "text": "Discharge Capacity vs Voltage"
        },
        "xaxis": {
         "anchor": "y",
         "domain": [
          0,
          1
         ],
         "title": {
          "text": "voltage"
         }
        },
        "yaxis": {
         "anchor": "x",
         "domain": [
          0,
          1
         ],
         "title": {
          "text": "discharge_capacity"
         }
        }
       }
      }
     },
     "metadata": {},
     "output_type": "display_data"
    }
   ],
   "source": [
    "fig = px.scatter(df_1, y=\"discharge_capacity\", x=\"voltage\", title=\"Discharge Capacity vs Voltage\")\n",
    "fig.show()"
   ]
  },
  {
   "cell_type": "code",
   "execution_count": 8,
   "id": "6a08a121",
   "metadata": {},
   "outputs": [
    {
     "data": {
      "application/vnd.plotly.v1+json": {
       "config": {
        "plotlyServerURL": "https://plot.ly"
       },
       "data": [
        {
         "hovertemplate": "discharge_capacity=%{x}<br>voltage=%{y}<extra></extra>",
         "legendgroup": "",
         "marker": {
          "color": "#636efa",
          "symbol": "circle"
         },
         "mode": "markers",
         "name": "",
         "orientation": "v",
         "showlegend": false,
         "type": "scatter",
         "x": {
          "bdata": "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",
          "dtype": "f8"
         },
         "xaxis": "x",
         "y": {
          "bdata": "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",
          "dtype": "f8"
         },
         "yaxis": "y"
        }
       ],
       "layout": {
        "legend": {
         "tracegroupgap": 0
        },
        "template": {
         "data": {
          "bar": [
           {
            "error_x": {
             "color": "#2a3f5f"
            },
            "error_y": {
             "color": "#2a3f5f"
            },
            "marker": {
             "line": {
              "color": "#E5ECF6",
              "width": 0.5
             },
             "pattern": {
              "fillmode": "overlay",
              "size": 10,
              "solidity": 0.2
             }
            },
            "type": "bar"
           }
          ],
          "barpolar": [
           {
            "marker": {
             "line": {
              "color": "#E5ECF6",
              "width": 0.5
             },
             "pattern": {
              "fillmode": "overlay",
              "size": 10,
              "solidity": 0.2
             }
            },
            "type": "barpolar"
           }
          ],
          "carpet": [
           {
            "aaxis": {
             "endlinecolor": "#2a3f5f",
             "gridcolor": "white",
             "linecolor": "white",
             "minorgridcolor": "white",
             "startlinecolor": "#2a3f5f"
            },
            "baxis": {
             "endlinecolor": "#2a3f5f",
             "gridcolor": "white",
             "linecolor": "white",
             "minorgridcolor": "white",
             "startlinecolor": "#2a3f5f"
            },
            "type": "carpet"
           }
          ],
          "choropleth": [
           {
            "colorbar": {
             "outlinewidth": 0,
             "ticks": ""
            },
            "type": "choropleth"
           }
          ],
          "contour": [
           {
            "colorbar": {
             "outlinewidth": 0,
             "ticks": ""
            },
            "colorscale": [
             [
              0,
              "#0d0887"
             ],
             [
              0.1111111111111111,
              "#46039f"
             ],
             [
              0.2222222222222222,
              "#7201a8"
             ],
             [
              0.3333333333333333,
              "#9c179e"
             ],
             [
              0.4444444444444444,
              "#bd3786"
             ],
             [
              0.5555555555555556,
              "#d8576b"
             ],
             [
              0.6666666666666666,
              "#ed7953"
             ],
             [
              0.7777777777777778,
              "#fb9f3a"
             ],
             [
              0.8888888888888888,
              "#fdca26"
             ],
             [
              1,
              "#f0f921"
             ]
            ],
            "type": "contour"
           }
          ],
          "contourcarpet": [
           {
            "colorbar": {
             "outlinewidth": 0,
             "ticks": ""
            },
            "type": "contourcarpet"
           }
          ],
          "heatmap": [
           {
            "colorbar": {
             "outlinewidth": 0,
             "ticks": ""
            },
            "colorscale": [
             [
              0,
              "#0d0887"
             ],
             [
              0.1111111111111111,
              "#46039f"
             ],
             [
              0.2222222222222222,
              "#7201a8"
             ],
             [
              0.3333333333333333,
              "#9c179e"
             ],
             [
              0.4444444444444444,
              "#bd3786"
             ],
             [
              0.5555555555555556,
              "#d8576b"
             ],
             [
              0.6666666666666666,
              "#ed7953"
             ],
             [
              0.7777777777777778,
              "#fb9f3a"
             ],
             [
              0.8888888888888888,
              "#fdca26"
             ],
             [
              1,
              "#f0f921"
             ]
            ],
            "type": "heatmap"
           }
          ],
          "histogram": [
           {
            "marker": {
             "pattern": {
              "fillmode": "overlay",
              "size": 10,
              "solidity": 0.2
             }
            },
            "type": "histogram"
           }
          ],
          "histogram2d": [
           {
            "colorbar": {
             "outlinewidth": 0,
             "ticks": ""
            },
            "colorscale": [
             [
              0,
              "#0d0887"
             ],
             [
              0.1111111111111111,
              "#46039f"
             ],
             [
              0.2222222222222222,
              "#7201a8"
             ],
             [
              0.3333333333333333,
              "#9c179e"
             ],
             [
              0.4444444444444444,
              "#bd3786"
             ],
             [
              0.5555555555555556,
              "#d8576b"
             ],
             [
              0.6666666666666666,
              "#ed7953"
             ],
             [
              0.7777777777777778,
              "#fb9f3a"
             ],
             [
              0.8888888888888888,
              "#fdca26"
             ],
             [
              1,
              "#f0f921"
             ]
            ],
            "type": "histogram2d"
           }
          ],
          "histogram2dcontour": [
           {
            "colorbar": {
             "outlinewidth": 0,
             "ticks": ""
            },
            "colorscale": [
             [
              0,
              "#0d0887"
             ],
             [
              0.1111111111111111,
              "#46039f"
             ],
             [
              0.2222222222222222,
              "#7201a8"
             ],
             [
              0.3333333333333333,
              "#9c179e"
             ],
             [
              0.4444444444444444,
              "#bd3786"
             ],
             [
              0.5555555555555556,
              "#d8576b"
             ],
             [
              0.6666666666666666,
              "#ed7953"
             ],
             [
              0.7777777777777778,
              "#fb9f3a"
             ],
             [
              0.8888888888888888,
              "#fdca26"
             ],
             [
              1,
              "#f0f921"
             ]
            ],
            "type": "histogram2dcontour"
           }
          ],
          "mesh3d": [
           {
            "colorbar": {
             "outlinewidth": 0,
             "ticks": ""
            },
            "type": "mesh3d"
           }
          ],
          "parcoords": [
           {
            "line": {
             "colorbar": {
              "outlinewidth": 0,
              "ticks": ""
             }
            },
            "type": "parcoords"
           }
          ],
          "pie": [
           {
            "automargin": true,
            "type": "pie"
           }
          ],
          "scatter": [
           {
            "fillpattern": {
             "fillmode": "overlay",
             "size": 10,
             "solidity": 0.2
            },
            "type": "scatter"
           }
          ],
          "scatter3d": [
           {
            "line": {
             "colorbar": {
              "outlinewidth": 0,
              "ticks": ""
             }
            },
            "marker": {
             "colorbar": {
              "outlinewidth": 0,
              "ticks": ""
             }
            },
            "type": "scatter3d"
           }
          ],
          "scattercarpet": [
           {
            "marker": {
             "colorbar": {
              "outlinewidth": 0,
              "ticks": ""
             }
            },
            "type": "scattercarpet"
           }
          ],
          "scattergeo": [
           {
            "marker": {
             "colorbar": {
              "outlinewidth": 0,
              "ticks": ""
             }
            },
            "type": "scattergeo"
           }
          ],
          "scattergl": [
           {
            "marker": {
             "colorbar": {
              "outlinewidth": 0,
              "ticks": ""
             }
            },
            "type": "scattergl"
           }
          ],
          "scattermap": [
           {
            "marker": {
             "colorbar": {
              "outlinewidth": 0,
              "ticks": ""
             }
            },
            "type": "scattermap"
           }
          ],
          "scattermapbox": [
           {
            "marker": {
             "colorbar": {
              "outlinewidth": 0,
              "ticks": ""
             }
            },
            "type": "scattermapbox"
           }
          ],
          "scatterpolar": [
           {
            "marker": {
             "colorbar": {
              "outlinewidth": 0,
              "ticks": ""
             }
            },
            "type": "scatterpolar"
           }
          ],
          "scatterpolargl": [
           {
            "marker": {
             "colorbar": {
              "outlinewidth": 0,
              "ticks": ""
             }
            },
            "type": "scatterpolargl"
           }
          ],
          "scatterternary": [
           {
            "marker": {
             "colorbar": {
              "outlinewidth": 0,
              "ticks": ""
             }
            },
            "type": "scatterternary"
           }
          ],
          "surface": [
           {
            "colorbar": {
             "outlinewidth": 0,
             "ticks": ""
            },
            "colorscale": [
             [
              0,
              "#0d0887"
             ],
             [
              0.1111111111111111,
              "#46039f"
             ],
             [
              0.2222222222222222,
              "#7201a8"
             ],
             [
              0.3333333333333333,
              "#9c179e"
             ],
             [
              0.4444444444444444,
              "#bd3786"
             ],
             [
              0.5555555555555556,
              "#d8576b"
             ],
             [
              0.6666666666666666,
              "#ed7953"
             ],
             [
              0.7777777777777778,
              "#fb9f3a"
             ],
             [
              0.8888888888888888,
              "#fdca26"
             ],
             [
              1,
              "#f0f921"
             ]
            ],
            "type": "surface"
           }
          ],
          "table": [
           {
            "cells": {
             "fill": {
              "color": "#EBF0F8"
             },
             "line": {
              "color": "white"
             }
            },
            "header": {
             "fill": {
              "color": "#C8D4E3"
             },
             "line": {
              "color": "white"
             }
            },
            "type": "table"
           }
          ]
         },
         "layout": {
          "annotationdefaults": {
           "arrowcolor": "#2a3f5f",
           "arrowhead": 0,
           "arrowwidth": 1
          },
          "autotypenumbers": "strict",
          "coloraxis": {
           "colorbar": {
            "outlinewidth": 0,
            "ticks": ""
           }
          },
          "colorscale": {
           "diverging": [
            [
             0,
             "#8e0152"
            ],
            [
             0.1,
             "#c51b7d"
            ],
            [
             0.2,
             "#de77ae"
            ],
            [
             0.3,
             "#f1b6da"
            ],
            [
             0.4,
             "#fde0ef"
            ],
            [
             0.5,
             "#f7f7f7"
            ],
            [
             0.6,
             "#e6f5d0"
            ],
            [
             0.7,
             "#b8e186"
            ],
            [
             0.8,
             "#7fbc41"
            ],
            [
             0.9,
             "#4d9221"
            ],
            [
             1,
             "#276419"
            ]
           ],
           "sequential": [
            [
             0,
             "#0d0887"
            ],
            [
             0.1111111111111111,
             "#46039f"
            ],
            [
             0.2222222222222222,
             "#7201a8"
            ],
            [
             0.3333333333333333,
             "#9c179e"
            ],
            [
             0.4444444444444444,
             "#bd3786"
            ],
            [
             0.5555555555555556,
             "#d8576b"
            ],
            [
             0.6666666666666666,
             "#ed7953"
            ],
            [
             0.7777777777777778,
             "#fb9f3a"
            ],
            [
             0.8888888888888888,
             "#fdca26"
            ],
            [
             1,
             "#f0f921"
            ]
           ],
           "sequentialminus": [
            [
             0,
             "#0d0887"
            ],
            [
             0.1111111111111111,
             "#46039f"
            ],
            [
             0.2222222222222222,
             "#7201a8"
            ],
            [
             0.3333333333333333,
             "#9c179e"
            ],
            [
             0.4444444444444444,
             "#bd3786"
            ],
            [
             0.5555555555555556,
             "#d8576b"
            ],
            [
             0.6666666666666666,
             "#ed7953"
            ],
            [
             0.7777777777777778,
             "#fb9f3a"
            ],
            [
             0.8888888888888888,
             "#fdca26"
            ],
            [
             1,
             "#f0f921"
            ]
           ]
          },
          "colorway": [
           "#636efa",
           "#EF553B",
           "#00cc96",
           "#ab63fa",
           "#FFA15A",
           "#19d3f3",
           "#FF6692",
           "#B6E880",
           "#FF97FF",
           "#FECB52"
          ],
          "font": {
           "color": "#2a3f5f"
          },
          "geo": {
           "bgcolor": "white",
           "lakecolor": "white",
           "landcolor": "#E5ECF6",
           "showlakes": true,
           "showland": true,
           "subunitcolor": "white"
          },
          "hoverlabel": {
           "align": "left"
          },
          "hovermode": "closest",
          "mapbox": {
           "style": "light"
          },
          "paper_bgcolor": "white",
          "plot_bgcolor": "#E5ECF6",
          "polar": {
           "angularaxis": {
            "gridcolor": "white",
            "linecolor": "white",
            "ticks": ""
           },
           "bgcolor": "#E5ECF6",
           "radialaxis": {
            "gridcolor": "white",
            "linecolor": "white",
            "ticks": ""
           }
          },
          "scene": {
           "xaxis": {
            "backgroundcolor": "#E5ECF6",
            "gridcolor": "white",
            "gridwidth": 2,
            "linecolor": "white",
            "showbackground": true,
            "ticks": "",
            "zerolinecolor": "white"
           },
           "yaxis": {
            "backgroundcolor": "#E5ECF6",
            "gridcolor": "white",
            "gridwidth": 2,
            "linecolor": "white",
            "showbackground": true,
            "ticks": "",
            "zerolinecolor": "white"
           },
           "zaxis": {
            "backgroundcolor": "#E5ECF6",
            "gridcolor": "white",
            "gridwidth": 2,
            "linecolor": "white",
            "showbackground": true,
            "ticks": "",
            "zerolinecolor": "white"
           }
          },
          "shapedefaults": {
           "line": {
            "color": "#2a3f5f"
           }
          },
          "ternary": {
           "aaxis": {
            "gridcolor": "white",
            "linecolor": "white",
            "ticks": ""
           },
           "baxis": {
            "gridcolor": "white",
            "linecolor": "white",
            "ticks": ""
           },
           "bgcolor": "#E5ECF6",
           "caxis": {
            "gridcolor": "white",
            "linecolor": "white",
            "ticks": ""
           }
          },
          "title": {
           "x": 0.05
          },
          "xaxis": {
           "automargin": true,
           "gridcolor": "white",
           "linecolor": "white",
           "ticks": "",
           "title": {
            "standoff": 15
           },
           "zerolinecolor": "white",
           "zerolinewidth": 2
          },
          "yaxis": {
           "automargin": true,
           "gridcolor": "white",
           "linecolor": "white",
           "ticks": "",
           "title": {
            "standoff": 15
           },
           "zerolinecolor": "white",
           "zerolinewidth": 2
          }
         }
        },
        "title": {
         "text": "Discharge Capacity vs Voltage"
        },
        "xaxis": {
         "anchor": "y",
         "domain": [
          0,
          1
         ],
         "title": {
          "text": "discharge_capacity"
         }
        },
        "yaxis": {
         "anchor": "x",
         "domain": [
          0,
          1
         ],
         "title": {
          "text": "voltage"
         }
        }
       }
      }
     },
     "metadata": {},
     "output_type": "display_data"
    }
   ],
   "source": [
    "fig = px.scatter(df_1, x=\"discharge_capacity\", y=\"voltage\", title=\"Discharge Capacity vs Voltage\")\n",
    "fig.show()"
   ]
  },
  {
   "cell_type": "code",
   "execution_count": 9,
   "id": "e7e49ad8",
   "metadata": {},
   "outputs": [
    {
     "data": {
      "application/vnd.microsoft.datawrangler.viewer.v0+json": {
       "columns": [
        {
         "name": "index",
         "rawType": "int64",
         "type": "integer"
        },
        {
         "name": "voltage",
         "rawType": "float64",
         "type": "float"
        },
        {
         "name": "current",
         "rawType": "float64",
         "type": "float"
        },
        {
         "name": "internal_resistance",
         "rawType": "float64",
         "type": "float"
        },
        {
         "name": "temperature",
         "rawType": "float64",
         "type": "float"
        },
        {
         "name": "charge_capacity",
         "rawType": "float64",
         "type": "float"
        },
        {
         "name": "discharge_capacity",
         "rawType": "float64",
         "type": "float"
        },
        {
         "name": "cycle_index",
         "rawType": "int64",
         "type": "integer"
        },
        {
         "name": "step_type",
         "rawType": "object",
         "type": "string"
        },
        {
         "name": "file_name",
         "rawType": "object",
         "type": "string"
        }
       ],
       "ref": "57109f3a-f53b-4f91-a2e4-73a72b62da6a",
       "rows": [
        [
         "1000",
         "2.799999952316284",
         "-4.399886608123779",
         "0.0178641229867935",
         "34.12860870361328",
         "1.0456483",
         "0.9684191211600496",
         "1",
         "discharge",
         "FastCharge_000000_CH19_structure"
        ],
        [
         "1001",
         "2.800700664520264",
         "-4.399871826171875",
         "0.0178641229867935",
         "34.1243782043457",
         "1.0456483",
         "0.9682016574783744",
         "1",
         "discharge",
         "FastCharge_000000_CH19_structure"
        ],
        [
         "1002",
         "2.801401376724243",
         "-4.399857044219971",
         "0.0178641229867935",
         "34.12015151977539",
         "1.0456483",
         "0.9679841937966996",
         "1",
         "discharge",
         "FastCharge_000000_CH19_structure"
        ],
        [
         "1003",
         "2.8021020889282227",
         "-4.3998541831970215",
         "0.0178641229867935",
         "34.147098541259766",
         "1.0456483",
         "0.9677637034108094",
         "1",
         "discharge",
         "FastCharge_000000_CH19_structure"
        ],
        [
         "1004",
         "2.802802801132202",
         "-4.399866580963135",
         "0.0178641229867935",
         "34.144996643066406",
         "1.0456483",
         "0.9675393229674956",
         "1",
         "discharge",
         "FastCharge_000000_CH19_structure"
        ],
        [
         "1005",
         "2.8035035133361816",
         "-4.39987850189209",
         "0.0178641229867935",
         "34.14289093017578",
         "1.0456483",
         "0.9673149425241816",
         "1",
         "discharge",
         "FastCharge_000000_CH19_structure"
        ],
        [
         "1006",
         "2.804204225540161",
         "-4.399890899658203",
         "0.0178641229867935",
         "34.14078903198242",
         "1.0456483",
         "0.9670905620808676",
         "1",
         "discharge",
         "FastCharge_000000_CH19_structure"
        ],
        [
         "1007",
         "2.8049049377441406",
         "-4.399902820587158",
         "0.0178641229867935",
         "34.13868713378906",
         "1.0456483",
         "0.9668661816375534",
         "1",
         "discharge",
         "FastCharge_000000_CH19_structure"
        ],
        [
         "1008",
         "2.80560564994812",
         "-4.399915218353272",
         "0.0178641229867935",
         "34.1365852355957",
         "1.0456483",
         "0.9666418011942396",
         "1",
         "discharge",
         "FastCharge_000000_CH19_structure"
        ],
        [
         "1009",
         "2.8063063621521",
         "-4.399927139282227",
         "0.0178641229867935",
         "34.134483337402344",
         "1.0456483",
         "0.9664174207509256",
         "1",
         "discharge",
         "FastCharge_000000_CH19_structure"
        ],
        [
         "1010",
         "2.807007074356079",
         "-4.39993953704834",
         "0.0178641229867935",
         "34.13237762451172",
         "1.0456483000000003",
         "0.9661930403076116",
         "1",
         "discharge",
         "FastCharge_000000_CH19_structure"
        ],
        [
         "1011",
         "2.8077077865600586",
         "-4.399951457977295",
         "0.0178641229867935",
         "34.13027572631836",
         "1.0456483",
         "0.9659686598642976",
         "1",
         "discharge",
         "FastCharge_000000_CH19_structure"
        ],
        [
         "1012",
         "2.808408498764038",
         "-4.399963855743408",
         "0.0178641229867935",
         "34.128173828125",
         "1.0456483",
         "0.9657442794209836",
         "1",
         "discharge",
         "FastCharge_000000_CH19_structure"
        ],
        [
         "1013",
         "2.8091092109680176",
         "-4.399975776672363",
         "0.0178641229867935",
         "34.12607192993164",
         "1.0456483000000003",
         "0.9655198989776697",
         "1",
         "discharge",
         "FastCharge_000000_CH19_structure"
        ],
        [
         "1014",
         "2.809809923171997",
         "-4.399988174438477",
         "0.0178641229867935",
         "34.123966217041016",
         "1.0456483",
         "0.9652955185343556",
         "1",
         "discharge",
         "FastCharge_000000_CH19_structure"
        ],
        [
         "1015",
         "2.810510396957397",
         "-4.400000095367432",
         "0.0178641229867935",
         "34.121864318847656",
         "1.0456483",
         "0.9650711380910416",
         "1",
         "discharge",
         "FastCharge_000000_CH19_structure"
        ],
        [
         "1016",
         "2.811211109161377",
         "-4.400012493133545",
         "0.0178641229867935",
         "34.1197624206543",
         "1.0456483",
         "0.9648467576477278",
         "1",
         "discharge",
         "FastCharge_000000_CH19_structure"
        ],
        [
         "1017",
         "2.8119118213653564",
         "-4.400022983551025",
         "0.0178641229867935",
         "34.11775588989258",
         "1.0456483",
         "0.964621067405",
         "1",
         "discharge",
         "FastCharge_000000_CH19_structure"
        ],
        [
         "1018",
         "2.812612533569336",
         "-4.400003433227539",
         "0.0178641229867935",
         "34.117454528808594",
         "1.0456483000000003",
         "0.9643719125844348",
         "1",
         "discharge",
         "FastCharge_000000_CH19_structure"
        ],
        [
         "1019",
         "2.8133132457733154",
         "-4.399983406066895",
         "0.0178641229867935",
         "34.11715316772461",
         "1.0456483",
         "0.9641227577638692",
         "1",
         "discharge",
         "FastCharge_000000_CH19_structure"
        ],
        [
         "1020",
         "2.814013957977295",
         "-4.399963855743408",
         "0.0178641229867935",
         "34.11685562133789",
         "1.0456483",
         "0.9638736029433038",
         "1",
         "discharge",
         "FastCharge_000000_CH19_structure"
        ],
        [
         "1021",
         "2.8147146701812744",
         "-4.399944305419922",
         "0.0178641229867935",
         "34.116554260253906",
         "1.0456483",
         "0.9636244481227384",
         "1",
         "discharge",
         "FastCharge_000000_CH19_structure"
        ],
        [
         "1022",
         "2.815415382385254",
         "-4.399924755096436",
         "0.0178641229867935",
         "34.11625289916992",
         "1.0456483",
         "0.963375293302173",
         "1",
         "discharge",
         "FastCharge_000000_CH19_structure"
        ],
        [
         "1023",
         "2.8161160945892334",
         "-4.399905204772949",
         "0.0178641229867935",
         "34.11595153808594",
         "1.0456483",
         "0.9631261384816076",
         "1",
         "discharge",
         "FastCharge_000000_CH19_structure"
        ],
        [
         "1024",
         "2.816816806793213",
         "-4.399885654449463",
         "0.0178641229867935",
         "34.11565399169922",
         "1.0456483",
         "0.962876983661042",
         "1",
         "discharge",
         "FastCharge_000000_CH19_structure"
        ],
        [
         "1025",
         "2.8175175189971924",
         "-4.399865627288818",
         "0.0178641229867935",
         "34.115352630615234",
         "1.0456483",
         "0.9626278288404768",
         "1",
         "discharge",
         "FastCharge_000000_CH19_structure"
        ],
        [
         "1026",
         "2.818218231201172",
         "-4.399846076965332",
         "0.0178641229867935",
         "34.11505126953125",
         "1.0456483000000003",
         "0.9623786740199114",
         "1",
         "discharge",
         "FastCharge_000000_CH19_structure"
        ],
        [
         "1027",
         "2.818918943405152",
         "-4.399826526641846",
         "0.0178641229867935",
         "34.11475372314453",
         "1.0456483",
         "0.962129519199346",
         "1",
         "discharge",
         "FastCharge_000000_CH19_structure"
        ],
        [
         "1028",
         "2.819619655609131",
         "-4.399806976318359",
         "0.0178641229867935",
         "34.11445236206055",
         "1.0456483",
         "0.9618803643787806",
         "1",
         "discharge",
         "FastCharge_000000_CH19_structure"
        ],
        [
         "1029",
         "2.8203203678131104",
         "-4.399787425994873",
         "0.0178641229867935",
         "34.11415100097656",
         "1.0456483000000003",
         "0.9616312095582152",
         "1",
         "discharge",
         "FastCharge_000000_CH19_structure"
        ],
        [
         "1030",
         "2.82102108001709",
         "-4.3997673988342285",
         "0.0178641229867935",
         "34.11384963989258",
         "1.0456483000000003",
         "0.9613820547376496",
         "1",
         "discharge",
         "FastCharge_000000_CH19_structure"
        ],
        [
         "1031",
         "2.8217217922210693",
         "-4.399747848510742",
         "0.0178641229867935",
         "34.11355209350586",
         "1.0456483",
         "0.9611328999170844",
         "1",
         "discharge",
         "FastCharge_000000_CH19_structure"
        ],
        [
         "1032",
         "2.822422504425049",
         "-4.399758338928223",
         "0.0178641229867935",
         "34.11185073852539",
         "1.0456483000000003",
         "0.9608700872911348",
         "1",
         "discharge",
         "FastCharge_000000_CH19_structure"
        ],
        [
         "1033",
         "2.8231232166290283",
         "-4.399779796600342",
         "0.0178641229867935",
         "34.109619140625",
         "1.0456483",
         "0.960602102213716",
         "1",
         "discharge",
         "FastCharge_000000_CH19_structure"
        ],
        [
         "1034",
         "2.823823928833008",
         "-4.399801731109619",
         "0.0178641229867935",
         "34.10738754272461",
         "1.0456483",
         "0.9603341171362972",
         "1",
         "discharge",
         "FastCharge_000000_CH19_structure"
        ],
        [
         "1035",
         "2.8245246410369877",
         "-4.399823188781738",
         "0.0178641229867935",
         "34.10515594482422",
         "1.0456483",
         "0.9600661320588784",
         "1",
         "discharge",
         "FastCharge_000000_CH19_structure"
        ],
        [
         "1036",
         "2.825225114822388",
         "-4.399845123291016",
         "0.0178641229867935",
         "34.10292053222656",
         "1.0456483000000003",
         "0.9597981469814594",
         "1",
         "discharge",
         "FastCharge_000000_CH19_structure"
        ],
        [
         "1037",
         "2.825925827026367",
         "-4.399866580963135",
         "0.0178641229867935",
         "34.10068893432617",
         "1.0456483",
         "0.9595301619040406",
         "1",
         "discharge",
         "FastCharge_000000_CH19_structure"
        ],
        [
         "1038",
         "2.8266265392303467",
         "-4.399888038635254",
         "0.0178641229867935",
         "34.09845733642578",
         "1.0456483",
         "0.9592621768266216",
         "1",
         "discharge",
         "FastCharge_000000_CH19_structure"
        ],
        [
         "1039",
         "2.827327251434326",
         "-4.399909973144531",
         "0.0178641229867935",
         "34.09622573852539",
         "1.0456483",
         "0.9589941917492032",
         "1",
         "discharge",
         "FastCharge_000000_CH19_structure"
        ],
        [
         "1040",
         "2.8280279636383057",
         "-4.39993143081665",
         "0.0178641229867935",
         "34.093994140625",
         "1.0456483",
         "0.958726206671784",
         "1",
         "discharge",
         "FastCharge_000000_CH19_structure"
        ],
        [
         "1041",
         "2.828728675842285",
         "-4.399953365325928",
         "0.0178641229867935",
         "34.09176254272461",
         "1.0456483",
         "0.9584582215943652",
         "1",
         "discharge",
         "FastCharge_000000_CH19_structure"
        ],
        [
         "1042",
         "2.8294293880462646",
         "-4.399974822998047",
         "0.0178641229867935",
         "34.08953094482422",
         "1.0456483",
         "0.9581902365169466",
         "1",
         "discharge",
         "FastCharge_000000_CH19_structure"
        ],
        [
         "1043",
         "2.830130100250244",
         "-4.399996280670166",
         "0.0178641229867935",
         "34.08729934692383",
         "1.0456483",
         "0.9579222514395276",
         "1",
         "discharge",
         "FastCharge_000000_CH19_structure"
        ],
        [
         "1044",
         "2.830830812454224",
         "-4.400018215179443",
         "0.0178641229867935",
         "34.08506774902344",
         "1.0456483",
         "0.9576542663621088",
         "1",
         "discharge",
         "FastCharge_000000_CH19_structure"
        ],
        [
         "1045",
         "2.831531524658203",
         "-4.4000396728515625",
         "0.0178641229867935",
         "34.08283615112305",
         "1.0456483",
         "0.95738628128469",
         "1",
         "discharge",
         "FastCharge_000000_CH19_structure"
        ],
        [
         "1046",
         "2.8322322368621826",
         "-4.400052547454834",
         "0.0178641229867935",
         "34.081016540527344",
         "1.0456483",
         "0.9571115467565254",
         "1",
         "discharge",
         "FastCharge_000000_CH19_structure"
        ],
        [
         "1047",
         "2.832932949066162",
         "-4.400051116943359",
         "0.0178641229867935",
         "34.079837799072266",
         "1.0456483",
         "0.956826237096988",
         "1",
         "discharge",
         "FastCharge_000000_CH19_structure"
        ],
        [
         "1048",
         "2.8336336612701416",
         "-4.400050163269043",
         "0.0178641229867935",
         "34.07865905761719",
         "1.0456483",
         "0.9565409274374506",
         "1",
         "discharge",
         "FastCharge_000000_CH19_structure"
        ],
        [
         "1049",
         "2.834334373474121",
         "-4.400048732757568",
         "0.0178641229867935",
         "34.077484130859375",
         "1.0456483",
         "0.9562556177779132",
         "1",
         "discharge",
         "FastCharge_000000_CH19_structure"
        ]
       ],
       "shape": {
        "columns": 9,
        "rows": 9679
       }
      },
      "text/html": [
       "<div>\n",
       "<style scoped>\n",
       "    .dataframe tbody tr th:only-of-type {\n",
       "        vertical-align: middle;\n",
       "    }\n",
       "\n",
       "    .dataframe tbody tr th {\n",
       "        vertical-align: top;\n",
       "    }\n",
       "\n",
       "    .dataframe thead th {\n",
       "        text-align: right;\n",
       "    }\n",
       "</style>\n",
       "<table border=\"1\" class=\"dataframe\">\n",
       "  <thead>\n",
       "    <tr style=\"text-align: right;\">\n",
       "      <th></th>\n",
       "      <th>voltage</th>\n",
       "      <th>current</th>\n",
       "      <th>internal_resistance</th>\n",
       "      <th>temperature</th>\n",
       "      <th>charge_capacity</th>\n",
       "      <th>discharge_capacity</th>\n",
       "      <th>cycle_index</th>\n",
       "      <th>step_type</th>\n",
       "      <th>file_name</th>\n",
       "    </tr>\n",
       "  </thead>\n",
       "  <tbody>\n",
       "    <tr>\n",
       "      <th>1000</th>\n",
       "      <td>2.800000</td>\n",
       "      <td>-4.399887</td>\n",
       "      <td>0.017864</td>\n",
       "      <td>34.128609</td>\n",
       "      <td>1.045648</td>\n",
       "      <td>0.968419</td>\n",
       "      <td>1</td>\n",
       "      <td>discharge</td>\n",
       "      <td>FastCharge_000000_CH19_structure</td>\n",
       "    </tr>\n",
       "    <tr>\n",
       "      <th>1001</th>\n",
       "      <td>2.800701</td>\n",
       "      <td>-4.399872</td>\n",
       "      <td>0.017864</td>\n",
       "      <td>34.124378</td>\n",
       "      <td>1.045648</td>\n",
       "      <td>0.968202</td>\n",
       "      <td>1</td>\n",
       "      <td>discharge</td>\n",
       "      <td>FastCharge_000000_CH19_structure</td>\n",
       "    </tr>\n",
       "    <tr>\n",
       "      <th>1002</th>\n",
       "      <td>2.801401</td>\n",
       "      <td>-4.399857</td>\n",
       "      <td>0.017864</td>\n",
       "      <td>34.120152</td>\n",
       "      <td>1.045648</td>\n",
       "      <td>0.967984</td>\n",
       "      <td>1</td>\n",
       "      <td>discharge</td>\n",
       "      <td>FastCharge_000000_CH19_structure</td>\n",
       "    </tr>\n",
       "    <tr>\n",
       "      <th>1003</th>\n",
       "      <td>2.802102</td>\n",
       "      <td>-4.399854</td>\n",
       "      <td>0.017864</td>\n",
       "      <td>34.147099</td>\n",
       "      <td>1.045648</td>\n",
       "      <td>0.967764</td>\n",
       "      <td>1</td>\n",
       "      <td>discharge</td>\n",
       "      <td>FastCharge_000000_CH19_structure</td>\n",
       "    </tr>\n",
       "    <tr>\n",
       "      <th>1004</th>\n",
       "      <td>2.802803</td>\n",
       "      <td>-4.399867</td>\n",
       "      <td>0.017864</td>\n",
       "      <td>34.144997</td>\n",
       "      <td>1.045648</td>\n",
       "      <td>0.967539</td>\n",
       "      <td>1</td>\n",
       "      <td>discharge</td>\n",
       "      <td>FastCharge_000000_CH19_structure</td>\n",
       "    </tr>\n",
       "    <tr>\n",
       "      <th>...</th>\n",
       "      <td>...</td>\n",
       "      <td>...</td>\n",
       "      <td>...</td>\n",
       "      <td>...</td>\n",
       "      <td>...</td>\n",
       "      <td>...</td>\n",
       "      <td>...</td>\n",
       "      <td>...</td>\n",
       "      <td>...</td>\n",
       "    </tr>\n",
       "    <tr>\n",
       "      <th>451910</th>\n",
       "      <td>3.437638</td>\n",
       "      <td>-4.399494</td>\n",
       "      <td>0.019541</td>\n",
       "      <td>30.879229</td>\n",
       "      <td>0.899043</td>\n",
       "      <td>0.000545</td>\n",
       "      <td>451</td>\n",
       "      <td>discharge</td>\n",
       "      <td>FastCharge_000000_CH19_structure</td>\n",
       "    </tr>\n",
       "    <tr>\n",
       "      <th>451911</th>\n",
       "      <td>3.438338</td>\n",
       "      <td>-4.399515</td>\n",
       "      <td>0.019541</td>\n",
       "      <td>30.879229</td>\n",
       "      <td>0.899043</td>\n",
       "      <td>0.000453</td>\n",
       "      <td>451</td>\n",
       "      <td>discharge</td>\n",
       "      <td>FastCharge_000000_CH19_structure</td>\n",
       "    </tr>\n",
       "    <tr>\n",
       "      <th>451912</th>\n",
       "      <td>3.439039</td>\n",
       "      <td>-4.399537</td>\n",
       "      <td>0.019541</td>\n",
       "      <td>30.879229</td>\n",
       "      <td>0.899043</td>\n",
       "      <td>0.000361</td>\n",
       "      <td>451</td>\n",
       "      <td>discharge</td>\n",
       "      <td>FastCharge_000000_CH19_structure</td>\n",
       "    </tr>\n",
       "    <tr>\n",
       "      <th>451913</th>\n",
       "      <td>3.439740</td>\n",
       "      <td>-4.399558</td>\n",
       "      <td>0.019541</td>\n",
       "      <td>30.879229</td>\n",
       "      <td>0.899043</td>\n",
       "      <td>0.000270</td>\n",
       "      <td>451</td>\n",
       "      <td>discharge</td>\n",
       "      <td>FastCharge_000000_CH19_structure</td>\n",
       "    </tr>\n",
       "    <tr>\n",
       "      <th>451914</th>\n",
       "      <td>3.440440</td>\n",
       "      <td>-4.399580</td>\n",
       "      <td>0.019541</td>\n",
       "      <td>30.879229</td>\n",
       "      <td>0.899043</td>\n",
       "      <td>0.000178</td>\n",
       "      <td>451</td>\n",
       "      <td>discharge</td>\n",
       "      <td>FastCharge_000000_CH19_structure</td>\n",
       "    </tr>\n",
       "  </tbody>\n",
       "</table>\n",
       "<p>9679 rows × 9 columns</p>\n",
       "</div>"
      ],
      "text/plain": [
       "         voltage   current  internal_resistance  temperature  charge_capacity  \\\n",
       "1000    2.800000 -4.399887             0.017864    34.128609         1.045648   \n",
       "1001    2.800701 -4.399872             0.017864    34.124378         1.045648   \n",
       "1002    2.801401 -4.399857             0.017864    34.120152         1.045648   \n",
       "1003    2.802102 -4.399854             0.017864    34.147099         1.045648   \n",
       "1004    2.802803 -4.399867             0.017864    34.144997         1.045648   \n",
       "...          ...       ...                  ...          ...              ...   \n",
       "451910  3.437638 -4.399494             0.019541    30.879229         0.899043   \n",
       "451911  3.438338 -4.399515             0.019541    30.879229         0.899043   \n",
       "451912  3.439039 -4.399537             0.019541    30.879229         0.899043   \n",
       "451913  3.439740 -4.399558             0.019541    30.879229         0.899043   \n",
       "451914  3.440440 -4.399580             0.019541    30.879229         0.899043   \n",
       "\n",
       "        discharge_capacity  cycle_index  step_type  \\\n",
       "1000              0.968419            1  discharge   \n",
       "1001              0.968202            1  discharge   \n",
       "1002              0.967984            1  discharge   \n",
       "1003              0.967764            1  discharge   \n",
       "1004              0.967539            1  discharge   \n",
       "...                    ...          ...        ...   \n",
       "451910            0.000545          451  discharge   \n",
       "451911            0.000453          451  discharge   \n",
       "451912            0.000361          451  discharge   \n",
       "451913            0.000270          451  discharge   \n",
       "451914            0.000178          451  discharge   \n",
       "\n",
       "                               file_name  \n",
       "1000    FastCharge_000000_CH19_structure  \n",
       "1001    FastCharge_000000_CH19_structure  \n",
       "1002    FastCharge_000000_CH19_structure  \n",
       "1003    FastCharge_000000_CH19_structure  \n",
       "1004    FastCharge_000000_CH19_structure  \n",
       "...                                  ...  \n",
       "451910  FastCharge_000000_CH19_structure  \n",
       "451911  FastCharge_000000_CH19_structure  \n",
       "451912  FastCharge_000000_CH19_structure  \n",
       "451913  FastCharge_000000_CH19_structure  \n",
       "451914  FastCharge_000000_CH19_structure  \n",
       "\n",
       "[9679 rows x 9 columns]"
      ]
     },
     "execution_count": 9,
     "metadata": {},
     "output_type": "execute_result"
    }
   ],
   "source": [
    "df"
   ]
  },
  {
   "cell_type": "code",
   "execution_count": 10,
   "id": "3a061e0e",
   "metadata": {},
   "outputs": [],
   "source": [
    "file_path = './datasets/matr/cell_records/cell_recordsFastCharge_000001_CH16_structure.parquet'\n",
    "df_raw = df = pd.read_parquet(file_path)\n",
    "df_raw.to_csv(\"./datasets/matr/cell_records/cell_recordsFastCharge_000001_CH16_structure.csv\", index=False)\n",
    "df_cycle_1 = df[df[\"cycle_index\"] == 1]"
   ]
  },
  {
   "cell_type": "code",
   "execution_count": 11,
   "id": "02228e27",
   "metadata": {},
   "outputs": [
    {
     "data": {
      "text/plain": [
       "array(['discharge', 'charge'], dtype=object)"
      ]
     },
     "execution_count": 11,
     "metadata": {},
     "output_type": "execute_result"
    }
   ],
   "source": [
    "df_cycle_1[\"step_type\"].unique()"
   ]
  },
  {
   "cell_type": "code",
   "execution_count": 12,
   "id": "5def5348",
   "metadata": {},
   "outputs": [],
   "source": [
    "def interpolate(df, voltage_val, target_column):\n",
    "    \"\"\"\n",
    "    Linearly interpolate a value from the target_column at a given voltage.\n",
    "\n",
    "    Parameters:\n",
    "    - df: pandas DataFrame containing at least 'voltage' and the target_column\n",
    "    - voltage_val: the voltage at which to estimate the target_column value\n",
    "    - target_column: the name of the column to interpolate (e.g., 'current')\n",
    "\n",
    "    Returns:\n",
    "    - interpolated value (float)\n",
    "    \"\"\"\n",
    "    # Sort by voltage just in case\n",
    "    df_sorted = df.sort_values('voltage')\n",
    "\n",
    "    # Check if voltage_val is within the data range\n",
    "    if voltage_val < df_sorted['voltage'].min() or voltage_val > df_sorted['voltage'].max():\n",
    "        raise ValueError(\"voltage_val is outside the range of the voltage data\")\n",
    "\n",
    "    # Find the two rows around the target voltage\n",
    "    lower = df_sorted[df_sorted['voltage'] <= voltage_val].iloc[-1]\n",
    "    upper = df_sorted[df_sorted['voltage'] >= voltage_val].iloc[0]\n",
    "\n",
    "    # If voltage_val exactly matches a point\n",
    "    if lower['voltage'] == upper['voltage']:\n",
    "        return lower[target_column]\n",
    "\n",
    "    # Linear interpolation\n",
    "    x0, y0 = lower['voltage'], lower[target_column]\n",
    "    x1, y1 = upper['voltage'], upper[target_column]\n",
    "\n",
    "    return y0 + (y1 - y0) * (voltage_val - x0) / (x1 - x0)\n"
   ]
  },
  {
   "cell_type": "code",
   "execution_count": 13,
   "id": "9eb4ce18",
   "metadata": {},
   "outputs": [],
   "source": [
    "vols = [3.4, 3.36, 3.32, 3.28, 3.24, 3.2, 3.16, 3.12, 3.08, 3.04, 3.0, 2.96, 2.92, 2.88, 2.84]"
   ]
  },
  {
   "cell_type": "code",
   "execution_count": 14,
   "id": "4c8bf852",
   "metadata": {},
   "outputs": [],
   "source": [
    "caps = [interpolate(df_cycle_1, vol, \"discharge_capacity\") for vol in vols]"
   ]
  },
  {
   "cell_type": "code",
   "execution_count": 15,
   "id": "8bea4654",
   "metadata": {},
   "outputs": [
    {
     "data": {
      "application/vnd.plotly.v1+json": {
       "config": {
        "plotlyServerURL": "https://plot.ly"
       },
       "data": [
        {
         "hovertemplate": "x=%{x}<br>y=%{y}<extra></extra>",
         "legendgroup": "",
         "line": {
          "color": "#636efa",
          "dash": "solid"
         },
         "marker": {
          "symbol": "circle"
         },
         "mode": "lines",
         "name": "",
         "orientation": "v",
         "showlegend": false,
         "type": "scatter",
         "x": {
          "bdata": "MzMzMzMzC0DhehSuR+EKQI/C9ShcjwpAPQrXo3A9CkDsUbgehesJQJqZmZmZmQlASOF6FK5HCUD2KFyPwvUIQKRwPQrXowhAUrgehetRCEAAAAAAAAAIQK5H4XoUrgdAXI/C9ShcB0AK16NwPQoHQLgehetRuAZA",
          "dtype": "f8"
         },
         "xaxis": "x",
         "y": {
          "bdata": "9gKSyfPlaj9Pw6r75PpNP0eO1o2qEIA/U9e6RMpnkD+8hrk6gyOaP/h9Zqrpxqg/ks1ptpOHyD9BEIxGh73bP1XwW/lO5eM/+M87JWpB6D8hX+u7UBTrPz4+A5mo5Ow/tPxI4hQa7j/qS20RLOzuP/BUOu5Ueu8/",
          "dtype": "f8"
         },
         "yaxis": "y"
        }
       ],
       "layout": {
        "legend": {
         "tracegroupgap": 0
        },
        "margin": {
         "t": 60
        },
        "template": {
         "data": {
          "bar": [
           {
            "error_x": {
             "color": "#2a3f5f"
            },
            "error_y": {
             "color": "#2a3f5f"
            },
            "marker": {
             "line": {
              "color": "#E5ECF6",
              "width": 0.5
             },
             "pattern": {
              "fillmode": "overlay",
              "size": 10,
              "solidity": 0.2
             }
            },
            "type": "bar"
           }
          ],
          "barpolar": [
           {
            "marker": {
             "line": {
              "color": "#E5ECF6",
              "width": 0.5
             },
             "pattern": {
              "fillmode": "overlay",
              "size": 10,
              "solidity": 0.2
             }
            },
            "type": "barpolar"
           }
          ],
          "carpet": [
           {
            "aaxis": {
             "endlinecolor": "#2a3f5f",
             "gridcolor": "white",
             "linecolor": "white",
             "minorgridcolor": "white",
             "startlinecolor": "#2a3f5f"
            },
            "baxis": {
             "endlinecolor": "#2a3f5f",
             "gridcolor": "white",
             "linecolor": "white",
             "minorgridcolor": "white",
             "startlinecolor": "#2a3f5f"
            },
            "type": "carpet"
           }
          ],
          "choropleth": [
           {
            "colorbar": {
             "outlinewidth": 0,
             "ticks": ""
            },
            "type": "choropleth"
           }
          ],
          "contour": [
           {
            "colorbar": {
             "outlinewidth": 0,
             "ticks": ""
            },
            "colorscale": [
             [
              0,
              "#0d0887"
             ],
             [
              0.1111111111111111,
              "#46039f"
             ],
             [
              0.2222222222222222,
              "#7201a8"
             ],
             [
              0.3333333333333333,
              "#9c179e"
             ],
             [
              0.4444444444444444,
              "#bd3786"
             ],
             [
              0.5555555555555556,
              "#d8576b"
             ],
             [
              0.6666666666666666,
              "#ed7953"
             ],
             [
              0.7777777777777778,
              "#fb9f3a"
             ],
             [
              0.8888888888888888,
              "#fdca26"
             ],
             [
              1,
              "#f0f921"
             ]
            ],
            "type": "contour"
           }
          ],
          "contourcarpet": [
           {
            "colorbar": {
             "outlinewidth": 0,
             "ticks": ""
            },
            "type": "contourcarpet"
           }
          ],
          "heatmap": [
           {
            "colorbar": {
             "outlinewidth": 0,
             "ticks": ""
            },
            "colorscale": [
             [
              0,
              "#0d0887"
             ],
             [
              0.1111111111111111,
              "#46039f"
             ],
             [
              0.2222222222222222,
              "#7201a8"
             ],
             [
              0.3333333333333333,
              "#9c179e"
             ],
             [
              0.4444444444444444,
              "#bd3786"
             ],
             [
              0.5555555555555556,
              "#d8576b"
             ],
             [
              0.6666666666666666,
              "#ed7953"
             ],
             [
              0.7777777777777778,
              "#fb9f3a"
             ],
             [
              0.8888888888888888,
              "#fdca26"
             ],
             [
              1,
              "#f0f921"
             ]
            ],
            "type": "heatmap"
           }
          ],
          "histogram": [
           {
            "marker": {
             "pattern": {
              "fillmode": "overlay",
              "size": 10,
              "solidity": 0.2
             }
            },
            "type": "histogram"
           }
          ],
          "histogram2d": [
           {
            "colorbar": {
             "outlinewidth": 0,
             "ticks": ""
            },
            "colorscale": [
             [
              0,
              "#0d0887"
             ],
             [
              0.1111111111111111,
              "#46039f"
             ],
             [
              0.2222222222222222,
              "#7201a8"
             ],
             [
              0.3333333333333333,
              "#9c179e"
             ],
             [
              0.4444444444444444,
              "#bd3786"
             ],
             [
              0.5555555555555556,
              "#d8576b"
             ],
             [
              0.6666666666666666,
              "#ed7953"
             ],
             [
              0.7777777777777778,
              "#fb9f3a"
             ],
             [
              0.8888888888888888,
              "#fdca26"
             ],
             [
              1,
              "#f0f921"
             ]
            ],
            "type": "histogram2d"
           }
          ],
          "histogram2dcontour": [
           {
            "colorbar": {
             "outlinewidth": 0,
             "ticks": ""
            },
            "colorscale": [
             [
              0,
              "#0d0887"
             ],
             [
              0.1111111111111111,
              "#46039f"
             ],
             [
              0.2222222222222222,
              "#7201a8"
             ],
             [
              0.3333333333333333,
              "#9c179e"
             ],
             [
              0.4444444444444444,
              "#bd3786"
             ],
             [
              0.5555555555555556,
              "#d8576b"
             ],
             [
              0.6666666666666666,
              "#ed7953"
             ],
             [
              0.7777777777777778,
              "#fb9f3a"
             ],
             [
              0.8888888888888888,
              "#fdca26"
             ],
             [
              1,
              "#f0f921"
             ]
            ],
            "type": "histogram2dcontour"
           }
          ],
          "mesh3d": [
           {
            "colorbar": {
             "outlinewidth": 0,
             "ticks": ""
            },
            "type": "mesh3d"
           }
          ],
          "parcoords": [
           {
            "line": {
             "colorbar": {
              "outlinewidth": 0,
              "ticks": ""
             }
            },
            "type": "parcoords"
           }
          ],
          "pie": [
           {
            "automargin": true,
            "type": "pie"
           }
          ],
          "scatter": [
           {
            "fillpattern": {
             "fillmode": "overlay",
             "size": 10,
             "solidity": 0.2
            },
            "type": "scatter"
           }
          ],
          "scatter3d": [
           {
            "line": {
             "colorbar": {
              "outlinewidth": 0,
              "ticks": ""
             }
            },
            "marker": {
             "colorbar": {
              "outlinewidth": 0,
              "ticks": ""
             }
            },
            "type": "scatter3d"
           }
          ],
          "scattercarpet": [
           {
            "marker": {
             "colorbar": {
              "outlinewidth": 0,
              "ticks": ""
             }
            },
            "type": "scattercarpet"
           }
          ],
          "scattergeo": [
           {
            "marker": {
             "colorbar": {
              "outlinewidth": 0,
              "ticks": ""
             }
            },
            "type": "scattergeo"
           }
          ],
          "scattergl": [
           {
            "marker": {
             "colorbar": {
              "outlinewidth": 0,
              "ticks": ""
             }
            },
            "type": "scattergl"
           }
          ],
          "scattermap": [
           {
            "marker": {
             "colorbar": {
              "outlinewidth": 0,
              "ticks": ""
             }
            },
            "type": "scattermap"
           }
          ],
          "scattermapbox": [
           {
            "marker": {
             "colorbar": {
              "outlinewidth": 0,
              "ticks": ""
             }
            },
            "type": "scattermapbox"
           }
          ],
          "scatterpolar": [
           {
            "marker": {
             "colorbar": {
              "outlinewidth": 0,
              "ticks": ""
             }
            },
            "type": "scatterpolar"
           }
          ],
          "scatterpolargl": [
           {
            "marker": {
             "colorbar": {
              "outlinewidth": 0,
              "ticks": ""
             }
            },
            "type": "scatterpolargl"
           }
          ],
          "scatterternary": [
           {
            "marker": {
             "colorbar": {
              "outlinewidth": 0,
              "ticks": ""
             }
            },
            "type": "scatterternary"
           }
          ],
          "surface": [
           {
            "colorbar": {
             "outlinewidth": 0,
             "ticks": ""
            },
            "colorscale": [
             [
              0,
              "#0d0887"
             ],
             [
              0.1111111111111111,
              "#46039f"
             ],
             [
              0.2222222222222222,
              "#7201a8"
             ],
             [
              0.3333333333333333,
              "#9c179e"
             ],
             [
              0.4444444444444444,
              "#bd3786"
             ],
             [
              0.5555555555555556,
              "#d8576b"
             ],
             [
              0.6666666666666666,
              "#ed7953"
             ],
             [
              0.7777777777777778,
              "#fb9f3a"
             ],
             [
              0.8888888888888888,
              "#fdca26"
             ],
             [
              1,
              "#f0f921"
             ]
            ],
            "type": "surface"
           }
          ],
          "table": [
           {
            "cells": {
             "fill": {
              "color": "#EBF0F8"
             },
             "line": {
              "color": "white"
             }
            },
            "header": {
             "fill": {
              "color": "#C8D4E3"
             },
             "line": {
              "color": "white"
             }
            },
            "type": "table"
           }
          ]
         },
         "layout": {
          "annotationdefaults": {
           "arrowcolor": "#2a3f5f",
           "arrowhead": 0,
           "arrowwidth": 1
          },
          "autotypenumbers": "strict",
          "coloraxis": {
           "colorbar": {
            "outlinewidth": 0,
            "ticks": ""
           }
          },
          "colorscale": {
           "diverging": [
            [
             0,
             "#8e0152"
            ],
            [
             0.1,
             "#c51b7d"
            ],
            [
             0.2,
             "#de77ae"
            ],
            [
             0.3,
             "#f1b6da"
            ],
            [
             0.4,
             "#fde0ef"
            ],
            [
             0.5,
             "#f7f7f7"
            ],
            [
             0.6,
             "#e6f5d0"
            ],
            [
             0.7,
             "#b8e186"
            ],
            [
             0.8,
             "#7fbc41"
            ],
            [
             0.9,
             "#4d9221"
            ],
            [
             1,
             "#276419"
            ]
           ],
           "sequential": [
            [
             0,
             "#0d0887"
            ],
            [
             0.1111111111111111,
             "#46039f"
            ],
            [
             0.2222222222222222,
             "#7201a8"
            ],
            [
             0.3333333333333333,
             "#9c179e"
            ],
            [
             0.4444444444444444,
             "#bd3786"
            ],
            [
             0.5555555555555556,
             "#d8576b"
            ],
            [
             0.6666666666666666,
             "#ed7953"
            ],
            [
             0.7777777777777778,
             "#fb9f3a"
            ],
            [
             0.8888888888888888,
             "#fdca26"
            ],
            [
             1,
             "#f0f921"
            ]
           ],
           "sequentialminus": [
            [
             0,
             "#0d0887"
            ],
            [
             0.1111111111111111,
             "#46039f"
            ],
            [
             0.2222222222222222,
             "#7201a8"
            ],
            [
             0.3333333333333333,
             "#9c179e"
            ],
            [
             0.4444444444444444,
             "#bd3786"
            ],
            [
             0.5555555555555556,
             "#d8576b"
            ],
            [
             0.6666666666666666,
             "#ed7953"
            ],
            [
             0.7777777777777778,
             "#fb9f3a"
            ],
            [
             0.8888888888888888,
             "#fdca26"
            ],
            [
             1,
             "#f0f921"
            ]
           ]
          },
          "colorway": [
           "#636efa",
           "#EF553B",
           "#00cc96",
           "#ab63fa",
           "#FFA15A",
           "#19d3f3",
           "#FF6692",
           "#B6E880",
           "#FF97FF",
           "#FECB52"
          ],
          "font": {
           "color": "#2a3f5f"
          },
          "geo": {
           "bgcolor": "white",
           "lakecolor": "white",
           "landcolor": "#E5ECF6",
           "showlakes": true,
           "showland": true,
           "subunitcolor": "white"
          },
          "hoverlabel": {
           "align": "left"
          },
          "hovermode": "closest",
          "mapbox": {
           "style": "light"
          },
          "paper_bgcolor": "white",
          "plot_bgcolor": "#E5ECF6",
          "polar": {
           "angularaxis": {
            "gridcolor": "white",
            "linecolor": "white",
            "ticks": ""
           },
           "bgcolor": "#E5ECF6",
           "radialaxis": {
            "gridcolor": "white",
            "linecolor": "white",
            "ticks": ""
           }
          },
          "scene": {
           "xaxis": {
            "backgroundcolor": "#E5ECF6",
            "gridcolor": "white",
            "gridwidth": 2,
            "linecolor": "white",
            "showbackground": true,
            "ticks": "",
            "zerolinecolor": "white"
           },
           "yaxis": {
            "backgroundcolor": "#E5ECF6",
            "gridcolor": "white",
            "gridwidth": 2,
            "linecolor": "white",
            "showbackground": true,
            "ticks": "",
            "zerolinecolor": "white"
           },
           "zaxis": {
            "backgroundcolor": "#E5ECF6",
            "gridcolor": "white",
            "gridwidth": 2,
            "linecolor": "white",
            "showbackground": true,
            "ticks": "",
            "zerolinecolor": "white"
           }
          },
          "shapedefaults": {
           "line": {
            "color": "#2a3f5f"
           }
          },
          "ternary": {
           "aaxis": {
            "gridcolor": "white",
            "linecolor": "white",
            "ticks": ""
           },
           "baxis": {
            "gridcolor": "white",
            "linecolor": "white",
            "ticks": ""
           },
           "bgcolor": "#E5ECF6",
           "caxis": {
            "gridcolor": "white",
            "linecolor": "white",
            "ticks": ""
           }
          },
          "title": {
           "x": 0.05
          },
          "xaxis": {
           "automargin": true,
           "gridcolor": "white",
           "linecolor": "white",
           "ticks": "",
           "title": {
            "standoff": 15
           },
           "zerolinecolor": "white",
           "zerolinewidth": 2
          },
          "yaxis": {
           "automargin": true,
           "gridcolor": "white",
           "linecolor": "white",
           "ticks": "",
           "title": {
            "standoff": 15
           },
           "zerolinecolor": "white",
           "zerolinewidth": 2
          }
         }
        },
        "xaxis": {
         "anchor": "y",
         "domain": [
          0,
          1
         ],
         "title": {
          "text": "x"
         }
        },
        "yaxis": {
         "anchor": "x",
         "domain": [
          0,
          1
         ],
         "title": {
          "text": "y"
         }
        }
       }
      }
     },
     "metadata": {},
     "output_type": "display_data"
    }
   ],
   "source": [
    "px.line(x=vols, y=caps)"
   ]
  },
  {
   "cell_type": "code",
   "execution_count": 16,
   "id": "e4b9b92c",
   "metadata": {},
   "outputs": [
    {
     "data": {
      "text/plain": [
       "0.9961202131423004"
      ]
     },
     "execution_count": 16,
     "metadata": {},
     "output_type": "execute_result"
    }
   ],
   "source": [
    "df_cycle_1[\"discharge_capacity\"].max()"
   ]
  },
  {
   "cell_type": "code",
   "execution_count": 17,
   "id": "d68e0b23",
   "metadata": {},
   "outputs": [
    {
     "data": {
      "application/vnd.microsoft.datawrangler.viewer.v0+json": {
       "columns": [
        {
         "name": "index",
         "rawType": "int64",
         "type": "integer"
        },
        {
         "name": "cycle_index",
         "rawType": "int64",
         "type": "integer"
        },
        {
         "name": "discharge_capacity",
         "rawType": "float64",
         "type": "float"
        },
        {
         "name": "charge_capacity",
         "rawType": "float64",
         "type": "float"
        }
       ],
       "ref": "b6cff088-03e3-4368-b54b-1b104e4db424",
       "rows": [
        [
         "491",
         "0",
         "1.5517313",
         "1.0609615"
        ],
        [
         "492",
         "1",
         "1.0620248",
         "1.0616238000000002"
        ],
        [
         "493",
         "2",
         "1.0626124",
         "1.0622228"
        ],
        [
         "494",
         "3",
         "1.0629802",
         "1.0625806999999998"
        ],
        [
         "495",
         "4",
         "1.0630591",
         "1.0627699"
        ],
        [
         "496",
         "5",
         "1.0630716",
         "1.0627916000000002"
        ],
        [
         "497",
         "6",
         "1.0630208",
         "1.0627514999999998"
        ],
        [
         "498",
         "7",
         "1.0629483",
         "1.0626551000000002"
        ],
        [
         "499",
         "8",
         "1.0628687",
         "1.062596"
        ],
        [
         "500",
         "9",
         "1.0625648",
         "1.0624423"
        ],
        [
         "501",
         "10",
         "1.0624539",
         "1.0623062"
        ],
        [
         "502",
         "11",
         "1.0623018",
         "1.062148"
        ],
        [
         "503",
         "12",
         "1.0618695",
         "1.0617347"
        ],
        [
         "504",
         "13",
         "1.0616318",
         "1.0614188"
        ],
        [
         "505",
         "14",
         "1.0615309",
         "1.0613608"
        ],
        [
         "506",
         "15",
         "1.0612603",
         "1.0609648"
        ],
        [
         "507",
         "16",
         "1.0609072",
         "1.0608145"
        ],
        [
         "508",
         "17",
         "1.0607761",
         "1.0605414"
        ],
        [
         "509",
         "18",
         "1.0604508",
         "1.0601616000000005"
        ],
        [
         "510",
         "19",
         "1.0602862",
         "1.0599756"
        ],
        [
         "511",
         "20",
         "1.0599411",
         "1.0597171"
        ],
        [
         "512",
         "21",
         "1.0598503",
         "1.0595236"
        ],
        [
         "513",
         "22",
         "1.0595941999999998",
         "1.059332"
        ],
        [
         "514",
         "23",
         "1.0592423999999998",
         "1.0590303"
        ],
        [
         "515",
         "24",
         "1.0589865",
         "1.0586891"
        ],
        [
         "516",
         "25",
         "1.0587656",
         "1.0584344"
        ],
        [
         "517",
         "26",
         "1.0585668",
         "1.0582564"
        ],
        [
         "518",
         "27",
         "1.0582657",
         "1.0580024"
        ],
        [
         "519",
         "28",
         "1.0583693",
         "1.057942"
        ],
        [
         "520",
         "29",
         "1.0582081",
         "1.0578166000000002"
        ],
        [
         "521",
         "30",
         "1.0581876",
         "1.0578761"
        ],
        [
         "522",
         "31",
         "1.0579997",
         "1.0576764"
        ],
        [
         "523",
         "32",
         "1.0578076",
         "1.0574678"
        ],
        [
         "524",
         "33",
         "1.0574983",
         "1.057325"
        ],
        [
         "525",
         "34",
         "1.0573143",
         "1.0570048"
        ],
        [
         "526",
         "35",
         "1.0570542",
         "1.056818"
        ],
        [
         "527",
         "36",
         "1.0568646000000002",
         "1.0566218"
        ],
        [
         "528",
         "37",
         "1.0565403",
         "1.0563111"
        ],
        [
         "529",
         "38",
         "1.0562652",
         "1.0560826"
        ],
        [
         "530",
         "39",
         "1.056168",
         "1.0557624"
        ],
        [
         "531",
         "40",
         "1.0559383999999998",
         "1.0556731"
        ],
        [
         "532",
         "41",
         "1.0558032",
         "1.0553741"
        ],
        [
         "533",
         "42",
         "1.0557671999999998",
         "1.0555504999999998"
        ],
        [
         "534",
         "43",
         "1.0554632",
         "1.0551827"
        ],
        [
         "535",
         "44",
         "1.0550848999999998",
         "1.0548329"
        ],
        [
         "536",
         "45",
         "1.0547764",
         "1.0544556"
        ],
        [
         "537",
         "46",
         "1.0545296999999998",
         "1.05427"
        ],
        [
         "538",
         "47",
         "1.0543556",
         "1.054039"
        ],
        [
         "539",
         "48",
         "1.0542214",
         "1.0539763999999998"
        ],
        [
         "540",
         "49",
         "1.0539025",
         "1.0535367"
        ]
       ],
       "shape": {
        "columns": 3,
        "rows": 667
       }
      },
      "text/html": [
       "<div>\n",
       "<style scoped>\n",
       "    .dataframe tbody tr th:only-of-type {\n",
       "        vertical-align: middle;\n",
       "    }\n",
       "\n",
       "    .dataframe tbody tr th {\n",
       "        vertical-align: top;\n",
       "    }\n",
       "\n",
       "    .dataframe thead th {\n",
       "        text-align: right;\n",
       "    }\n",
       "</style>\n",
       "<table border=\"1\" class=\"dataframe\">\n",
       "  <thead>\n",
       "    <tr style=\"text-align: right;\">\n",
       "      <th></th>\n",
       "      <th>cycle_index</th>\n",
       "      <th>discharge_capacity</th>\n",
       "      <th>charge_capacity</th>\n",
       "    </tr>\n",
       "  </thead>\n",
       "  <tbody>\n",
       "    <tr>\n",
       "      <th>491</th>\n",
       "      <td>0</td>\n",
       "      <td>1.551731</td>\n",
       "      <td>1.060961</td>\n",
       "    </tr>\n",
       "    <tr>\n",
       "      <th>492</th>\n",
       "      <td>1</td>\n",
       "      <td>1.062025</td>\n",
       "      <td>1.061624</td>\n",
       "    </tr>\n",
       "    <tr>\n",
       "      <th>493</th>\n",
       "      <td>2</td>\n",
       "      <td>1.062612</td>\n",
       "      <td>1.062223</td>\n",
       "    </tr>\n",
       "    <tr>\n",
       "      <th>494</th>\n",
       "      <td>3</td>\n",
       "      <td>1.062980</td>\n",
       "      <td>1.062581</td>\n",
       "    </tr>\n",
       "    <tr>\n",
       "      <th>495</th>\n",
       "      <td>4</td>\n",
       "      <td>1.063059</td>\n",
       "      <td>1.062770</td>\n",
       "    </tr>\n",
       "    <tr>\n",
       "      <th>...</th>\n",
       "      <td>...</td>\n",
       "      <td>...</td>\n",
       "      <td>...</td>\n",
       "    </tr>\n",
       "    <tr>\n",
       "      <th>1153</th>\n",
       "      <td>662</td>\n",
       "      <td>0.882907</td>\n",
       "      <td>0.883326</td>\n",
       "    </tr>\n",
       "    <tr>\n",
       "      <th>1154</th>\n",
       "      <td>663</td>\n",
       "      <td>0.882220</td>\n",
       "      <td>0.882634</td>\n",
       "    </tr>\n",
       "    <tr>\n",
       "      <th>1155</th>\n",
       "      <td>664</td>\n",
       "      <td>0.881516</td>\n",
       "      <td>0.882035</td>\n",
       "    </tr>\n",
       "    <tr>\n",
       "      <th>1156</th>\n",
       "      <td>665</td>\n",
       "      <td>0.880886</td>\n",
       "      <td>0.881456</td>\n",
       "    </tr>\n",
       "    <tr>\n",
       "      <th>1157</th>\n",
       "      <td>666</td>\n",
       "      <td>0.880526</td>\n",
       "      <td>0.880983</td>\n",
       "    </tr>\n",
       "  </tbody>\n",
       "</table>\n",
       "<p>667 rows × 3 columns</p>\n",
       "</div>"
      ],
      "text/plain": [
       "      cycle_index  discharge_capacity  charge_capacity\n",
       "491             0            1.551731         1.060961\n",
       "492             1            1.062025         1.061624\n",
       "493             2            1.062612         1.062223\n",
       "494             3            1.062980         1.062581\n",
       "495             4            1.063059         1.062770\n",
       "...           ...                 ...              ...\n",
       "1153          662            0.882907         0.883326\n",
       "1154          663            0.882220         0.882634\n",
       "1155          664            0.881516         0.882035\n",
       "1156          665            0.880886         0.881456\n",
       "1157          666            0.880526         0.880983\n",
       "\n",
       "[667 rows x 3 columns]"
      ]
     },
     "execution_count": 17,
     "metadata": {},
     "output_type": "execute_result"
    }
   ],
   "source": [
    "# print first 10 cycle disc cap from cell summary\n",
    "file_id = \"FastCharge_000001_CH16_structure\"\n",
    "summary_file = \"./datasets/matr/matr.csv\"\n",
    "df_summary = pd.read_csv(summary_file)\n",
    "df_summary_file = df_summary[df_summary[\"file_name\"] == file_id]\n",
    "df_summary_file[[\"cycle_index\", \"discharge_capacity\", \"charge_capacity\"]]"
   ]
  },
  {
   "cell_type": "code",
   "execution_count": 18,
   "id": "721cb983",
   "metadata": {},
   "outputs": [
    {
     "data": {
      "text/plain": [
       "[1.5517313,\n",
       " 1.0620248,\n",
       " 1.0626124,\n",
       " 1.0629802,\n",
       " 1.0630591,\n",
       " 1.0630716,\n",
       " 1.0630208,\n",
       " 1.0629483,\n",
       " 1.0628687,\n",
       " 1.0625648,\n",
       " 1.0624539,\n",
       " 1.0623018,\n",
       " 1.0618695,\n",
       " 1.0616318,\n",
       " 1.0615309,\n",
       " 1.0612603,\n",
       " 1.0609072,\n",
       " 1.0607761,\n",
       " 1.0604508,\n",
       " 1.0602862,\n",
       " 1.0599411,\n",
       " 1.0598503,\n",
       " 1.0595941999999998,\n",
       " 1.0592423999999998,\n",
       " 1.0589865,\n",
       " 1.0587656,\n",
       " 1.0585668,\n",
       " 1.0582657,\n",
       " 1.0583693,\n",
       " 1.0582081,\n",
       " 1.0581876,\n",
       " 1.0579997,\n",
       " 1.0578076,\n",
       " 1.0574983,\n",
       " 1.0573143,\n",
       " 1.0570542,\n",
       " 1.0568646000000002,\n",
       " 1.0565403,\n",
       " 1.0562652,\n",
       " 1.056168,\n",
       " 1.0559383999999998,\n",
       " 1.0558032,\n",
       " 1.0557671999999998,\n",
       " 1.0554632,\n",
       " 1.0550848999999998,\n",
       " 1.0547764,\n",
       " 1.0545296999999998,\n",
       " 1.0543556,\n",
       " 1.0542214,\n",
       " 1.0539025,\n",
       " 1.0537841,\n",
       " 1.0538685,\n",
       " 1.0536891000000002,\n",
       " 1.0534407,\n",
       " 1.0530304,\n",
       " 1.0526658000000002,\n",
       " 1.0525261,\n",
       " 1.0525136999999998,\n",
       " 1.0524204,\n",
       " 1.0522065,\n",
       " 1.0520055,\n",
       " 1.0518051000000002,\n",
       " 1.0516526000000002,\n",
       " 1.0513049,\n",
       " 1.0511122,\n",
       " 1.0509761999999998,\n",
       " 1.0509588,\n",
       " 1.0505836000000002,\n",
       " 1.050422,\n",
       " 1.0501648,\n",
       " 1.0499737,\n",
       " 1.0497566,\n",
       " 1.0494341,\n",
       " 1.0492488000000002,\n",
       " 1.0492046999999998,\n",
       " 1.0488254,\n",
       " 1.0484586,\n",
       " 1.0484252,\n",
       " 1.0481374,\n",
       " 1.0479254999999998,\n",
       " 1.0477858,\n",
       " 1.0475196,\n",
       " 1.0473623,\n",
       " 1.0472880999999998,\n",
       " 1.0470761,\n",
       " 1.0469767,\n",
       " 1.0467993,\n",
       " 1.0465215,\n",
       " 1.0463639,\n",
       " 1.0461752,\n",
       " 1.0460863,\n",
       " 1.04583,\n",
       " 1.0457288,\n",
       " 1.0453346,\n",
       " 1.0452496,\n",
       " 1.044857,\n",
       " 1.0446329,\n",
       " 1.0443782,\n",
       " 1.0441024,\n",
       " 1.0439155,\n",
       " 1.04378,\n",
       " 1.0435516,\n",
       " 1.043364,\n",
       " 1.0431731,\n",
       " 1.0430701999999998,\n",
       " 1.0427227,\n",
       " 1.042601,\n",
       " 1.0423266,\n",
       " 1.0420371,\n",
       " 1.0418459,\n",
       " 1.0416248,\n",
       " 1.0413206,\n",
       " 1.0411824,\n",
       " 1.040987,\n",
       " 1.0407267,\n",
       " 1.0407473,\n",
       " 1.0404315,\n",
       " 1.0402199,\n",
       " 1.0401019,\n",
       " 1.0399466,\n",
       " 1.0397823,\n",
       " 1.0396794,\n",
       " 1.0396426,\n",
       " 1.0394095,\n",
       " 1.0390569,\n",
       " 1.0388959999999998,\n",
       " 1.0384874,\n",
       " 1.0383668,\n",
       " 1.0382985999999998,\n",
       " 1.0378491,\n",
       " 1.0377866,\n",
       " 1.0375196,\n",
       " 1.0372614,\n",
       " 1.0370514000000002,\n",
       " 1.0368813,\n",
       " 1.0366095,\n",
       " 1.0363399,\n",
       " 1.036209,\n",
       " 1.0358341999999998,\n",
       " 1.0358559,\n",
       " 1.0354168,\n",
       " 1.0350422,\n",
       " 1.0349962,\n",
       " 1.0347289000000002,\n",
       " 1.03431,\n",
       " 1.0342907,\n",
       " 1.0339292,\n",
       " 1.0338899,\n",
       " 1.0335754,\n",
       " 1.0334083,\n",
       " 1.0330706,\n",
       " 1.0331399,\n",
       " 1.0330302,\n",
       " 1.0330384,\n",
       " 1.0328032,\n",
       " 1.0326387,\n",
       " 1.0325247,\n",
       " 1.0322105,\n",
       " 1.032095,\n",
       " 1.0318881,\n",
       " 1.0317614,\n",
       " 1.0314426,\n",
       " 1.0312126,\n",
       " 1.0309927,\n",
       " 1.03083,\n",
       " 1.0307384,\n",
       " 1.0304618,\n",
       " 1.0302302,\n",
       " 1.0298355,\n",
       " 1.029578,\n",
       " 1.0293126,\n",
       " 1.0289726,\n",
       " 1.0286479,\n",
       " 1.0285393,\n",
       " 1.0282551,\n",
       " 1.0282601,\n",
       " 1.0280071,\n",
       " 1.0277317,\n",
       " 1.0273286,\n",
       " 1.0270866,\n",
       " 1.0269355,\n",
       " 1.0267844000000002,\n",
       " 1.0267264,\n",
       " 1.026381,\n",
       " 1.026212,\n",
       " 1.0259576,\n",
       " 1.0257797,\n",
       " 1.0253706,\n",
       " 1.025061,\n",
       " 1.0247908,\n",
       " 1.02475,\n",
       " 1.0244526,\n",
       " 1.0243961,\n",
       " 1.0240998,\n",
       " 1.0238074,\n",
       " 1.023756,\n",
       " 1.0234089,\n",
       " 1.0232059,\n",
       " 1.0230893,\n",
       " 1.0228524,\n",
       " 1.0225394,\n",
       " 1.0224099,\n",
       " 1.0221186,\n",
       " 1.0219883,\n",
       " 1.0216702,\n",
       " 1.0215621,\n",
       " 1.0212485,\n",
       " 1.0210811,\n",
       " 1.0208031,\n",
       " 1.0205438,\n",
       " 1.020067,\n",
       " 1.0198489,\n",
       " 1.01957,\n",
       " 1.0195271,\n",
       " 1.0193487,\n",
       " 1.0190566,\n",
       " 1.0188621,\n",
       " 1.0186959999999998,\n",
       " 1.0184681,\n",
       " 1.0184039,\n",
       " 1.0181274,\n",
       " 1.0180614,\n",
       " 1.0178096,\n",
       " 1.0176737,\n",
       " 1.0173005,\n",
       " 1.0170576999999998,\n",
       " 1.0171065,\n",
       " 1.0167046,\n",
       " 1.0164771,\n",
       " 1.0162868,\n",
       " 1.0160185,\n",
       " 1.0159893,\n",
       " 1.0156577,\n",
       " 1.0155145,\n",
       " 1.0153766,\n",
       " 1.0149807,\n",
       " 1.0148982,\n",
       " 1.0146568,\n",
       " 1.0145158,\n",
       " 1.0143081,\n",
       " 1.0143162,\n",
       " 1.0142876,\n",
       " 1.0137768,\n",
       " 1.013793,\n",
       " 1.0133126,\n",
       " 1.0131782,\n",
       " 1.0130529,\n",
       " 1.0127293,\n",
       " 1.0128767,\n",
       " 1.0124766,\n",
       " 1.0122477,\n",
       " 1.0119056999999998,\n",
       " 1.0118322,\n",
       " 1.0116303,\n",
       " 1.0113769,\n",
       " 1.0110495000000002,\n",
       " 1.0110137,\n",
       " 1.0107785,\n",
       " 1.010723,\n",
       " 1.0104642,\n",
       " 1.0102417,\n",
       " 1.0098921,\n",
       " 1.0098914,\n",
       " 1.0095725,\n",
       " 1.0093021,\n",
       " 1.009034,\n",
       " 1.0089422,\n",
       " 1.0086808,\n",
       " 1.0083995,\n",
       " 1.0084227,\n",
       " 1.0080657,\n",
       " 1.00796,\n",
       " 1.0075958,\n",
       " 1.0074778,\n",
       " 1.007471,\n",
       " 1.0073841,\n",
       " 1.0068691,\n",
       " 1.0067345,\n",
       " 1.0064123,\n",
       " 1.0064074,\n",
       " 1.0060682,\n",
       " 1.0060405,\n",
       " 1.0059075000000002,\n",
       " 1.0056629,\n",
       " 1.0056193000000002,\n",
       " 1.0051103,\n",
       " 1.0050805,\n",
       " 1.0047396,\n",
       " 1.0045780999999998,\n",
       " 1.0045433,\n",
       " 1.0041934,\n",
       " 1.0042477,\n",
       " 1.0039777,\n",
       " 1.0035858,\n",
       " 1.0032947,\n",
       " 1.003074,\n",
       " 1.0029223,\n",
       " 1.0028818000000002,\n",
       " 1.002717,\n",
       " 1.0025862,\n",
       " 1.0024042,\n",
       " 1.0022633,\n",
       " 1.0018889000000002,\n",
       " 1.0017254,\n",
       " 1.0014637,\n",
       " 1.0011933000000002,\n",
       " 1.0009905,\n",
       " 1.0009487,\n",
       " 1.0006608,\n",
       " 1.0004699,\n",
       " 1.0002213,\n",
       " 0.99996871,\n",
       " 0.99979711,\n",
       " 0.99980533,\n",
       " 0.99954885,\n",
       " 0.99937236,\n",
       " 0.9991104,\n",
       " 0.99884415,\n",
       " 0.99863219,\n",
       " 0.99865377,\n",
       " 0.99827141,\n",
       " 0.99807167,\n",
       " 0.99790645,\n",
       " 0.99771124,\n",
       " 0.99746698,\n",
       " 0.99720776,\n",
       " 0.99713552,\n",
       " 0.99683893,\n",
       " 0.99667352,\n",
       " 0.99642682,\n",
       " 0.99606401,\n",
       " 0.99590939,\n",
       " 0.99575353,\n",
       " 0.99537492,\n",
       " 0.9953624,\n",
       " 0.99505001,\n",
       " 0.99514252,\n",
       " 0.99474776,\n",
       " 0.99438655,\n",
       " 0.9942764,\n",
       " 0.99404281,\n",
       " 0.99372482,\n",
       " 0.99352741,\n",
       " 0.99352139,\n",
       " 0.99344009,\n",
       " 0.99321949,\n",
       " 0.99288702,\n",
       " 0.99282163,\n",
       " 0.992522,\n",
       " 0.99229604,\n",
       " 0.99213278,\n",
       " 0.99177521,\n",
       " 0.99154729,\n",
       " 0.99134701,\n",
       " 0.99118418,\n",
       " 0.99094588,\n",
       " 0.99069786,\n",
       " 0.99044263,\n",
       " 0.99017072,\n",
       " 0.98988992,\n",
       " 0.98974633,\n",
       " 0.98950571,\n",
       " 0.98946255,\n",
       " 0.98937172,\n",
       " 0.98914266,\n",
       " 0.98891878,\n",
       " 0.9885906,\n",
       " 0.98843652,\n",
       " 0.98835796,\n",
       " 0.98798835,\n",
       " 0.98785758,\n",
       " 0.98751199,\n",
       " 0.98740643,\n",
       " 0.9873808,\n",
       " 0.98709172,\n",
       " 0.98715967,\n",
       " 0.98677409,\n",
       " 0.98652637,\n",
       " 0.98625749,\n",
       " 0.98601097,\n",
       " 0.98583633,\n",
       " 0.98544008,\n",
       " 0.98538929,\n",
       " 0.98509377,\n",
       " 0.98485374,\n",
       " 0.98458284,\n",
       " 0.98447227,\n",
       " 0.98422736,\n",
       " 0.98396027,\n",
       " 0.98351723,\n",
       " 0.98336071,\n",
       " 0.98312533,\n",
       " 0.98297912,\n",
       " 0.98269147,\n",
       " 0.98238415,\n",
       " 0.98238337,\n",
       " 0.98197711,\n",
       " 0.9816305,\n",
       " 0.98153013,\n",
       " 0.98141402,\n",
       " 0.98102534,\n",
       " 0.98076522,\n",
       " 0.98066902,\n",
       " 0.98052806,\n",
       " 0.98030925,\n",
       " 0.98002791,\n",
       " 0.97982007,\n",
       " 0.97958142,\n",
       " 0.97935075,\n",
       " 0.9790768,\n",
       " 0.97881866,\n",
       " 0.9784776,\n",
       " 0.97832352,\n",
       " 0.9780342,\n",
       " 0.97783762,\n",
       " 0.97760105,\n",
       " 0.97746485,\n",
       " 0.97715187,\n",
       " 0.97695613,\n",
       " 0.97688973,\n",
       " 0.97663659,\n",
       " 0.97624284,\n",
       " 0.97596341,\n",
       " 0.97583914,\n",
       " 0.97552538,\n",
       " 0.97546363,\n",
       " 0.97508836,\n",
       " 0.97498178,\n",
       " 0.97469455,\n",
       " 0.97450727,\n",
       " 0.97425359,\n",
       " 0.97385943,\n",
       " 0.97366303,\n",
       " 0.97338033,\n",
       " 0.97330141,\n",
       " 0.97296226,\n",
       " 0.97275609,\n",
       " 0.97246331,\n",
       " 0.97225517,\n",
       " 0.9717893,\n",
       " 0.97165221,\n",
       " 0.97130567,\n",
       " 0.97107726,\n",
       " 0.97095162,\n",
       " 0.97059149,\n",
       " 0.97041512,\n",
       " 0.97032797,\n",
       " 0.96984112,\n",
       " 0.96954376,\n",
       " 0.96928906,\n",
       " 0.96888655,\n",
       " 0.96877295,\n",
       " 0.96837765,\n",
       " 0.96807921,\n",
       " 0.96780896,\n",
       " 0.96745908,\n",
       " 0.96724194,\n",
       " 0.96694547,\n",
       " 0.96660799,\n",
       " 0.9663443000000002,\n",
       " 0.96599615,\n",
       " 0.96573418,\n",
       " 0.96551085,\n",
       " 0.96532375,\n",
       " 0.96492022,\n",
       " 0.96454901,\n",
       " 0.96435159,\n",
       " 0.96397763,\n",
       " 0.96358174,\n",
       " 0.96320975,\n",
       " 0.9628669,\n",
       " 0.96265239,\n",
       " 0.96236616,\n",
       " 0.96212065,\n",
       " 0.96174449,\n",
       " 0.96140689,\n",
       " 0.96111214,\n",
       " 0.96076912,\n",
       " 0.96046573,\n",
       " 0.96006459,\n",
       " 0.95963526,\n",
       " 0.95948881,\n",
       " 0.95915413,\n",
       " 0.95880759,\n",
       " 0.95856971,\n",
       " 0.95814461,\n",
       " 0.95788997,\n",
       " 0.95748538,\n",
       " 0.95721257,\n",
       " 0.95686352,\n",
       " 0.95651007,\n",
       " 0.95608878,\n",
       " 0.95578206,\n",
       " 0.95537966,\n",
       " 0.955046,\n",
       " 0.95472491,\n",
       " 0.95454609,\n",
       " 0.95403427,\n",
       " 0.95376587,\n",
       " 0.95336092,\n",
       " 0.9530434,\n",
       " 0.95272595,\n",
       " 0.95228016,\n",
       " 0.95187593,\n",
       " 0.95151657,\n",
       " 0.95106339,\n",
       " 0.95072216,\n",
       " 0.95039237,\n",
       " 0.95009834,\n",
       " 0.94968653,\n",
       " 0.94935495,\n",
       " 0.94906366,\n",
       " 0.94883174,\n",
       " 0.94850552,\n",
       " 0.94821322,\n",
       " 0.94782501,\n",
       " 0.9475382,\n",
       " 0.94727844,\n",
       " 0.94704717,\n",
       " 0.94671303,\n",
       " 0.94641566,\n",
       " 0.94609088,\n",
       " 0.94575542,\n",
       " 0.945171,\n",
       " 0.94489229,\n",
       " 0.94460791,\n",
       " 0.94420391,\n",
       " 0.94371235,\n",
       " 0.94343323,\n",
       " 0.9430899,\n",
       " 0.94264734,\n",
       " 0.94234031,\n",
       " 0.94185382,\n",
       " 0.94152558,\n",
       " 0.94120294,\n",
       " 0.94088864,\n",
       " 0.94041359,\n",
       " 0.94010746,\n",
       " 0.93980646,\n",
       " 0.93939906,\n",
       " 0.93911219,\n",
       " 0.93874085,\n",
       " 0.93832237,\n",
       " 0.93789059,\n",
       " 0.93756068,\n",
       " 0.93714511,\n",
       " 0.93677443,\n",
       " 0.93643224,\n",
       " 0.93602341,\n",
       " 0.93572038,\n",
       " 0.93526,\n",
       " 0.92730176,\n",
       " 0.92757773,\n",
       " 0.92795908,\n",
       " 0.92840421,\n",
       " 0.9284972,\n",
       " 0.92853564,\n",
       " 0.92846161,\n",
       " 0.92844564,\n",
       " 0.92826194,\n",
       " 0.92807698,\n",
       " 0.92781025,\n",
       " 0.92778403,\n",
       " 0.9276104,\n",
       " 0.92723286,\n",
       " 0.92715514,\n",
       " 0.92674494,\n",
       " 0.92646492,\n",
       " 0.92630202,\n",
       " 0.92593807,\n",
       " 0.92574263,\n",
       " 0.92557806,\n",
       " 0.92527181,\n",
       " 0.92512584,\n",
       " 0.92489713,\n",
       " 0.92457581,\n",
       " 0.92437571,\n",
       " 0.924218,\n",
       " 0.92383528,\n",
       " 0.9237361,\n",
       " 0.92321962,\n",
       " 0.92310625,\n",
       " 0.92270666,\n",
       " 0.9224776,\n",
       " 0.92203701,\n",
       " 0.92184955,\n",
       " 0.92147481,\n",
       " 0.92121762,\n",
       " 0.9209801,\n",
       " 0.9205398,\n",
       " 0.92021632,\n",
       " 0.91989684,\n",
       " 0.91955256,\n",
       " 0.91916722,\n",
       " 0.91887265,\n",
       " 0.91855794,\n",
       " 0.91815758,\n",
       " 0.91778845,\n",
       " 0.91745257,\n",
       " 0.91705161,\n",
       " 0.91666162,\n",
       " 0.91628659,\n",
       " 0.91584224,\n",
       " 0.91551363,\n",
       " 0.91512632,\n",
       " 0.91475934,\n",
       " 0.91443139,\n",
       " 0.91398829,\n",
       " 0.91348559,\n",
       " 0.91304088,\n",
       " 0.91278082,\n",
       " 0.91228896,\n",
       " 0.91190344,\n",
       " 0.91149718,\n",
       " 0.91094619,\n",
       " 0.91073573,\n",
       " 0.91019726,\n",
       " 0.90973639,\n",
       " 0.90926754,\n",
       " 0.90877908,\n",
       " 0.90819937,\n",
       " 0.90782356,\n",
       " 0.90737772,\n",
       " 0.90693158,\n",
       " 0.90636712,\n",
       " 0.90597749,\n",
       " 0.90534419,\n",
       " 0.90484607,\n",
       " 0.90439057,\n",
       " 0.90379345,\n",
       " 0.90335089,\n",
       " 0.90284508,\n",
       " 0.90216815,\n",
       " 0.90172505,\n",
       " 0.90119505,\n",
       " 0.90064543,\n",
       " 0.90004492,\n",
       " 0.8994419,\n",
       " 0.8989079,\n",
       " 0.89822203,\n",
       " 0.89772004,\n",
       " 0.8971565999999999,\n",
       " 0.89656579,\n",
       " 0.89592016,\n",
       " 0.89522868,\n",
       " 0.89480621,\n",
       " 0.89411861,\n",
       " 0.89345318,\n",
       " 0.89280313,\n",
       " 0.8920446,\n",
       " 0.89147431,\n",
       " 0.89082462,\n",
       " 0.89012915,\n",
       " 0.88954592,\n",
       " 0.8888725000000001,\n",
       " 0.88803422,\n",
       " 0.88738608,\n",
       " 0.88665122,\n",
       " 0.88608605,\n",
       " 0.88520569,\n",
       " 0.8845575999999999,\n",
       " 0.88365042,\n",
       " 0.88290739,\n",
       " 0.88222021,\n",
       " 0.88151622,\n",
       " 0.88088632,\n",
       " 0.88052577]"
      ]
     },
     "execution_count": 18,
     "metadata": {},
     "output_type": "execute_result"
    }
   ],
   "source": [
    "summary_caps = df_summary_file[\"discharge_capacity\"].values.tolist()\n",
    "summary_caps"
   ]
  },
  {
   "cell_type": "code",
   "execution_count": 19,
   "id": "43157b2c",
   "metadata": {},
   "outputs": [
    {
     "data": {
      "application/vnd.microsoft.datawrangler.viewer.v0+json": {
       "columns": [
        {
         "name": "index",
         "rawType": "int64",
         "type": "integer"
        },
        {
         "name": "cycle_index",
         "rawType": "int64",
         "type": "integer"
        },
        {
         "name": "voltage",
         "rawType": "float64",
         "type": "float"
        },
        {
         "name": "discharge_capacity",
         "rawType": "float64",
         "type": "float"
        }
       ],
       "ref": "877c46b0-6246-4cf9-a3a8-ca17b5dcc62d",
       "rows": [
        [
         "78",
         "0",
         "2.854654550552368",
         "1.4628724500057677"
        ],
        [
         "1000",
         "1",
         "2.799999952316284",
         "0.9961202131423004"
        ],
        [
         "2000",
         "2",
         "2.799999952316284",
         "0.996806909268552"
        ],
        [
         "3000",
         "3",
         "2.799999952316284",
         "0.9972966361850618"
        ],
        [
         "4000",
         "4",
         "2.799999952316284",
         "0.9977659908484278"
        ],
        [
         "5000",
         "5",
         "2.799999952316284",
         "0.9976144223252932"
        ],
        [
         "6000",
         "6",
         "2.799999952316284",
         "0.9972269134206097"
        ],
        [
         "7000",
         "7",
         "2.799999952316284",
         "0.9970448708020224"
        ],
        [
         "8000",
         "8",
         "2.799999952316284",
         "0.9967712630134916"
        ],
        [
         "9000",
         "9",
         "2.799999952316284",
         "0.9963483958687288"
        ],
        [
         "10000",
         "10",
         "2.799999952316284",
         "0.9961748476690716"
        ],
        [
         "11000",
         "11",
         "2.799999952316284",
         "0.9958345870503325"
        ],
        [
         "12000",
         "12",
         "2.799999952316284",
         "0.994543124384383"
        ],
        [
         "13000",
         "13",
         "2.799999952316284",
         "0.9942912780195836"
        ],
        [
         "14000",
         "14",
         "2.799999952316284",
         "0.9941840814951302"
        ],
        [
         "15000",
         "15",
         "2.799999952316284",
         "0.99320031872147"
        ],
        [
         "16000",
         "16",
         "2.799999952316284",
         "0.9929677775831356"
        ],
        [
         "17000",
         "17",
         "2.799999952316284",
         "0.99266156227712"
        ],
        [
         "18000",
         "18",
         "2.799999952316284",
         "0.99206130425188"
        ],
        [
         "19000",
         "19",
         "2.799999952316284",
         "0.9916723349175424"
        ],
        [
         "20000",
         "20",
         "2.799999952316284",
         "0.9911467541808844"
        ],
        [
         "21000",
         "21",
         "2.799999952316284",
         "0.9907461873921196"
        ],
        [
         "22000",
         "22",
         "2.799999952316284",
         "0.9902394020479278"
        ],
        [
         "23000",
         "23",
         "2.799999952316284",
         "0.9896263691154504"
        ],
        [
         "24000",
         "24",
         "2.799999952316284",
         "0.9891374633686888"
        ],
        [
         "25000",
         "25",
         "2.799999952316284",
         "0.9884298522135572"
        ],
        [
         "26000",
         "26",
         "2.799999952316284",
         "0.9880509764332326"
        ],
        [
         "27000",
         "27",
         "2.799999952316284",
         "0.9872808118235796"
        ],
        [
         "28000",
         "28",
         "2.799999952316284",
         "0.9870609752007424"
        ],
        [
         "29000",
         "29",
         "2.799999952316284",
         "0.9865789787343971"
        ],
        [
         "30000",
         "30",
         "2.799999952316284",
         "0.9867307506189664"
        ],
        [
         "31000",
         "31",
         "2.799999952316284",
         "0.9858960249075222"
        ],
        [
         "32000",
         "32",
         "2.799999952316284",
         "0.9852830535405456"
        ],
        [
         "33000",
         "33",
         "2.799999952316284",
         "0.9850263506210216"
        ],
        [
         "34000",
         "34",
         "2.799999952316284",
         "0.9849490606452074"
        ],
        [
         "35000",
         "35",
         "2.799999952316284",
         "0.9839211305125402"
        ],
        [
         "36000",
         "36",
         "2.799999952316284",
         "0.9833552755656948"
        ],
        [
         "37000",
         "37",
         "2.799999952316284",
         "0.9830643932153278"
        ],
        [
         "38000",
         "38",
         "2.799999952316284",
         "0.9819900073940748"
        ],
        [
         "39000",
         "39",
         "2.799999952316284",
         "0.9818051684742404"
        ],
        [
         "40000",
         "40",
         "2.799999952316284",
         "0.980473049964962"
        ],
        [
         "41000",
         "41",
         "2.799999952316284",
         "0.979779947307218"
        ],
        [
         "42000",
         "42",
         "2.799999952316284",
         "0.979675307570202"
        ],
        [
         "43000",
         "43",
         "2.799999952316284",
         "0.978700052531022"
        ],
        [
         "44000",
         "44",
         "2.799999952316284",
         "0.9778327151927608"
        ],
        [
         "45000",
         "45",
         "2.799999952316284",
         "0.9771349870306848"
        ],
        [
         "46000",
         "46",
         "2.799999952316284",
         "0.976888211474174"
        ],
        [
         "47000",
         "47",
         "2.799999952316284",
         "0.9769885624205448"
        ],
        [
         "48000",
         "48",
         "2.799999952316284",
         "0.9764173195337186"
        ],
        [
         "49000",
         "49",
         "2.799999952316284",
         "0.9759039954743164"
        ]
       ],
       "shape": {
        "columns": 3,
        "rows": 668
       }
      },
      "text/html": [
       "<div>\n",
       "<style scoped>\n",
       "    .dataframe tbody tr th:only-of-type {\n",
       "        vertical-align: middle;\n",
       "    }\n",
       "\n",
       "    .dataframe tbody tr th {\n",
       "        vertical-align: top;\n",
       "    }\n",
       "\n",
       "    .dataframe thead th {\n",
       "        text-align: right;\n",
       "    }\n",
       "</style>\n",
       "<table border=\"1\" class=\"dataframe\">\n",
       "  <thead>\n",
       "    <tr style=\"text-align: right;\">\n",
       "      <th></th>\n",
       "      <th>cycle_index</th>\n",
       "      <th>voltage</th>\n",
       "      <th>discharge_capacity</th>\n",
       "    </tr>\n",
       "  </thead>\n",
       "  <tbody>\n",
       "    <tr>\n",
       "      <th>78</th>\n",
       "      <td>0</td>\n",
       "      <td>2.854655</td>\n",
       "      <td>1.462872</td>\n",
       "    </tr>\n",
       "    <tr>\n",
       "      <th>1000</th>\n",
       "      <td>1</td>\n",
       "      <td>2.800000</td>\n",
       "      <td>0.996120</td>\n",
       "    </tr>\n",
       "    <tr>\n",
       "      <th>2000</th>\n",
       "      <td>2</td>\n",
       "      <td>2.800000</td>\n",
       "      <td>0.996807</td>\n",
       "    </tr>\n",
       "    <tr>\n",
       "      <th>3000</th>\n",
       "      <td>3</td>\n",
       "      <td>2.800000</td>\n",
       "      <td>0.997297</td>\n",
       "    </tr>\n",
       "    <tr>\n",
       "      <th>4000</th>\n",
       "      <td>4</td>\n",
       "      <td>2.800000</td>\n",
       "      <td>0.997766</td>\n",
       "    </tr>\n",
       "    <tr>\n",
       "      <th>...</th>\n",
       "      <td>...</td>\n",
       "      <td>...</td>\n",
       "      <td>...</td>\n",
       "    </tr>\n",
       "    <tr>\n",
       "      <th>663000</th>\n",
       "      <td>663</td>\n",
       "      <td>2.800000</td>\n",
       "      <td>0.707997</td>\n",
       "    </tr>\n",
       "    <tr>\n",
       "      <th>664000</th>\n",
       "      <td>664</td>\n",
       "      <td>2.800000</td>\n",
       "      <td>0.706779</td>\n",
       "    </tr>\n",
       "    <tr>\n",
       "      <th>665000</th>\n",
       "      <td>665</td>\n",
       "      <td>2.800000</td>\n",
       "      <td>0.705596</td>\n",
       "    </tr>\n",
       "    <tr>\n",
       "      <th>666000</th>\n",
       "      <td>666</td>\n",
       "      <td>2.800000</td>\n",
       "      <td>0.704370</td>\n",
       "    </tr>\n",
       "    <tr>\n",
       "      <th>667699</th>\n",
       "      <td>667</td>\n",
       "      <td>3.289790</td>\n",
       "      <td>1.229774</td>\n",
       "    </tr>\n",
       "  </tbody>\n",
       "</table>\n",
       "<p>668 rows × 3 columns</p>\n",
       "</div>"
      ],
      "text/plain": [
       "        cycle_index   voltage  discharge_capacity\n",
       "78                0  2.854655            1.462872\n",
       "1000              1  2.800000            0.996120\n",
       "2000              2  2.800000            0.996807\n",
       "3000              3  2.800000            0.997297\n",
       "4000              4  2.800000            0.997766\n",
       "...             ...       ...                 ...\n",
       "663000          663  2.800000            0.707997\n",
       "664000          664  2.800000            0.706779\n",
       "665000          665  2.800000            0.705596\n",
       "666000          666  2.800000            0.704370\n",
       "667699          667  3.289790            1.229774\n",
       "\n",
       "[668 rows x 3 columns]"
      ]
     },
     "execution_count": 19,
     "metadata": {},
     "output_type": "execute_result"
    }
   ],
   "source": [
    "records_file = \"./datasets/matr/cell_records/cell_recordsFastCharge_000001_CH16_structure.parquet\"\n",
    "df_records = pd.read_parquet(records_file)\n",
    "df_records = df_records[[\"cycle_index\", \"voltage\", \"discharge_capacity\"]]\n",
    "df_max = df_records.loc[df_records.groupby(\"cycle_index\")[\"discharge_capacity\"].idxmax()]\n",
    "df_max"
   ]
  },
  {
   "cell_type": "code",
   "execution_count": 20,
   "id": "89540b04",
   "metadata": {},
   "outputs": [
    {
     "data": {
      "text/plain": [
       "[1.4628724500057677,\n",
       " 0.9961202131423004,\n",
       " 0.996806909268552,\n",
       " 0.9972966361850618,\n",
       " 0.9977659908484278,\n",
       " 0.9976144223252932,\n",
       " 0.9972269134206097,\n",
       " 0.9970448708020224,\n",
       " 0.9967712630134916,\n",
       " 0.9963483958687288,\n",
       " 0.9961748476690716,\n",
       " 0.9958345870503325,\n",
       " 0.994543124384383,\n",
       " 0.9942912780195836,\n",
       " 0.9941840814951302,\n",
       " 0.99320031872147,\n",
       " 0.9929677775831356,\n",
       " 0.99266156227712,\n",
       " 0.99206130425188,\n",
       " 0.9916723349175424,\n",
       " 0.9911467541808844,\n",
       " 0.9907461873921196,\n",
       " 0.9902394020479278,\n",
       " 0.9896263691154504,\n",
       " 0.9891374633686888,\n",
       " 0.9884298522135572,\n",
       " 0.9880509764332326,\n",
       " 0.9872808118235796,\n",
       " 0.9870609752007424,\n",
       " 0.9865789787343971,\n",
       " 0.9867307506189664,\n",
       " 0.9858960249075222,\n",
       " 0.9852830535405456,\n",
       " 0.9850263506210216,\n",
       " 0.9849490606452074,\n",
       " 0.9839211305125402,\n",
       " 0.9833552755656948,\n",
       " 0.9830643932153278,\n",
       " 0.9819900073940748,\n",
       " 0.9818051684742404,\n",
       " 0.980473049964962,\n",
       " 0.979779947307218,\n",
       " 0.979675307570202,\n",
       " 0.978700052531022,\n",
       " 0.9778327151927608,\n",
       " 0.9771349870306848,\n",
       " 0.976888211474174,\n",
       " 0.9769885624205448,\n",
       " 0.9764173195337186,\n",
       " 0.9759039954743164,\n",
       " 0.9756642270596608,\n",
       " 0.9769106894551892,\n",
       " 0.976907439975038,\n",
       " 0.97460955518981,\n",
       " 0.9738918783587172,\n",
       " 0.973493542459756,\n",
       " 0.9735359204161468,\n",
       " 0.9738271811808994,\n",
       " 0.9740950342770271,\n",
       " 0.9731229468680068,\n",
       " 0.9725175912285796,\n",
       " 0.9716828848797728,\n",
       " 0.9709008515551324,\n",
       " 0.9701469763864176,\n",
       " 0.9696384709665844,\n",
       " 0.9697338912107704,\n",
       " 0.9690195008880508,\n",
       " 0.9683339175497394,\n",
       " 0.9668927522972356,\n",
       " 0.9671270932451737,\n",
       " 0.9659310185571688,\n",
       " 0.9649947141427891,\n",
       " 0.9640158316574838,\n",
       " 0.964134103687116,\n",
       " 0.963785165660198,\n",
       " 0.9614841466006636,\n",
       " 0.9611251019158016,\n",
       " 0.9608889550479576,\n",
       " 0.9602484875942072,\n",
       " 0.960845960857768,\n",
       " 0.959187402387262,\n",
       " 0.958602398662963,\n",
       " 0.9580390451802332,\n",
       " 0.9578652888059448,\n",
       " 0.9577296241795286,\n",
       " 0.9573531385831436,\n",
       " 0.956612913795334,\n",
       " 0.9558396075666448,\n",
       " 0.9553555199802632,\n",
       " 0.9551658697603772,\n",
       " 0.9557516868983292,\n",
       " 0.9556122840923076,\n",
       " 0.9552573849399656,\n",
       " 0.9547526278171,\n",
       " 0.9537261897037672,\n",
       " 0.9526497326776372,\n",
       " 0.9518410252782262,\n",
       " 0.950914451169228,\n",
       " 0.9500567856035762,\n",
       " 0.9493069820590015,\n",
       " 0.948787151665401,\n",
       " 0.9482289143548326,\n",
       " 0.9477046809455478,\n",
       " 0.947013468551401,\n",
       " 0.946657155672724,\n",
       " 0.9460006638177672,\n",
       " 0.9455812068060636,\n",
       " 0.9450745847236844,\n",
       " 0.9442895049902976,\n",
       " 0.9437181022538332,\n",
       " 0.9431514510214808,\n",
       " 0.9429436418566962,\n",
       " 0.9425542641549428,\n",
       " 0.942267528253869,\n",
       " 0.942194425088378,\n",
       " 0.942229601628316,\n",
       " 0.9417506772107108,\n",
       " 0.9414606623088276,\n",
       " 0.941101909951547,\n",
       " 0.9408038258469632,\n",
       " 0.9404828301595756,\n",
       " 0.9401449979074532,\n",
       " 0.940177157366074,\n",
       " 0.94001165945368,\n",
       " 0.939850943665558,\n",
       " 0.9394640036522028,\n",
       " 0.9388509859948724,\n",
       " 0.938531020165842,\n",
       " 0.9377453031153334,\n",
       " 0.9370484551404612,\n",
       " 0.936334212676849,\n",
       " 0.9355644382773702,\n",
       " 0.9347563824332256,\n",
       " 0.9342616472519504,\n",
       " 0.9338780932080856,\n",
       " 0.9329510109118568,\n",
       " 0.931892769345624,\n",
       " 0.931024498689616,\n",
       " 0.9302186985080196,\n",
       " 0.9296938056313604,\n",
       " 0.9291801190815572,\n",
       " 0.9282837541248096,\n",
       " 0.9276813552217376,\n",
       " 0.9270413371334414,\n",
       " 0.926456656491381,\n",
       " 0.9259436152951304,\n",
       " 0.925569143031704,\n",
       " 0.9241073442589568,\n",
       " 0.9237991125943176,\n",
       " 0.9241970130222096,\n",
       " 0.9247574490535324,\n",
       " 0.9247767682499288,\n",
       " 0.9246850515524,\n",
       " 0.9243102939988568,\n",
       " 0.9239010678103694,\n",
       " 0.92355343470891,\n",
       " 0.9230886431376236,\n",
       " 0.9230277524846672,\n",
       " 0.9229183779834852,\n",
       " 0.9221254596515094,\n",
       " 0.9213212523261016,\n",
       " 0.9204656853776104,\n",
       " 0.919703468606285,\n",
       " 0.9189577497384616,\n",
       " 0.9185637509415288,\n",
       " 0.9180190054800532,\n",
       " 0.917147350996,\n",
       " 0.9162346563289536,\n",
       " 0.9155618704436754,\n",
       " 0.9147082784744835,\n",
       " 0.9140291095944404,\n",
       " 0.9134446980792804,\n",
       " 0.912556500772368,\n",
       " 0.9114881002355524,\n",
       " 0.9109454883701974,\n",
       " 0.910373793536944,\n",
       " 0.9095028765924088,\n",
       " 0.9090230293247752,\n",
       " 0.9089146196816849,\n",
       " 0.9089720253355642,\n",
       " 0.9093078212111484,\n",
       " 0.909753591647395,\n",
       " 0.9098690212070883,\n",
       " 0.9093714413470124,\n",
       " 0.9091410882941064,\n",
       " 0.9088562814798524,\n",
       " 0.9083233180190396,\n",
       " 0.908003429002181,\n",
       " 0.9075401347674816,\n",
       " 0.9071539331425036,\n",
       " 0.9069608563831838,\n",
       " 0.9070200839855072,\n",
       " 0.906984063455796,\n",
       " 0.9067161706426534,\n",
       " 0.9062174459619472,\n",
       " 0.9053738310681106,\n",
       " 0.9047512030022786,\n",
       " 0.9044296470418444,\n",
       " 0.9035738709631536,\n",
       " 0.902665423491096,\n",
       " 0.9025601529159128,\n",
       " 0.9018875756309128,\n",
       " 0.9011271090140804,\n",
       " 0.9004383186973524,\n",
       " 0.9002128217615073,\n",
       " 0.8990775152790168,\n",
       " 0.8980734199899153,\n",
       " 0.8969991391156924,\n",
       " 0.8958181459752083,\n",
       " 0.8951953296234445,\n",
       " 0.8938632562372835,\n",
       " 0.893371097505769,\n",
       " 0.8926129567918407,\n",
       " 0.892968749537424,\n",
       " 0.8930135748223196,\n",
       " 0.8941530615635438,\n",
       " 0.894531523318169,\n",
       " 0.8937973323993726,\n",
       " 0.8938687987758572,\n",
       " 0.893390824473749,\n",
       " 0.8928746994566606,\n",
       " 0.8921541675862853,\n",
       " 0.8921732151498675,\n",
       " 0.8923164155278885,\n",
       " 0.8922687100238346,\n",
       " 0.8923365132652014,\n",
       " 0.8916550891351199,\n",
       " 0.891024164252741,\n",
       " 0.8900498087021277,\n",
       " 0.8894314637158377,\n",
       " 0.8894222308899267,\n",
       " 0.8890219343647261,\n",
       " 0.8889092443073923,\n",
       " 0.889083363351634,\n",
       " 0.8888091601359795,\n",
       " 0.8885781961334922,\n",
       " 0.8882045022094975,\n",
       " 0.8876539667164745,\n",
       " 0.8875417189917645,\n",
       " 0.887524276930695,\n",
       " 0.8873319401626936,\n",
       " 0.8872548496225933,\n",
       " 0.886513664541552,\n",
       " 0.8866799376792669,\n",
       " 0.8852606919729269,\n",
       " 0.8849317903586326,\n",
       " 0.8830124658594688,\n",
       " 0.8828074658623217,\n",
       " 0.8831030059734741,\n",
       " 0.8828066173154363,\n",
       " 0.8800125697214878,\n",
       " 0.8804094828235519,\n",
       " 0.8801425029210823,\n",
       " 0.879377115306522,\n",
       " 0.8793897332624564,\n",
       " 0.8791835886900592,\n",
       " 0.8790062737439757,\n",
       " 0.8785758724605865,\n",
       " 0.8780355230659436,\n",
       " 0.8776527709261056,\n",
       " 0.8773044167541387,\n",
       " 0.8769106801222528,\n",
       " 0.8761279192026243,\n",
       " 0.8754056995499906,\n",
       " 0.8747991872328418,\n",
       " 0.8741316451896208,\n",
       " 0.8733373416659707,\n",
       " 0.873067265018936,\n",
       " 0.872830407698875,\n",
       " 0.8726717173362446,\n",
       " 0.8723641741838655,\n",
       " 0.8724596562754023,\n",
       " 0.8723052753011733,\n",
       " 0.871996786984554,\n",
       " 0.8714023631085802,\n",
       " 0.8710580740444066,\n",
       " 0.8702522139018731,\n",
       " 0.8696661254526836,\n",
       " 0.8692498673548541,\n",
       " 0.8689553484097335,\n",
       " 0.8685970072924368,\n",
       " 0.8681728599547439,\n",
       " 0.8675883830847524,\n",
       " 0.867172691565469,\n",
       " 0.8669398387606928,\n",
       " 0.8664004104596759,\n",
       " 0.8660244514187394,\n",
       " 0.8657322793532362,\n",
       " 0.8653482627223332,\n",
       " 0.8650480645711582,\n",
       " 0.8648446866425716,\n",
       " 0.8646386658332386,\n",
       " 0.8642845365629646,\n",
       " 0.8639818767960528,\n",
       " 0.8636538138234736,\n",
       " 0.8634413604663558,\n",
       " 0.8631006820747665,\n",
       " 0.8624293984702546,\n",
       " 0.8615879424823385,\n",
       " 0.8607746513696517,\n",
       " 0.8601956350364431,\n",
       " 0.8606631206273878,\n",
       " 0.8604886161986133,\n",
       " 0.8600861263237581,\n",
       " 0.8597864112750571,\n",
       " 0.8592684902190169,\n",
       " 0.8587975112513797,\n",
       " 0.8583392643592038,\n",
       " 0.8581153771877016,\n",
       " 0.8577464967709598,\n",
       " 0.8572547677393041,\n",
       " 0.857200611713185,\n",
       " 0.8563803267190138,\n",
       " 0.855568615770116,\n",
       " 0.8549114236452102,\n",
       " 0.8542746253844911,\n",
       " 0.85340260731829,\n",
       " 0.8527757556497154,\n",
       " 0.8523946745868264,\n",
       " 0.8522085475719163,\n",
       " 0.8519511456540654,\n",
       " 0.8518843401386806,\n",
       " 0.8518542611803591,\n",
       " 0.8514072473306314,\n",
       " 0.8513484380741723,\n",
       " 0.851246876327665,\n",
       " 0.850629131867218,\n",
       " 0.8497720646753086,\n",
       " 0.8488377392347561,\n",
       " 0.8485280029518464,\n",
       " 0.8483477657079918,\n",
       " 0.8478892438655654,\n",
       " 0.8473724879184196,\n",
       " 0.8468229809312839,\n",
       " 0.8469702730817689,\n",
       " 0.846988940560635,\n",
       " 0.8466775222610063,\n",
       " 0.8462716731261519,\n",
       " 0.8457139318123044,\n",
       " 0.8449123253616961,\n",
       " 0.8441276861210909,\n",
       " 0.8433827918295628,\n",
       " 0.842859641441185,\n",
       " 0.8425424429740421,\n",
       " 0.8421158012011971,\n",
       " 0.8417066532879682,\n",
       " 0.8414730405209805,\n",
       " 0.8410505756774651,\n",
       " 0.8407457337349158,\n",
       " 0.8406388249802113,\n",
       " 0.8402165122744483,\n",
       " 0.839684826323605,\n",
       " 0.8391359120279813,\n",
       " 0.8385246826077895,\n",
       " 0.8380203939904736,\n",
       " 0.8373614208346495,\n",
       " 0.8371162538665013,\n",
       " 0.8370019560467111,\n",
       " 0.8365546565105229,\n",
       " 0.8363857577419417,\n",
       " 0.8361080475993352,\n",
       " 0.8356735481250237,\n",
       " 0.8354666515336919,\n",
       " 0.8349035269074886,\n",
       " 0.8346754149922053,\n",
       " 0.8342666641968212,\n",
       " 0.8339781040087528,\n",
       " 0.8336448825634393,\n",
       " 0.8336002917567775,\n",
       " 0.8332208378174634,\n",
       " 0.8331140496209716,\n",
       " 0.833138239578529,\n",
       " 0.8327895536054337,\n",
       " 0.8323722575385932,\n",
       " 0.831993447167839,\n",
       " 0.8313507355364702,\n",
       " 0.8305959798663831,\n",
       " 0.8300696186712797,\n",
       " 0.8293806458395672,\n",
       " 0.8286566840119807,\n",
       " 0.8280571963847323,\n",
       " 0.8275893578051962,\n",
       " 0.8274935166202955,\n",
       " 0.8270782440415955,\n",
       " 0.8269434771366179,\n",
       " 0.8265235705449359,\n",
       " 0.8260601124160722,\n",
       " 0.8253788392241199,\n",
       " 0.8248933235180002,\n",
       " 0.8241938335601945,\n",
       " 0.823813155680586,\n",
       " 0.8231902721426941,\n",
       " 0.8226931287511439,\n",
       " 0.8223895740607072,\n",
       " 0.8222864436854802,\n",
       " 0.8218740342580677,\n",
       " 0.8213658952489541,\n",
       " 0.820940312839471,\n",
       " 0.8204894234943714,\n",
       " 0.820012998092261,\n",
       " 0.8198802450443917,\n",
       " 0.8201496332323022,\n",
       " 0.8205183892207113,\n",
       " 0.8205851233809706,\n",
       " 0.8205182977807634,\n",
       " 0.8204922915467874,\n",
       " 0.8203747767859457,\n",
       " 0.82037391297876,\n",
       " 0.8202008575439634,\n",
       " 0.8195001066652365,\n",
       " 0.8188199504999527,\n",
       " 0.8184534821275321,\n",
       " 0.8180593662425513,\n",
       " 0.8176701153927484,\n",
       " 0.8170681048416095,\n",
       " 0.8168199771213185,\n",
       " 0.8164820171631119,\n",
       " 0.816179185303765,\n",
       " 0.8159776244143836,\n",
       " 0.8159528583017241,\n",
       " 0.8158118827009151,\n",
       " 0.8155498528894782,\n",
       " 0.8152140751385744,\n",
       " 0.8145525243566534,\n",
       " 0.8138747608179312,\n",
       " 0.8134094439187262,\n",
       " 0.812794285829981,\n",
       " 0.8124415872985415,\n",
       " 0.8120628303979427,\n",
       " 0.8114776458265968,\n",
       " 0.8109369797742398,\n",
       " 0.8102642756956769,\n",
       " 0.8099142445697873,\n",
       " 0.8094742800134095,\n",
       " 0.8096275884864481,\n",
       " 0.8093949163552894,\n",
       " 0.8089445015159329,\n",
       " 0.8084182455761678,\n",
       " 0.8080844710170503,\n",
       " 0.8077355267915004,\n",
       " 0.8073716157455583,\n",
       " 0.807057297176314,\n",
       " 0.8065454151929509,\n",
       " 0.8064340405430888,\n",
       " 0.806279769876429,\n",
       " 0.8060712121356655,\n",
       " 0.805237663149531,\n",
       " 0.8038915361593527,\n",
       " 0.8029706565588319,\n",
       " 0.8022652390058824,\n",
       " 0.8017037296376784,\n",
       " 0.8012000123540857,\n",
       " 0.8011617651025568,\n",
       " 0.801079018991556,\n",
       " 0.800699807442399,\n",
       " 0.8002901216916485,\n",
       " 0.7998629939223229,\n",
       " 0.7993416496870295,\n",
       " 0.7987719847788435,\n",
       " 0.7980592402773966,\n",
       " 0.7978043580728466,\n",
       " 0.7975259246546715,\n",
       " 0.7973358735633482,\n",
       " 0.7970939866344579,\n",
       " 0.7965498692208274,\n",
       " 0.796149852590381,\n",
       " 0.7955260717505692,\n",
       " 0.7947969163359674,\n",
       " 0.7942878258962185,\n",
       " 0.7940637374281091,\n",
       " 0.7937406007580646,\n",
       " 0.793374625231906,\n",
       " 0.7931245929362006,\n",
       " 0.7922724469938284,\n",
       " 0.7921035978158095,\n",
       " 0.7917601681873222,\n",
       " 0.7913529262752486,\n",
       " 0.7910019929373928,\n",
       " 0.7909332794120948,\n",
       " 0.7901678051742937,\n",
       " 0.7898378974656359,\n",
       " 0.7895587132568005,\n",
       " 0.7890781879547049,\n",
       " 0.7887658301553113,\n",
       " 0.7882104782642797,\n",
       " 0.7874346348323497,\n",
       " 0.7869211651010312,\n",
       " 0.7861863289446712,\n",
       " 0.7856595104246837,\n",
       " 0.7848488137585057,\n",
       " 0.7844895934272279,\n",
       " 0.7837201189306913,\n",
       " 0.7836033297420923,\n",
       " 0.7833760580615912,\n",
       " 0.7827971169479178,\n",
       " 0.7825153785708183,\n",
       " 0.7817922780929436,\n",
       " 0.7810012203924686,\n",
       " 0.7800885386668891,\n",
       " 0.7791549880805917,\n",
       " 0.7782323961243347,\n",
       " 0.7775547363122868,\n",
       " 0.7773292411875417,\n",
       " 0.7763780616358049,\n",
       " 0.7756689107578318,\n",
       " 0.774753986243928,\n",
       " 0.7744240832568134,\n",
       " 0.7743140808486308,\n",
       " 0.7743985975245606,\n",
       " 0.7745966991479476,\n",
       " 0.7744393032440476,\n",
       " 0.7744962346252022,\n",
       " 0.774534262891892,\n",
       " 0.7743926073270752,\n",
       " 0.7743633746491847,\n",
       " 0.7743019650156383,\n",
       " 0.7739319311326045,\n",
       " 0.7735365078930805,\n",
       " 0.7731359077824598,\n",
       " 0.7728624131841282,\n",
       " 0.7727753389871282,\n",
       " 0.7719811277938136,\n",
       " 0.7717516503616076,\n",
       " 0.7712828681245238,\n",
       " 0.7708086119032931,\n",
       " 0.7703387492062859,\n",
       " 0.769627365338564,\n",
       " 0.7689400777863711,\n",
       " 0.7684604569017806,\n",
       " 0.768108283380061,\n",
       " 0.7678030725627194,\n",
       " 0.7673064620188572,\n",
       " 0.7666865131974709,\n",
       " 0.7656675056520876,\n",
       " 0.7653518450876412,\n",
       " 0.7647930703918251,\n",
       " 0.7651622721080545,\n",
       " 0.7642622015290323,\n",
       " 0.7637835766308585,\n",
       " 0.7631374216730202,\n",
       " 0.762243643768472,\n",
       " 0.7616188616877975,\n",
       " 0.7614089033353562,\n",
       " 0.7605314019397454,\n",
       " 0.7600499136434411,\n",
       " 0.7593988287253277,\n",
       " 0.7589734960316781,\n",
       " 0.7584899090026581,\n",
       " 0.7581394400602571,\n",
       " 0.7578091639950411,\n",
       " 0.7578180437684652,\n",
       " 0.7534154230149724,\n",
       " 0.7687934563461283,\n",
       " 0.7701136747542373,\n",
       " 0.7706609925597383,\n",
       " 0.7708276187921632,\n",
       " 0.7709903372727447,\n",
       " 0.7713015128249002,\n",
       " 0.7716236633616174,\n",
       " 0.7713697232423059,\n",
       " 0.7705957257793156,\n",
       " 0.7697196073745487,\n",
       " 0.7691319662071782,\n",
       " 0.7689604092966535,\n",
       " 0.768868837202338,\n",
       " 0.7680649892415372,\n",
       " 0.7675204347632307,\n",
       " 0.7672632949099526,\n",
       " 0.7670635891647037,\n",
       " 0.7670150327329883,\n",
       " 0.7666880937325583,\n",
       " 0.7659567965795843,\n",
       " 0.7652616828460373,\n",
       " 0.7648587749166905,\n",
       " 0.764419355419725,\n",
       " 0.7641052112980852,\n",
       " 0.7636811007416008,\n",
       " 0.7633899226407352,\n",
       " 0.7627899219393768,\n",
       " 0.7616737999542353,\n",
       " 0.7608485869419203,\n",
       " 0.7596449835826982,\n",
       " 0.7593777458967553,\n",
       " 0.758952998834093,\n",
       " 0.7585177822296424,\n",
       " 0.7582313802146824,\n",
       " 0.7579623465791783,\n",
       " 0.7578547668415747,\n",
       " 0.7575351398158345,\n",
       " 0.756523734552174,\n",
       " 0.7566706385093751,\n",
       " 0.7563089802249217,\n",
       " 0.756144770258361,\n",
       " 0.7559129817793656,\n",
       " 0.7552103265399925,\n",
       " 0.7544381068816601,\n",
       " 0.7542221930686995,\n",
       " 0.7536531571560722,\n",
       " 0.7528372966660317,\n",
       " 0.7528899029024229,\n",
       " 0.7527954090111764,\n",
       " 0.7520357158304283,\n",
       " 0.7511781282903442,\n",
       " 0.7501364902965116,\n",
       " 0.7496978103607398,\n",
       " 0.7493784329805393,\n",
       " 0.7487346256932399,\n",
       " 0.7483104294898578,\n",
       " 0.7479854301342549,\n",
       " 0.7473489896398716,\n",
       " 0.7465778668831231,\n",
       " 0.7461730745531429,\n",
       " 0.7454381073849294,\n",
       " 0.7449414971302774,\n",
       " 0.7443040663805822,\n",
       " 0.7434304500866067,\n",
       " 0.7429444645353114,\n",
       " 0.7424951199299867,\n",
       " 0.7420540075573631,\n",
       " 0.741498482149143,\n",
       " 0.7407976845743276,\n",
       " 0.7398255545868129,\n",
       " 0.7390453043067869,\n",
       " 0.7392699123907305,\n",
       " 0.7387652628796061,\n",
       " 0.7380978031561816,\n",
       " 0.7375321311145409,\n",
       " 0.7367628440772677,\n",
       " 0.7362063219026473,\n",
       " 0.7359216913557218,\n",
       " 0.735248947120023,\n",
       " 0.7345000560845539,\n",
       " 0.7341381253095578,\n",
       " 0.7335170624149543,\n",
       " 0.7330055926545214,\n",
       " 0.7323335327267223,\n",
       " 0.7318636483095557,\n",
       " 0.7311370719522048,\n",
       " 0.7304530699788451,\n",
       " 0.7297154128290486,\n",
       " 0.729670134175948,\n",
       " 0.7287544250373311,\n",
       " 0.7276025532546919,\n",
       " 0.7265967724023984,\n",
       " 0.7254493387405652,\n",
       " 0.7248165675220575,\n",
       " 0.7238055090181525,\n",
       " 0.7228524975497724,\n",
       " 0.7220263815331492,\n",
       " 0.7214070577779675,\n",
       " 0.7205471195860436,\n",
       " 0.7194306174172812,\n",
       " 0.7185127598506316,\n",
       " 0.7179346951529817,\n",
       " 0.7171342077743165,\n",
       " 0.7160077525045786,\n",
       " 0.7151761735356158,\n",
       " 0.7140819515261128,\n",
       " 0.7129634827454044,\n",
       " 0.7123436204255784,\n",
       " 0.71146311978294,\n",
       " 0.7104354687026384,\n",
       " 0.7091167143987481,\n",
       " 0.7079965339626597,\n",
       " 0.706778759522124,\n",
       " 0.7055961189002666,\n",
       " 0.7043695047427461,\n",
       " 1.2297741028814533]"
      ]
     },
     "execution_count": 20,
     "metadata": {},
     "output_type": "execute_result"
    }
   ],
   "source": [
    "records_caps = df_max[\"discharge_capacity\"].values.tolist()\n",
    "records_caps"
   ]
  },
  {
   "cell_type": "code",
   "execution_count": 21,
   "id": "52feec02",
   "metadata": {},
   "outputs": [],
   "source": [
    "import plotly.graph_objects as go\n",
    "\n",
    "def plot_two_lists(list1, list2, name1=\"List 1\", name2=\"List 2\", title=\"Two List Plot\"):\n",
    "    fig = go.Figure()\n",
    "\n",
    "    fig.add_trace(go.Scatter(\n",
    "        x=list(range(len(list1))),\n",
    "        y=list1,\n",
    "        mode='lines+markers',\n",
    "        name=name1\n",
    "    ))\n",
    "\n",
    "    fig.add_trace(go.Scatter(\n",
    "        x=list(range(len(list2))),\n",
    "        y=list2,\n",
    "        mode='lines+markers',\n",
    "        name=name2\n",
    "    ))\n",
    "\n",
    "    fig.update_layout(\n",
    "        title=title,\n",
    "        xaxis_title=\"Index\",\n",
    "        yaxis_title=\"Value\",\n",
    "        legend=dict(x=0.01, y=0.99),\n",
    "        template=\"plotly_white\"\n",
    "    )\n",
    "\n",
    "    fig.show()\n",
    "\n"
   ]
  },
  {
   "cell_type": "code",
   "execution_count": 22,
   "id": "fe5982eb",
   "metadata": {},
   "outputs": [
    {
     "data": {
      "application/vnd.plotly.v1+json": {
       "config": {
        "plotlyServerURL": "https://plot.ly"
       },
       "data": [
        {
         "mode": "lines+markers",
         "name": "Summary",
         "type": "scatter",
         "x": [
          0,
          1,
          2,
          3,
          4,
          5,
          6,
          7,
          8,
          9,
          10,
          11,
          12,
          13,
          14,
          15,
          16,
          17,
          18,
          19,
          20,
          21,
          22,
          23,
          24,
          25,
          26,
          27,
          28,
          29,
          30,
          31,
          32,
          33,
          34,
          35,
          36,
          37,
          38,
          39,
          40,
          41,
          42,
          43,
          44,
          45,
          46,
          47,
          48,
          49,
          50,
          51,
          52,
          53,
          54,
          55,
          56,
          57,
          58,
          59,
          60,
          61,
          62,
          63,
          64,
          65,
          66,
          67,
          68,
          69,
          70,
          71,
          72,
          73,
          74,
          75,
          76,
          77,
          78,
          79,
          80,
          81,
          82,
          83,
          84,
          85,
          86,
          87,
          88,
          89,
          90,
          91,
          92,
          93,
          94,
          95,
          96,
          97,
          98,
          99,
          100,
          101,
          102,
          103,
          104,
          105,
          106,
          107,
          108,
          109,
          110,
          111,
          112,
          113,
          114,
          115,
          116,
          117,
          118,
          119,
          120,
          121,
          122,
          123,
          124,
          125,
          126,
          127,
          128,
          129,
          130,
          131,
          132,
          133,
          134,
          135,
          136,
          137,
          138,
          139,
          140,
          141,
          142,
          143,
          144,
          145,
          146,
          147,
          148,
          149,
          150,
          151,
          152,
          153,
          154,
          155,
          156,
          157,
          158,
          159,
          160,
          161,
          162,
          163,
          164,
          165,
          166,
          167,
          168,
          169,
          170,
          171,
          172,
          173,
          174,
          175,
          176,
          177,
          178,
          179,
          180,
          181,
          182,
          183,
          184,
          185,
          186,
          187,
          188,
          189,
          190,
          191,
          192,
          193,
          194,
          195,
          196,
          197,
          198,
          199,
          200,
          201,
          202,
          203,
          204,
          205,
          206,
          207,
          208,
          209,
          210,
          211,
          212,
          213,
          214,
          215,
          216,
          217,
          218,
          219,
          220,
          221,
          222,
          223,
          224,
          225,
          226,
          227,
          228,
          229,
          230,
          231,
          232,
          233,
          234,
          235,
          236,
          237,
          238,
          239,
          240,
          241,
          242,
          243,
          244,
          245,
          246,
          247,
          248,
          249,
          250,
          251,
          252,
          253,
          254,
          255,
          256,
          257,
          258,
          259,
          260,
          261,
          262,
          263,
          264,
          265,
          266,
          267,
          268,
          269,
          270,
          271,
          272,
          273,
          274,
          275,
          276,
          277,
          278,
          279,
          280,
          281,
          282,
          283,
          284,
          285,
          286,
          287,
          288,
          289,
          290,
          291,
          292,
          293,
          294,
          295,
          296,
          297,
          298,
          299,
          300,
          301,
          302,
          303,
          304,
          305,
          306,
          307,
          308,
          309,
          310,
          311,
          312,
          313,
          314,
          315,
          316,
          317,
          318,
          319,
          320,
          321,
          322,
          323,
          324,
          325,
          326,
          327,
          328,
          329,
          330,
          331,
          332,
          333,
          334,
          335,
          336,
          337,
          338,
          339,
          340,
          341,
          342,
          343,
          344,
          345,
          346,
          347,
          348,
          349,
          350,
          351,
          352,
          353,
          354,
          355,
          356,
          357,
          358,
          359,
          360,
          361,
          362,
          363,
          364,
          365,
          366,
          367,
          368,
          369,
          370,
          371,
          372,
          373,
          374,
          375,
          376,
          377,
          378,
          379,
          380,
          381,
          382,
          383,
          384,
          385,
          386,
          387,
          388,
          389,
          390,
          391,
          392,
          393,
          394,
          395,
          396,
          397,
          398,
          399,
          400,
          401,
          402,
          403,
          404,
          405,
          406,
          407,
          408,
          409,
          410,
          411,
          412,
          413,
          414,
          415,
          416,
          417,
          418,
          419,
          420,
          421,
          422,
          423,
          424,
          425,
          426,
          427,
          428,
          429,
          430,
          431,
          432,
          433,
          434,
          435,
          436,
          437,
          438,
          439,
          440,
          441,
          442,
          443,
          444,
          445,
          446,
          447,
          448,
          449,
          450,
          451,
          452,
          453,
          454,
          455,
          456,
          457,
          458,
          459,
          460,
          461,
          462,
          463,
          464,
          465,
          466,
          467,
          468,
          469,
          470,
          471,
          472,
          473,
          474,
          475,
          476,
          477,
          478,
          479,
          480,
          481,
          482,
          483,
          484,
          485,
          486,
          487,
          488,
          489,
          490,
          491,
          492,
          493,
          494,
          495,
          496,
          497,
          498,
          499,
          500,
          501,
          502,
          503,
          504,
          505,
          506,
          507,
          508,
          509,
          510,
          511,
          512,
          513,
          514,
          515,
          516,
          517,
          518,
          519,
          520,
          521,
          522,
          523,
          524,
          525,
          526,
          527,
          528,
          529,
          530,
          531,
          532,
          533,
          534,
          535,
          536,
          537,
          538,
          539,
          540,
          541,
          542,
          543,
          544,
          545,
          546,
          547,
          548,
          549,
          550,
          551,
          552,
          553,
          554,
          555,
          556,
          557,
          558,
          559,
          560,
          561,
          562,
          563,
          564,
          565,
          566,
          567,
          568,
          569,
          570,
          571,
          572,
          573,
          574,
          575,
          576,
          577,
          578,
          579,
          580,
          581,
          582,
          583,
          584,
          585,
          586,
          587,
          588,
          589,
          590,
          591,
          592,
          593,
          594,
          595,
          596,
          597,
          598,
          599,
          600,
          601,
          602,
          603,
          604,
          605,
          606,
          607,
          608,
          609,
          610,
          611,
          612,
          613,
          614,
          615,
          616,
          617,
          618,
          619,
          620,
          621,
          622,
          623,
          624,
          625,
          626,
          627,
          628,
          629,
          630,
          631,
          632,
          633,
          634,
          635,
          636,
          637,
          638,
          639,
          640,
          641,
          642,
          643,
          644,
          645,
          646,
          647,
          648,
          649,
          650,
          651,
          652,
          653,
          654,
          655,
          656,
          657,
          658,
          659,
          660,
          661,
          662,
          663,
          664,
          665,
          666
         ],
         "y": [
          1.5517313,
          1.0620248,
          1.0626124,
          1.0629802,
          1.0630591,
          1.0630716,
          1.0630208,
          1.0629483,
          1.0628687,
          1.0625648,
          1.0624539,
          1.0623018,
          1.0618695,
          1.0616318,
          1.0615309,
          1.0612603,
          1.0609072,
          1.0607761,
          1.0604508,
          1.0602862,
          1.0599411,
          1.0598503,
          1.0595941999999998,
          1.0592423999999998,
          1.0589865,
          1.0587656,
          1.0585668,
          1.0582657,
          1.0583693,
          1.0582081,
          1.0581876,
          1.0579997,
          1.0578076,
          1.0574983,
          1.0573143,
          1.0570542,
          1.0568646000000002,
          1.0565403,
          1.0562652,
          1.056168,
          1.0559383999999998,
          1.0558032,
          1.0557671999999998,
          1.0554632,
          1.0550848999999998,
          1.0547764,
          1.0545296999999998,
          1.0543556,
          1.0542214,
          1.0539025,
          1.0537841,
          1.0538685,
          1.0536891000000002,
          1.0534407,
          1.0530304,
          1.0526658000000002,
          1.0525261,
          1.0525136999999998,
          1.0524204,
          1.0522065,
          1.0520055,
          1.0518051000000002,
          1.0516526000000002,
          1.0513049,
          1.0511122,
          1.0509761999999998,
          1.0509588,
          1.0505836000000002,
          1.050422,
          1.0501648,
          1.0499737,
          1.0497566,
          1.0494341,
          1.0492488000000002,
          1.0492046999999998,
          1.0488254,
          1.0484586,
          1.0484252,
          1.0481374,
          1.0479254999999998,
          1.0477858,
          1.0475196,
          1.0473623,
          1.0472880999999998,
          1.0470761,
          1.0469767,
          1.0467993,
          1.0465215,
          1.0463639,
          1.0461752,
          1.0460863,
          1.04583,
          1.0457288,
          1.0453346,
          1.0452496,
          1.044857,
          1.0446329,
          1.0443782,
          1.0441024,
          1.0439155,
          1.04378,
          1.0435516,
          1.043364,
          1.0431731,
          1.0430701999999998,
          1.0427227,
          1.042601,
          1.0423266,
          1.0420371,
          1.0418459,
          1.0416248,
          1.0413206,
          1.0411824,
          1.040987,
          1.0407267,
          1.0407473,
          1.0404315,
          1.0402199,
          1.0401019,
          1.0399466,
          1.0397823,
          1.0396794,
          1.0396426,
          1.0394095,
          1.0390569,
          1.0388959999999998,
          1.0384874,
          1.0383668,
          1.0382985999999998,
          1.0378491,
          1.0377866,
          1.0375196,
          1.0372614,
          1.0370514000000002,
          1.0368813,
          1.0366095,
          1.0363399,
          1.036209,
          1.0358341999999998,
          1.0358559,
          1.0354168,
          1.0350422,
          1.0349962,
          1.0347289000000002,
          1.03431,
          1.0342907,
          1.0339292,
          1.0338899,
          1.0335754,
          1.0334083,
          1.0330706,
          1.0331399,
          1.0330302,
          1.0330384,
          1.0328032,
          1.0326387,
          1.0325247,
          1.0322105,
          1.032095,
          1.0318881,
          1.0317614,
          1.0314426,
          1.0312126,
          1.0309927,
          1.03083,
          1.0307384,
          1.0304618,
          1.0302302,
          1.0298355,
          1.029578,
          1.0293126,
          1.0289726,
          1.0286479,
          1.0285393,
          1.0282551,
          1.0282601,
          1.0280071,
          1.0277317,
          1.0273286,
          1.0270866,
          1.0269355,
          1.0267844000000002,
          1.0267264,
          1.026381,
          1.026212,
          1.0259576,
          1.0257797,
          1.0253706,
          1.025061,
          1.0247908,
          1.02475,
          1.0244526,
          1.0243961,
          1.0240998,
          1.0238074,
          1.023756,
          1.0234089,
          1.0232059,
          1.0230893,
          1.0228524,
          1.0225394,
          1.0224099,
          1.0221186,
          1.0219883,
          1.0216702,
          1.0215621,
          1.0212485,
          1.0210811,
          1.0208031,
          1.0205438,
          1.020067,
          1.0198489,
          1.01957,
          1.0195271,
          1.0193487,
          1.0190566,
          1.0188621,
          1.0186959999999998,
          1.0184681,
          1.0184039,
          1.0181274,
          1.0180614,
          1.0178096,
          1.0176737,
          1.0173005,
          1.0170576999999998,
          1.0171065,
          1.0167046,
          1.0164771,
          1.0162868,
          1.0160185,
          1.0159893,
          1.0156577,
          1.0155145,
          1.0153766,
          1.0149807,
          1.0148982,
          1.0146568,
          1.0145158,
          1.0143081,
          1.0143162,
          1.0142876,
          1.0137768,
          1.013793,
          1.0133126,
          1.0131782,
          1.0130529,
          1.0127293,
          1.0128767,
          1.0124766,
          1.0122477,
          1.0119056999999998,
          1.0118322,
          1.0116303,
          1.0113769,
          1.0110495000000002,
          1.0110137,
          1.0107785,
          1.010723,
          1.0104642,
          1.0102417,
          1.0098921,
          1.0098914,
          1.0095725,
          1.0093021,
          1.009034,
          1.0089422,
          1.0086808,
          1.0083995,
          1.0084227,
          1.0080657,
          1.00796,
          1.0075958,
          1.0074778,
          1.007471,
          1.0073841,
          1.0068691,
          1.0067345,
          1.0064123,
          1.0064074,
          1.0060682,
          1.0060405,
          1.0059075000000002,
          1.0056629,
          1.0056193000000002,
          1.0051103,
          1.0050805,
          1.0047396,
          1.0045780999999998,
          1.0045433,
          1.0041934,
          1.0042477,
          1.0039777,
          1.0035858,
          1.0032947,
          1.003074,
          1.0029223,
          1.0028818000000002,
          1.002717,
          1.0025862,
          1.0024042,
          1.0022633,
          1.0018889000000002,
          1.0017254,
          1.0014637,
          1.0011933000000002,
          1.0009905,
          1.0009487,
          1.0006608,
          1.0004699,
          1.0002213,
          0.99996871,
          0.99979711,
          0.99980533,
          0.99954885,
          0.99937236,
          0.9991104,
          0.99884415,
          0.99863219,
          0.99865377,
          0.99827141,
          0.99807167,
          0.99790645,
          0.99771124,
          0.99746698,
          0.99720776,
          0.99713552,
          0.99683893,
          0.99667352,
          0.99642682,
          0.99606401,
          0.99590939,
          0.99575353,
          0.99537492,
          0.9953624,
          0.99505001,
          0.99514252,
          0.99474776,
          0.99438655,
          0.9942764,
          0.99404281,
          0.99372482,
          0.99352741,
          0.99352139,
          0.99344009,
          0.99321949,
          0.99288702,
          0.99282163,
          0.992522,
          0.99229604,
          0.99213278,
          0.99177521,
          0.99154729,
          0.99134701,
          0.99118418,
          0.99094588,
          0.99069786,
          0.99044263,
          0.99017072,
          0.98988992,
          0.98974633,
          0.98950571,
          0.98946255,
          0.98937172,
          0.98914266,
          0.98891878,
          0.9885906,
          0.98843652,
          0.98835796,
          0.98798835,
          0.98785758,
          0.98751199,
          0.98740643,
          0.9873808,
          0.98709172,
          0.98715967,
          0.98677409,
          0.98652637,
          0.98625749,
          0.98601097,
          0.98583633,
          0.98544008,
          0.98538929,
          0.98509377,
          0.98485374,
          0.98458284,
          0.98447227,
          0.98422736,
          0.98396027,
          0.98351723,
          0.98336071,
          0.98312533,
          0.98297912,
          0.98269147,
          0.98238415,
          0.98238337,
          0.98197711,
          0.9816305,
          0.98153013,
          0.98141402,
          0.98102534,
          0.98076522,
          0.98066902,
          0.98052806,
          0.98030925,
          0.98002791,
          0.97982007,
          0.97958142,
          0.97935075,
          0.9790768,
          0.97881866,
          0.9784776,
          0.97832352,
          0.9780342,
          0.97783762,
          0.97760105,
          0.97746485,
          0.97715187,
          0.97695613,
          0.97688973,
          0.97663659,
          0.97624284,
          0.97596341,
          0.97583914,
          0.97552538,
          0.97546363,
          0.97508836,
          0.97498178,
          0.97469455,
          0.97450727,
          0.97425359,
          0.97385943,
          0.97366303,
          0.97338033,
          0.97330141,
          0.97296226,
          0.97275609,
          0.97246331,
          0.97225517,
          0.9717893,
          0.97165221,
          0.97130567,
          0.97107726,
          0.97095162,
          0.97059149,
          0.97041512,
          0.97032797,
          0.96984112,
          0.96954376,
          0.96928906,
          0.96888655,
          0.96877295,
          0.96837765,
          0.96807921,
          0.96780896,
          0.96745908,
          0.96724194,
          0.96694547,
          0.96660799,
          0.9663443000000002,
          0.96599615,
          0.96573418,
          0.96551085,
          0.96532375,
          0.96492022,
          0.96454901,
          0.96435159,
          0.96397763,
          0.96358174,
          0.96320975,
          0.9628669,
          0.96265239,
          0.96236616,
          0.96212065,
          0.96174449,
          0.96140689,
          0.96111214,
          0.96076912,
          0.96046573,
          0.96006459,
          0.95963526,
          0.95948881,
          0.95915413,
          0.95880759,
          0.95856971,
          0.95814461,
          0.95788997,
          0.95748538,
          0.95721257,
          0.95686352,
          0.95651007,
          0.95608878,
          0.95578206,
          0.95537966,
          0.955046,
          0.95472491,
          0.95454609,
          0.95403427,
          0.95376587,
          0.95336092,
          0.9530434,
          0.95272595,
          0.95228016,
          0.95187593,
          0.95151657,
          0.95106339,
          0.95072216,
          0.95039237,
          0.95009834,
          0.94968653,
          0.94935495,
          0.94906366,
          0.94883174,
          0.94850552,
          0.94821322,
          0.94782501,
          0.9475382,
          0.94727844,
          0.94704717,
          0.94671303,
          0.94641566,
          0.94609088,
          0.94575542,
          0.945171,
          0.94489229,
          0.94460791,
          0.94420391,
          0.94371235,
          0.94343323,
          0.9430899,
          0.94264734,
          0.94234031,
          0.94185382,
          0.94152558,
          0.94120294,
          0.94088864,
          0.94041359,
          0.94010746,
          0.93980646,
          0.93939906,
          0.93911219,
          0.93874085,
          0.93832237,
          0.93789059,
          0.93756068,
          0.93714511,
          0.93677443,
          0.93643224,
          0.93602341,
          0.93572038,
          0.93526,
          0.92730176,
          0.92757773,
          0.92795908,
          0.92840421,
          0.9284972,
          0.92853564,
          0.92846161,
          0.92844564,
          0.92826194,
          0.92807698,
          0.92781025,
          0.92778403,
          0.9276104,
          0.92723286,
          0.92715514,
          0.92674494,
          0.92646492,
          0.92630202,
          0.92593807,
          0.92574263,
          0.92557806,
          0.92527181,
          0.92512584,
          0.92489713,
          0.92457581,
          0.92437571,
          0.924218,
          0.92383528,
          0.9237361,
          0.92321962,
          0.92310625,
          0.92270666,
          0.9224776,
          0.92203701,
          0.92184955,
          0.92147481,
          0.92121762,
          0.9209801,
          0.9205398,
          0.92021632,
          0.91989684,
          0.91955256,
          0.91916722,
          0.91887265,
          0.91855794,
          0.91815758,
          0.91778845,
          0.91745257,
          0.91705161,
          0.91666162,
          0.91628659,
          0.91584224,
          0.91551363,
          0.91512632,
          0.91475934,
          0.91443139,
          0.91398829,
          0.91348559,
          0.91304088,
          0.91278082,
          0.91228896,
          0.91190344,
          0.91149718,
          0.91094619,
          0.91073573,
          0.91019726,
          0.90973639,
          0.90926754,
          0.90877908,
          0.90819937,
          0.90782356,
          0.90737772,
          0.90693158,
          0.90636712,
          0.90597749,
          0.90534419,
          0.90484607,
          0.90439057,
          0.90379345,
          0.90335089,
          0.90284508,
          0.90216815,
          0.90172505,
          0.90119505,
          0.90064543,
          0.90004492,
          0.8994419,
          0.8989079,
          0.89822203,
          0.89772004,
          0.8971565999999999,
          0.89656579,
          0.89592016,
          0.89522868,
          0.89480621,
          0.89411861,
          0.89345318,
          0.89280313,
          0.8920446,
          0.89147431,
          0.89082462,
          0.89012915,
          0.88954592,
          0.8888725000000001,
          0.88803422,
          0.88738608,
          0.88665122,
          0.88608605,
          0.88520569,
          0.8845575999999999,
          0.88365042,
          0.88290739,
          0.88222021,
          0.88151622,
          0.88088632,
          0.88052577
         ]
        },
        {
         "mode": "lines+markers",
         "name": "Records",
         "type": "scatter",
         "x": [
          0,
          1,
          2,
          3,
          4,
          5,
          6,
          7,
          8,
          9,
          10,
          11,
          12,
          13,
          14,
          15,
          16,
          17,
          18,
          19,
          20,
          21,
          22,
          23,
          24,
          25,
          26,
          27,
          28,
          29,
          30,
          31,
          32,
          33,
          34,
          35,
          36,
          37,
          38,
          39,
          40,
          41,
          42,
          43,
          44,
          45,
          46,
          47,
          48,
          49,
          50,
          51,
          52,
          53,
          54,
          55,
          56,
          57,
          58,
          59,
          60,
          61,
          62,
          63,
          64,
          65,
          66,
          67,
          68,
          69,
          70,
          71,
          72,
          73,
          74,
          75,
          76,
          77,
          78,
          79,
          80,
          81,
          82,
          83,
          84,
          85,
          86,
          87,
          88,
          89,
          90,
          91,
          92,
          93,
          94,
          95,
          96,
          97,
          98,
          99,
          100,
          101,
          102,
          103,
          104,
          105,
          106,
          107,
          108,
          109,
          110,
          111,
          112,
          113,
          114,
          115,
          116,
          117,
          118,
          119,
          120,
          121,
          122,
          123,
          124,
          125,
          126,
          127,
          128,
          129,
          130,
          131,
          132,
          133,
          134,
          135,
          136,
          137,
          138,
          139,
          140,
          141,
          142,
          143,
          144,
          145,
          146,
          147,
          148,
          149,
          150,
          151,
          152,
          153,
          154,
          155,
          156,
          157,
          158,
          159,
          160,
          161,
          162,
          163,
          164,
          165,
          166,
          167,
          168,
          169,
          170,
          171,
          172,
          173,
          174,
          175,
          176,
          177,
          178,
          179,
          180,
          181,
          182,
          183,
          184,
          185,
          186,
          187,
          188,
          189,
          190,
          191,
          192,
          193,
          194,
          195,
          196,
          197,
          198,
          199,
          200,
          201,
          202,
          203,
          204,
          205,
          206,
          207,
          208,
          209,
          210,
          211,
          212,
          213,
          214,
          215,
          216,
          217,
          218,
          219,
          220,
          221,
          222,
          223,
          224,
          225,
          226,
          227,
          228,
          229,
          230,
          231,
          232,
          233,
          234,
          235,
          236,
          237,
          238,
          239,
          240,
          241,
          242,
          243,
          244,
          245,
          246,
          247,
          248,
          249,
          250,
          251,
          252,
          253,
          254,
          255,
          256,
          257,
          258,
          259,
          260,
          261,
          262,
          263,
          264,
          265,
          266,
          267,
          268,
          269,
          270,
          271,
          272,
          273,
          274,
          275,
          276,
          277,
          278,
          279,
          280,
          281,
          282,
          283,
          284,
          285,
          286,
          287,
          288,
          289,
          290,
          291,
          292,
          293,
          294,
          295,
          296,
          297,
          298,
          299,
          300,
          301,
          302,
          303,
          304,
          305,
          306,
          307,
          308,
          309,
          310,
          311,
          312,
          313,
          314,
          315,
          316,
          317,
          318,
          319,
          320,
          321,
          322,
          323,
          324,
          325,
          326,
          327,
          328,
          329,
          330,
          331,
          332,
          333,
          334,
          335,
          336,
          337,
          338,
          339,
          340,
          341,
          342,
          343,
          344,
          345,
          346,
          347,
          348,
          349,
          350,
          351,
          352,
          353,
          354,
          355,
          356,
          357,
          358,
          359,
          360,
          361,
          362,
          363,
          364,
          365,
          366,
          367,
          368,
          369,
          370,
          371,
          372,
          373,
          374,
          375,
          376,
          377,
          378,
          379,
          380,
          381,
          382,
          383,
          384,
          385,
          386,
          387,
          388,
          389,
          390,
          391,
          392,
          393,
          394,
          395,
          396,
          397,
          398,
          399,
          400,
          401,
          402,
          403,
          404,
          405,
          406,
          407,
          408,
          409,
          410,
          411,
          412,
          413,
          414,
          415,
          416,
          417,
          418,
          419,
          420,
          421,
          422,
          423,
          424,
          425,
          426,
          427,
          428,
          429,
          430,
          431,
          432,
          433,
          434,
          435,
          436,
          437,
          438,
          439,
          440,
          441,
          442,
          443,
          444,
          445,
          446,
          447,
          448,
          449,
          450,
          451,
          452,
          453,
          454,
          455,
          456,
          457,
          458,
          459,
          460,
          461,
          462,
          463,
          464,
          465,
          466,
          467,
          468,
          469,
          470,
          471,
          472,
          473,
          474,
          475,
          476,
          477,
          478,
          479,
          480,
          481,
          482,
          483,
          484,
          485,
          486,
          487,
          488,
          489,
          490,
          491,
          492,
          493,
          494,
          495,
          496,
          497,
          498,
          499,
          500,
          501,
          502,
          503,
          504,
          505,
          506,
          507,
          508,
          509,
          510,
          511,
          512,
          513,
          514,
          515,
          516,
          517,
          518,
          519,
          520,
          521,
          522,
          523,
          524,
          525,
          526,
          527,
          528,
          529,
          530,
          531,
          532,
          533,
          534,
          535,
          536,
          537,
          538,
          539,
          540,
          541,
          542,
          543,
          544,
          545,
          546,
          547,
          548,
          549,
          550,
          551,
          552,
          553,
          554,
          555,
          556,
          557,
          558,
          559,
          560,
          561,
          562,
          563,
          564,
          565,
          566,
          567,
          568,
          569,
          570,
          571,
          572,
          573,
          574,
          575,
          576,
          577,
          578,
          579,
          580,
          581,
          582,
          583,
          584,
          585,
          586,
          587,
          588,
          589,
          590,
          591,
          592,
          593,
          594,
          595,
          596,
          597,
          598,
          599,
          600,
          601,
          602,
          603,
          604,
          605,
          606,
          607,
          608,
          609,
          610,
          611,
          612,
          613,
          614,
          615,
          616,
          617,
          618,
          619,
          620,
          621,
          622,
          623,
          624,
          625,
          626,
          627,
          628,
          629,
          630,
          631,
          632,
          633,
          634,
          635,
          636,
          637,
          638,
          639,
          640,
          641,
          642,
          643,
          644,
          645,
          646,
          647,
          648,
          649,
          650,
          651,
          652,
          653,
          654,
          655,
          656,
          657,
          658,
          659,
          660,
          661,
          662,
          663,
          664,
          665,
          666,
          667
         ],
         "y": [
          1.4628724500057677,
          0.9961202131423004,
          0.996806909268552,
          0.9972966361850618,
          0.9977659908484278,
          0.9976144223252932,
          0.9972269134206097,
          0.9970448708020224,
          0.9967712630134916,
          0.9963483958687288,
          0.9961748476690716,
          0.9958345870503325,
          0.994543124384383,
          0.9942912780195836,
          0.9941840814951302,
          0.99320031872147,
          0.9929677775831356,
          0.99266156227712,
          0.99206130425188,
          0.9916723349175424,
          0.9911467541808844,
          0.9907461873921196,
          0.9902394020479278,
          0.9896263691154504,
          0.9891374633686888,
          0.9884298522135572,
          0.9880509764332326,
          0.9872808118235796,
          0.9870609752007424,
          0.9865789787343971,
          0.9867307506189664,
          0.9858960249075222,
          0.9852830535405456,
          0.9850263506210216,
          0.9849490606452074,
          0.9839211305125402,
          0.9833552755656948,
          0.9830643932153278,
          0.9819900073940748,
          0.9818051684742404,
          0.980473049964962,
          0.979779947307218,
          0.979675307570202,
          0.978700052531022,
          0.9778327151927608,
          0.9771349870306848,
          0.976888211474174,
          0.9769885624205448,
          0.9764173195337186,
          0.9759039954743164,
          0.9756642270596608,
          0.9769106894551892,
          0.976907439975038,
          0.97460955518981,
          0.9738918783587172,
          0.973493542459756,
          0.9735359204161468,
          0.9738271811808994,
          0.9740950342770271,
          0.9731229468680068,
          0.9725175912285796,
          0.9716828848797728,
          0.9709008515551324,
          0.9701469763864176,
          0.9696384709665844,
          0.9697338912107704,
          0.9690195008880508,
          0.9683339175497394,
          0.9668927522972356,
          0.9671270932451737,
          0.9659310185571688,
          0.9649947141427891,
          0.9640158316574838,
          0.964134103687116,
          0.963785165660198,
          0.9614841466006636,
          0.9611251019158016,
          0.9608889550479576,
          0.9602484875942072,
          0.960845960857768,
          0.959187402387262,
          0.958602398662963,
          0.9580390451802332,
          0.9578652888059448,
          0.9577296241795286,
          0.9573531385831436,
          0.956612913795334,
          0.9558396075666448,
          0.9553555199802632,
          0.9551658697603772,
          0.9557516868983292,
          0.9556122840923076,
          0.9552573849399656,
          0.9547526278171,
          0.9537261897037672,
          0.9526497326776372,
          0.9518410252782262,
          0.950914451169228,
          0.9500567856035762,
          0.9493069820590015,
          0.948787151665401,
          0.9482289143548326,
          0.9477046809455478,
          0.947013468551401,
          0.946657155672724,
          0.9460006638177672,
          0.9455812068060636,
          0.9450745847236844,
          0.9442895049902976,
          0.9437181022538332,
          0.9431514510214808,
          0.9429436418566962,
          0.9425542641549428,
          0.942267528253869,
          0.942194425088378,
          0.942229601628316,
          0.9417506772107108,
          0.9414606623088276,
          0.941101909951547,
          0.9408038258469632,
          0.9404828301595756,
          0.9401449979074532,
          0.940177157366074,
          0.94001165945368,
          0.939850943665558,
          0.9394640036522028,
          0.9388509859948724,
          0.938531020165842,
          0.9377453031153334,
          0.9370484551404612,
          0.936334212676849,
          0.9355644382773702,
          0.9347563824332256,
          0.9342616472519504,
          0.9338780932080856,
          0.9329510109118568,
          0.931892769345624,
          0.931024498689616,
          0.9302186985080196,
          0.9296938056313604,
          0.9291801190815572,
          0.9282837541248096,
          0.9276813552217376,
          0.9270413371334414,
          0.926456656491381,
          0.9259436152951304,
          0.925569143031704,
          0.9241073442589568,
          0.9237991125943176,
          0.9241970130222096,
          0.9247574490535324,
          0.9247767682499288,
          0.9246850515524,
          0.9243102939988568,
          0.9239010678103694,
          0.92355343470891,
          0.9230886431376236,
          0.9230277524846672,
          0.9229183779834852,
          0.9221254596515094,
          0.9213212523261016,
          0.9204656853776104,
          0.919703468606285,
          0.9189577497384616,
          0.9185637509415288,
          0.9180190054800532,
          0.917147350996,
          0.9162346563289536,
          0.9155618704436754,
          0.9147082784744835,
          0.9140291095944404,
          0.9134446980792804,
          0.912556500772368,
          0.9114881002355524,
          0.9109454883701974,
          0.910373793536944,
          0.9095028765924088,
          0.9090230293247752,
          0.9089146196816849,
          0.9089720253355642,
          0.9093078212111484,
          0.909753591647395,
          0.9098690212070883,
          0.9093714413470124,
          0.9091410882941064,
          0.9088562814798524,
          0.9083233180190396,
          0.908003429002181,
          0.9075401347674816,
          0.9071539331425036,
          0.9069608563831838,
          0.9070200839855072,
          0.906984063455796,
          0.9067161706426534,
          0.9062174459619472,
          0.9053738310681106,
          0.9047512030022786,
          0.9044296470418444,
          0.9035738709631536,
          0.902665423491096,
          0.9025601529159128,
          0.9018875756309128,
          0.9011271090140804,
          0.9004383186973524,
          0.9002128217615073,
          0.8990775152790168,
          0.8980734199899153,
          0.8969991391156924,
          0.8958181459752083,
          0.8951953296234445,
          0.8938632562372835,
          0.893371097505769,
          0.8926129567918407,
          0.892968749537424,
          0.8930135748223196,
          0.8941530615635438,
          0.894531523318169,
          0.8937973323993726,
          0.8938687987758572,
          0.893390824473749,
          0.8928746994566606,
          0.8921541675862853,
          0.8921732151498675,
          0.8923164155278885,
          0.8922687100238346,
          0.8923365132652014,
          0.8916550891351199,
          0.891024164252741,
          0.8900498087021277,
          0.8894314637158377,
          0.8894222308899267,
          0.8890219343647261,
          0.8889092443073923,
          0.889083363351634,
          0.8888091601359795,
          0.8885781961334922,
          0.8882045022094975,
          0.8876539667164745,
          0.8875417189917645,
          0.887524276930695,
          0.8873319401626936,
          0.8872548496225933,
          0.886513664541552,
          0.8866799376792669,
          0.8852606919729269,
          0.8849317903586326,
          0.8830124658594688,
          0.8828074658623217,
          0.8831030059734741,
          0.8828066173154363,
          0.8800125697214878,
          0.8804094828235519,
          0.8801425029210823,
          0.879377115306522,
          0.8793897332624564,
          0.8791835886900592,
          0.8790062737439757,
          0.8785758724605865,
          0.8780355230659436,
          0.8776527709261056,
          0.8773044167541387,
          0.8769106801222528,
          0.8761279192026243,
          0.8754056995499906,
          0.8747991872328418,
          0.8741316451896208,
          0.8733373416659707,
          0.873067265018936,
          0.872830407698875,
          0.8726717173362446,
          0.8723641741838655,
          0.8724596562754023,
          0.8723052753011733,
          0.871996786984554,
          0.8714023631085802,
          0.8710580740444066,
          0.8702522139018731,
          0.8696661254526836,
          0.8692498673548541,
          0.8689553484097335,
          0.8685970072924368,
          0.8681728599547439,
          0.8675883830847524,
          0.867172691565469,
          0.8669398387606928,
          0.8664004104596759,
          0.8660244514187394,
          0.8657322793532362,
          0.8653482627223332,
          0.8650480645711582,
          0.8648446866425716,
          0.8646386658332386,
          0.8642845365629646,
          0.8639818767960528,
          0.8636538138234736,
          0.8634413604663558,
          0.8631006820747665,
          0.8624293984702546,
          0.8615879424823385,
          0.8607746513696517,
          0.8601956350364431,
          0.8606631206273878,
          0.8604886161986133,
          0.8600861263237581,
          0.8597864112750571,
          0.8592684902190169,
          0.8587975112513797,
          0.8583392643592038,
          0.8581153771877016,
          0.8577464967709598,
          0.8572547677393041,
          0.857200611713185,
          0.8563803267190138,
          0.855568615770116,
          0.8549114236452102,
          0.8542746253844911,
          0.85340260731829,
          0.8527757556497154,
          0.8523946745868264,
          0.8522085475719163,
          0.8519511456540654,
          0.8518843401386806,
          0.8518542611803591,
          0.8514072473306314,
          0.8513484380741723,
          0.851246876327665,
          0.850629131867218,
          0.8497720646753086,
          0.8488377392347561,
          0.8485280029518464,
          0.8483477657079918,
          0.8478892438655654,
          0.8473724879184196,
          0.8468229809312839,
          0.8469702730817689,
          0.846988940560635,
          0.8466775222610063,
          0.8462716731261519,
          0.8457139318123044,
          0.8449123253616961,
          0.8441276861210909,
          0.8433827918295628,
          0.842859641441185,
          0.8425424429740421,
          0.8421158012011971,
          0.8417066532879682,
          0.8414730405209805,
          0.8410505756774651,
          0.8407457337349158,
          0.8406388249802113,
          0.8402165122744483,
          0.839684826323605,
          0.8391359120279813,
          0.8385246826077895,
          0.8380203939904736,
          0.8373614208346495,
          0.8371162538665013,
          0.8370019560467111,
          0.8365546565105229,
          0.8363857577419417,
          0.8361080475993352,
          0.8356735481250237,
          0.8354666515336919,
          0.8349035269074886,
          0.8346754149922053,
          0.8342666641968212,
          0.8339781040087528,
          0.8336448825634393,
          0.8336002917567775,
          0.8332208378174634,
          0.8331140496209716,
          0.833138239578529,
          0.8327895536054337,
          0.8323722575385932,
          0.831993447167839,
          0.8313507355364702,
          0.8305959798663831,
          0.8300696186712797,
          0.8293806458395672,
          0.8286566840119807,
          0.8280571963847323,
          0.8275893578051962,
          0.8274935166202955,
          0.8270782440415955,
          0.8269434771366179,
          0.8265235705449359,
          0.8260601124160722,
          0.8253788392241199,
          0.8248933235180002,
          0.8241938335601945,
          0.823813155680586,
          0.8231902721426941,
          0.8226931287511439,
          0.8223895740607072,
          0.8222864436854802,
          0.8218740342580677,
          0.8213658952489541,
          0.820940312839471,
          0.8204894234943714,
          0.820012998092261,
          0.8198802450443917,
          0.8201496332323022,
          0.8205183892207113,
          0.8205851233809706,
          0.8205182977807634,
          0.8204922915467874,
          0.8203747767859457,
          0.82037391297876,
          0.8202008575439634,
          0.8195001066652365,
          0.8188199504999527,
          0.8184534821275321,
          0.8180593662425513,
          0.8176701153927484,
          0.8170681048416095,
          0.8168199771213185,
          0.8164820171631119,
          0.816179185303765,
          0.8159776244143836,
          0.8159528583017241,
          0.8158118827009151,
          0.8155498528894782,
          0.8152140751385744,
          0.8145525243566534,
          0.8138747608179312,
          0.8134094439187262,
          0.812794285829981,
          0.8124415872985415,
          0.8120628303979427,
          0.8114776458265968,
          0.8109369797742398,
          0.8102642756956769,
          0.8099142445697873,
          0.8094742800134095,
          0.8096275884864481,
          0.8093949163552894,
          0.8089445015159329,
          0.8084182455761678,
          0.8080844710170503,
          0.8077355267915004,
          0.8073716157455583,
          0.807057297176314,
          0.8065454151929509,
          0.8064340405430888,
          0.806279769876429,
          0.8060712121356655,
          0.805237663149531,
          0.8038915361593527,
          0.8029706565588319,
          0.8022652390058824,
          0.8017037296376784,
          0.8012000123540857,
          0.8011617651025568,
          0.801079018991556,
          0.800699807442399,
          0.8002901216916485,
          0.7998629939223229,
          0.7993416496870295,
          0.7987719847788435,
          0.7980592402773966,
          0.7978043580728466,
          0.7975259246546715,
          0.7973358735633482,
          0.7970939866344579,
          0.7965498692208274,
          0.796149852590381,
          0.7955260717505692,
          0.7947969163359674,
          0.7942878258962185,
          0.7940637374281091,
          0.7937406007580646,
          0.793374625231906,
          0.7931245929362006,
          0.7922724469938284,
          0.7921035978158095,
          0.7917601681873222,
          0.7913529262752486,
          0.7910019929373928,
          0.7909332794120948,
          0.7901678051742937,
          0.7898378974656359,
          0.7895587132568005,
          0.7890781879547049,
          0.7887658301553113,
          0.7882104782642797,
          0.7874346348323497,
          0.7869211651010312,
          0.7861863289446712,
          0.7856595104246837,
          0.7848488137585057,
          0.7844895934272279,
          0.7837201189306913,
          0.7836033297420923,
          0.7833760580615912,
          0.7827971169479178,
          0.7825153785708183,
          0.7817922780929436,
          0.7810012203924686,
          0.7800885386668891,
          0.7791549880805917,
          0.7782323961243347,
          0.7775547363122868,
          0.7773292411875417,
          0.7763780616358049,
          0.7756689107578318,
          0.774753986243928,
          0.7744240832568134,
          0.7743140808486308,
          0.7743985975245606,
          0.7745966991479476,
          0.7744393032440476,
          0.7744962346252022,
          0.774534262891892,
          0.7743926073270752,
          0.7743633746491847,
          0.7743019650156383,
          0.7739319311326045,
          0.7735365078930805,
          0.7731359077824598,
          0.7728624131841282,
          0.7727753389871282,
          0.7719811277938136,
          0.7717516503616076,
          0.7712828681245238,
          0.7708086119032931,
          0.7703387492062859,
          0.769627365338564,
          0.7689400777863711,
          0.7684604569017806,
          0.768108283380061,
          0.7678030725627194,
          0.7673064620188572,
          0.7666865131974709,
          0.7656675056520876,
          0.7653518450876412,
          0.7647930703918251,
          0.7651622721080545,
          0.7642622015290323,
          0.7637835766308585,
          0.7631374216730202,
          0.762243643768472,
          0.7616188616877975,
          0.7614089033353562,
          0.7605314019397454,
          0.7600499136434411,
          0.7593988287253277,
          0.7589734960316781,
          0.7584899090026581,
          0.7581394400602571,
          0.7578091639950411,
          0.7578180437684652,
          0.7534154230149724,
          0.7687934563461283,
          0.7701136747542373,
          0.7706609925597383,
          0.7708276187921632,
          0.7709903372727447,
          0.7713015128249002,
          0.7716236633616174,
          0.7713697232423059,
          0.7705957257793156,
          0.7697196073745487,
          0.7691319662071782,
          0.7689604092966535,
          0.768868837202338,
          0.7680649892415372,
          0.7675204347632307,
          0.7672632949099526,
          0.7670635891647037,
          0.7670150327329883,
          0.7666880937325583,
          0.7659567965795843,
          0.7652616828460373,
          0.7648587749166905,
          0.764419355419725,
          0.7641052112980852,
          0.7636811007416008,
          0.7633899226407352,
          0.7627899219393768,
          0.7616737999542353,
          0.7608485869419203,
          0.7596449835826982,
          0.7593777458967553,
          0.758952998834093,
          0.7585177822296424,
          0.7582313802146824,
          0.7579623465791783,
          0.7578547668415747,
          0.7575351398158345,
          0.756523734552174,
          0.7566706385093751,
          0.7563089802249217,
          0.756144770258361,
          0.7559129817793656,
          0.7552103265399925,
          0.7544381068816601,
          0.7542221930686995,
          0.7536531571560722,
          0.7528372966660317,
          0.7528899029024229,
          0.7527954090111764,
          0.7520357158304283,
          0.7511781282903442,
          0.7501364902965116,
          0.7496978103607398,
          0.7493784329805393,
          0.7487346256932399,
          0.7483104294898578,
          0.7479854301342549,
          0.7473489896398716,
          0.7465778668831231,
          0.7461730745531429,
          0.7454381073849294,
          0.7449414971302774,
          0.7443040663805822,
          0.7434304500866067,
          0.7429444645353114,
          0.7424951199299867,
          0.7420540075573631,
          0.741498482149143,
          0.7407976845743276,
          0.7398255545868129,
          0.7390453043067869,
          0.7392699123907305,
          0.7387652628796061,
          0.7380978031561816,
          0.7375321311145409,
          0.7367628440772677,
          0.7362063219026473,
          0.7359216913557218,
          0.735248947120023,
          0.7345000560845539,
          0.7341381253095578,
          0.7335170624149543,
          0.7330055926545214,
          0.7323335327267223,
          0.7318636483095557,
          0.7311370719522048,
          0.7304530699788451,
          0.7297154128290486,
          0.729670134175948,
          0.7287544250373311,
          0.7276025532546919,
          0.7265967724023984,
          0.7254493387405652,
          0.7248165675220575,
          0.7238055090181525,
          0.7228524975497724,
          0.7220263815331492,
          0.7214070577779675,
          0.7205471195860436,
          0.7194306174172812,
          0.7185127598506316,
          0.7179346951529817,
          0.7171342077743165,
          0.7160077525045786,
          0.7151761735356158,
          0.7140819515261128,
          0.7129634827454044,
          0.7123436204255784,
          0.71146311978294,
          0.7104354687026384,
          0.7091167143987481,
          0.7079965339626597,
          0.706778759522124,
          0.7055961189002666,
          0.7043695047427461,
          1.2297741028814533
         ]
        }
       ],
       "layout": {
        "legend": {
         "x": 0.01,
         "y": 0.99
        },
        "template": {
         "data": {
          "bar": [
           {
            "error_x": {
             "color": "#2a3f5f"
            },
            "error_y": {
             "color": "#2a3f5f"
            },
            "marker": {
             "line": {
              "color": "white",
              "width": 0.5
             },
             "pattern": {
              "fillmode": "overlay",
              "size": 10,
              "solidity": 0.2
             }
            },
            "type": "bar"
           }
          ],
          "barpolar": [
           {
            "marker": {
             "line": {
              "color": "white",
              "width": 0.5
             },
             "pattern": {
              "fillmode": "overlay",
              "size": 10,
              "solidity": 0.2
             }
            },
            "type": "barpolar"
           }
          ],
          "carpet": [
           {
            "aaxis": {
             "endlinecolor": "#2a3f5f",
             "gridcolor": "#C8D4E3",
             "linecolor": "#C8D4E3",
             "minorgridcolor": "#C8D4E3",
             "startlinecolor": "#2a3f5f"
            },
            "baxis": {
             "endlinecolor": "#2a3f5f",
             "gridcolor": "#C8D4E3",
             "linecolor": "#C8D4E3",
             "minorgridcolor": "#C8D4E3",
             "startlinecolor": "#2a3f5f"
            },
            "type": "carpet"
           }
          ],
          "choropleth": [
           {
            "colorbar": {
             "outlinewidth": 0,
             "ticks": ""
            },
            "type": "choropleth"
           }
          ],
          "contour": [
           {
            "colorbar": {
             "outlinewidth": 0,
             "ticks": ""
            },
            "colorscale": [
             [
              0,
              "#0d0887"
             ],
             [
              0.1111111111111111,
              "#46039f"
             ],
             [
              0.2222222222222222,
              "#7201a8"
             ],
             [
              0.3333333333333333,
              "#9c179e"
             ],
             [
              0.4444444444444444,
              "#bd3786"
             ],
             [
              0.5555555555555556,
              "#d8576b"
             ],
             [
              0.6666666666666666,
              "#ed7953"
             ],
             [
              0.7777777777777778,
              "#fb9f3a"
             ],
             [
              0.8888888888888888,
              "#fdca26"
             ],
             [
              1,
              "#f0f921"
             ]
            ],
            "type": "contour"
           }
          ],
          "contourcarpet": [
           {
            "colorbar": {
             "outlinewidth": 0,
             "ticks": ""
            },
            "type": "contourcarpet"
           }
          ],
          "heatmap": [
           {
            "colorbar": {
             "outlinewidth": 0,
             "ticks": ""
            },
            "colorscale": [
             [
              0,
              "#0d0887"
             ],
             [
              0.1111111111111111,
              "#46039f"
             ],
             [
              0.2222222222222222,
              "#7201a8"
             ],
             [
              0.3333333333333333,
              "#9c179e"
             ],
             [
              0.4444444444444444,
              "#bd3786"
             ],
             [
              0.5555555555555556,
              "#d8576b"
             ],
             [
              0.6666666666666666,
              "#ed7953"
             ],
             [
              0.7777777777777778,
              "#fb9f3a"
             ],
             [
              0.8888888888888888,
              "#fdca26"
             ],
             [
              1,
              "#f0f921"
             ]
            ],
            "type": "heatmap"
           }
          ],
          "histogram": [
           {
            "marker": {
             "pattern": {
              "fillmode": "overlay",
              "size": 10,
              "solidity": 0.2
             }
            },
            "type": "histogram"
           }
          ],
          "histogram2d": [
           {
            "colorbar": {
             "outlinewidth": 0,
             "ticks": ""
            },
            "colorscale": [
             [
              0,
              "#0d0887"
             ],
             [
              0.1111111111111111,
              "#46039f"
             ],
             [
              0.2222222222222222,
              "#7201a8"
             ],
             [
              0.3333333333333333,
              "#9c179e"
             ],
             [
              0.4444444444444444,
              "#bd3786"
             ],
             [
              0.5555555555555556,
              "#d8576b"
             ],
             [
              0.6666666666666666,
              "#ed7953"
             ],
             [
              0.7777777777777778,
              "#fb9f3a"
             ],
             [
              0.8888888888888888,
              "#fdca26"
             ],
             [
              1,
              "#f0f921"
             ]
            ],
            "type": "histogram2d"
           }
          ],
          "histogram2dcontour": [
           {
            "colorbar": {
             "outlinewidth": 0,
             "ticks": ""
            },
            "colorscale": [
             [
              0,
              "#0d0887"
             ],
             [
              0.1111111111111111,
              "#46039f"
             ],
             [
              0.2222222222222222,
              "#7201a8"
             ],
             [
              0.3333333333333333,
              "#9c179e"
             ],
             [
              0.4444444444444444,
              "#bd3786"
             ],
             [
              0.5555555555555556,
              "#d8576b"
             ],
             [
              0.6666666666666666,
              "#ed7953"
             ],
             [
              0.7777777777777778,
              "#fb9f3a"
             ],
             [
              0.8888888888888888,
              "#fdca26"
             ],
             [
              1,
              "#f0f921"
             ]
            ],
            "type": "histogram2dcontour"
           }
          ],
          "mesh3d": [
           {
            "colorbar": {
             "outlinewidth": 0,
             "ticks": ""
            },
            "type": "mesh3d"
           }
          ],
          "parcoords": [
           {
            "line": {
             "colorbar": {
              "outlinewidth": 0,
              "ticks": ""
             }
            },
            "type": "parcoords"
           }
          ],
          "pie": [
           {
            "automargin": true,
            "type": "pie"
           }
          ],
          "scatter": [
           {
            "fillpattern": {
             "fillmode": "overlay",
             "size": 10,
             "solidity": 0.2
            },
            "type": "scatter"
           }
          ],
          "scatter3d": [
           {
            "line": {
             "colorbar": {
              "outlinewidth": 0,
              "ticks": ""
             }
            },
            "marker": {
             "colorbar": {
              "outlinewidth": 0,
              "ticks": ""
             }
            },
            "type": "scatter3d"
           }
          ],
          "scattercarpet": [
           {
            "marker": {
             "colorbar": {
              "outlinewidth": 0,
              "ticks": ""
             }
            },
            "type": "scattercarpet"
           }
          ],
          "scattergeo": [
           {
            "marker": {
             "colorbar": {
              "outlinewidth": 0,
              "ticks": ""
             }
            },
            "type": "scattergeo"
           }
          ],
          "scattergl": [
           {
            "marker": {
             "colorbar": {
              "outlinewidth": 0,
              "ticks": ""
             }
            },
            "type": "scattergl"
           }
          ],
          "scattermap": [
           {
            "marker": {
             "colorbar": {
              "outlinewidth": 0,
              "ticks": ""
             }
            },
            "type": "scattermap"
           }
          ],
          "scattermapbox": [
           {
            "marker": {
             "colorbar": {
              "outlinewidth": 0,
              "ticks": ""
             }
            },
            "type": "scattermapbox"
           }
          ],
          "scatterpolar": [
           {
            "marker": {
             "colorbar": {
              "outlinewidth": 0,
              "ticks": ""
             }
            },
            "type": "scatterpolar"
           }
          ],
          "scatterpolargl": [
           {
            "marker": {
             "colorbar": {
              "outlinewidth": 0,
              "ticks": ""
             }
            },
            "type": "scatterpolargl"
           }
          ],
          "scatterternary": [
           {
            "marker": {
             "colorbar": {
              "outlinewidth": 0,
              "ticks": ""
             }
            },
            "type": "scatterternary"
           }
          ],
          "surface": [
           {
            "colorbar": {
             "outlinewidth": 0,
             "ticks": ""
            },
            "colorscale": [
             [
              0,
              "#0d0887"
             ],
             [
              0.1111111111111111,
              "#46039f"
             ],
             [
              0.2222222222222222,
              "#7201a8"
             ],
             [
              0.3333333333333333,
              "#9c179e"
             ],
             [
              0.4444444444444444,
              "#bd3786"
             ],
             [
              0.5555555555555556,
              "#d8576b"
             ],
             [
              0.6666666666666666,
              "#ed7953"
             ],
             [
              0.7777777777777778,
              "#fb9f3a"
             ],
             [
              0.8888888888888888,
              "#fdca26"
             ],
             [
              1,
              "#f0f921"
             ]
            ],
            "type": "surface"
           }
          ],
          "table": [
           {
            "cells": {
             "fill": {
              "color": "#EBF0F8"
             },
             "line": {
              "color": "white"
             }
            },
            "header": {
             "fill": {
              "color": "#C8D4E3"
             },
             "line": {
              "color": "white"
             }
            },
            "type": "table"
           }
          ]
         },
         "layout": {
          "annotationdefaults": {
           "arrowcolor": "#2a3f5f",
           "arrowhead": 0,
           "arrowwidth": 1
          },
          "autotypenumbers": "strict",
          "coloraxis": {
           "colorbar": {
            "outlinewidth": 0,
            "ticks": ""
           }
          },
          "colorscale": {
           "diverging": [
            [
             0,
             "#8e0152"
            ],
            [
             0.1,
             "#c51b7d"
            ],
            [
             0.2,
             "#de77ae"
            ],
            [
             0.3,
             "#f1b6da"
            ],
            [
             0.4,
             "#fde0ef"
            ],
            [
             0.5,
             "#f7f7f7"
            ],
            [
             0.6,
             "#e6f5d0"
            ],
            [
             0.7,
             "#b8e186"
            ],
            [
             0.8,
             "#7fbc41"
            ],
            [
             0.9,
             "#4d9221"
            ],
            [
             1,
             "#276419"
            ]
           ],
           "sequential": [
            [
             0,
             "#0d0887"
            ],
            [
             0.1111111111111111,
             "#46039f"
            ],
            [
             0.2222222222222222,
             "#7201a8"
            ],
            [
             0.3333333333333333,
             "#9c179e"
            ],
            [
             0.4444444444444444,
             "#bd3786"
            ],
            [
             0.5555555555555556,
             "#d8576b"
            ],
            [
             0.6666666666666666,
             "#ed7953"
            ],
            [
             0.7777777777777778,
             "#fb9f3a"
            ],
            [
             0.8888888888888888,
             "#fdca26"
            ],
            [
             1,
             "#f0f921"
            ]
           ],
           "sequentialminus": [
            [
             0,
             "#0d0887"
            ],
            [
             0.1111111111111111,
             "#46039f"
            ],
            [
             0.2222222222222222,
             "#7201a8"
            ],
            [
             0.3333333333333333,
             "#9c179e"
            ],
            [
             0.4444444444444444,
             "#bd3786"
            ],
            [
             0.5555555555555556,
             "#d8576b"
            ],
            [
             0.6666666666666666,
             "#ed7953"
            ],
            [
             0.7777777777777778,
             "#fb9f3a"
            ],
            [
             0.8888888888888888,
             "#fdca26"
            ],
            [
             1,
             "#f0f921"
            ]
           ]
          },
          "colorway": [
           "#636efa",
           "#EF553B",
           "#00cc96",
           "#ab63fa",
           "#FFA15A",
           "#19d3f3",
           "#FF6692",
           "#B6E880",
           "#FF97FF",
           "#FECB52"
          ],
          "font": {
           "color": "#2a3f5f"
          },
          "geo": {
           "bgcolor": "white",
           "lakecolor": "white",
           "landcolor": "white",
           "showlakes": true,
           "showland": true,
           "subunitcolor": "#C8D4E3"
          },
          "hoverlabel": {
           "align": "left"
          },
          "hovermode": "closest",
          "mapbox": {
           "style": "light"
          },
          "paper_bgcolor": "white",
          "plot_bgcolor": "white",
          "polar": {
           "angularaxis": {
            "gridcolor": "#EBF0F8",
            "linecolor": "#EBF0F8",
            "ticks": ""
           },
           "bgcolor": "white",
           "radialaxis": {
            "gridcolor": "#EBF0F8",
            "linecolor": "#EBF0F8",
            "ticks": ""
           }
          },
          "scene": {
           "xaxis": {
            "backgroundcolor": "white",
            "gridcolor": "#DFE8F3",
            "gridwidth": 2,
            "linecolor": "#EBF0F8",
            "showbackground": true,
            "ticks": "",
            "zerolinecolor": "#EBF0F8"
           },
           "yaxis": {
            "backgroundcolor": "white",
            "gridcolor": "#DFE8F3",
            "gridwidth": 2,
            "linecolor": "#EBF0F8",
            "showbackground": true,
            "ticks": "",
            "zerolinecolor": "#EBF0F8"
           },
           "zaxis": {
            "backgroundcolor": "white",
            "gridcolor": "#DFE8F3",
            "gridwidth": 2,
            "linecolor": "#EBF0F8",
            "showbackground": true,
            "ticks": "",
            "zerolinecolor": "#EBF0F8"
           }
          },
          "shapedefaults": {
           "line": {
            "color": "#2a3f5f"
           }
          },
          "ternary": {
           "aaxis": {
            "gridcolor": "#DFE8F3",
            "linecolor": "#A2B1C6",
            "ticks": ""
           },
           "baxis": {
            "gridcolor": "#DFE8F3",
            "linecolor": "#A2B1C6",
            "ticks": ""
           },
           "bgcolor": "white",
           "caxis": {
            "gridcolor": "#DFE8F3",
            "linecolor": "#A2B1C6",
            "ticks": ""
           }
          },
          "title": {
           "x": 0.05
          },
          "xaxis": {
           "automargin": true,
           "gridcolor": "#EBF0F8",
           "linecolor": "#EBF0F8",
           "ticks": "",
           "title": {
            "standoff": 15
           },
           "zerolinecolor": "#EBF0F8",
           "zerolinewidth": 2
          },
          "yaxis": {
           "automargin": true,
           "gridcolor": "#EBF0F8",
           "linecolor": "#EBF0F8",
           "ticks": "",
           "title": {
            "standoff": 15
           },
           "zerolinecolor": "#EBF0F8",
           "zerolinewidth": 2
          }
         }
        },
        "title": {
         "text": "Two List Plot"
        },
        "xaxis": {
         "title": {
          "text": "Index"
         }
        },
        "yaxis": {
         "title": {
          "text": "Value"
         }
        }
       }
      }
     },
     "metadata": {},
     "output_type": "display_data"
    }
   ],
   "source": [
    "plot_two_lists(summary_caps, records_caps, name1=\"Summary\", name2=\"Records\")"
   ]
  },
  {
   "cell_type": "code",
   "execution_count": null,
   "id": "d2a76356",
   "metadata": {},
   "outputs": [],
   "source": []
  }
 ],
 "metadata": {
  "kernelspec": {
   "display_name": "py310",
   "language": "python",
   "name": "python3"
  },
  "language_info": {
   "codemirror_mode": {
    "name": "ipython",
    "version": 3
   },
   "file_extension": ".py",
   "mimetype": "text/x-python",
   "name": "python",
   "nbconvert_exporter": "python",
   "pygments_lexer": "ipython3",
   "version": "3.10.12"
  }
 },
 "nbformat": 4,
 "nbformat_minor": 5
}
