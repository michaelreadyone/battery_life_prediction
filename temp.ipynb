{
 "cells": [
  {
   "cell_type": "code",
   "execution_count": 1,
   "id": "3f74b741",
   "metadata": {},
   "outputs": [
    {
     "data": {
      "text/plain": [
       "57"
      ]
     },
     "execution_count": 1,
     "metadata": {},
     "output_type": "execute_result"
    }
   ],
   "source": [
    "ord('z') - ord('A')"
   ]
  },
  {
   "cell_type": "code",
   "execution_count": 2,
   "id": "deb33321",
   "metadata": {},
   "outputs": [
    {
     "data": {
      "text/plain": [
       "25"
      ]
     },
     "execution_count": 2,
     "metadata": {},
     "output_type": "execute_result"
    }
   ],
   "source": [
    "ord('z') - ord('a')"
   ]
  },
  {
   "cell_type": "code",
   "execution_count": 14,
   "id": "9622aaf2",
   "metadata": {},
   "outputs": [
    {
     "name": "stdout",
     "output_type": "stream",
     "text": [
      "[3.4, 3.36, 3.32, 3.28, 3.24, 3.2, 3.16, 3.12, 3.08, 3.04, 3.0, 2.96, 2.92, 2.88, 2.84]\n"
     ]
    }
   ],
   "source": [
    "import numpy as np\n",
    "print([i/100 for i in list(np.arange(340, 280, -4))])"
   ]
  },
  {
   "cell_type": "code",
   "execution_count": null,
   "id": "9077cff2",
   "metadata": {},
   "outputs": [],
   "source": [
    "import numpy as np\n",
    "points = np.linspace(2.8, 3.4, 17)\n",
    "points"
   ]
  }
 ],
 "metadata": {
  "kernelspec": {
   "display_name": "py310",
   "language": "python",
   "name": "python3"
  },
  "language_info": {
   "codemirror_mode": {
    "name": "ipython",
    "version": 3
   },
   "file_extension": ".py",
   "mimetype": "text/x-python",
   "name": "python",
   "nbconvert_exporter": "python",
   "pygments_lexer": "ipython3",
   "version": "3.10.12"
  }
 },
 "nbformat": 4,
 "nbformat_minor": 5
}
